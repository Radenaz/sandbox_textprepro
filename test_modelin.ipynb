{
 "cells": [
  {
   "cell_type": "code",
   "execution_count": 1,
   "metadata": {},
   "outputs": [],
   "source": [
    "import pandas as pd\n",
    "import asyncio\n",
    "import re\n",
    "from nltk.corpus import stopwords\n",
    "from nltk.tokenize import word_tokenize\n",
    "from nltk.stem import WordNetLemmatizer\n",
    "from Sastrawi.Stemmer.StemmerFactory import StemmerFactory\n",
    "import contractions\n",
    "from googletrans import Translator\n",
    "import json\n",
    "import os\n",
    "from datetime import datetime, timedelta\n",
    "import matplotlib.pyplot as plt\n",
    "from wordcloud import WordCloud\n",
    "from collections import Counter\n",
    "from sklearn.feature_extraction.text import CountVectorizer\n",
    "from gensim.corpora import Dictionary\n",
    "\n",
    "from gensim.models import LdaModel\n",
    "\n",
    "\n",
    "import nest_asyncio\n",
    "nest_asyncio.apply()"
   ]
  },
  {
   "cell_type": "code",
   "execution_count": 2,
   "metadata": {},
   "outputs": [],
   "source": [
    "# load data\n",
    "df = pd.read_csv('prepro_cleaned_reviews.csv')"
   ]
  },
  {
   "cell_type": "code",
   "execution_count": 3,
   "metadata": {},
   "outputs": [
    {
     "data": {
      "text/html": [
       "<div>\n",
       "<style scoped>\n",
       "    .dataframe tbody tr th:only-of-type {\n",
       "        vertical-align: middle;\n",
       "    }\n",
       "\n",
       "    .dataframe tbody tr th {\n",
       "        vertical-align: top;\n",
       "    }\n",
       "\n",
       "    .dataframe thead th {\n",
       "        text-align: right;\n",
       "    }\n",
       "</style>\n",
       "<table border=\"1\" class=\"dataframe\">\n",
       "  <thead>\n",
       "    <tr style=\"text-align: right;\">\n",
       "      <th></th>\n",
       "      <th>rating</th>\n",
       "      <th>reviews</th>\n",
       "      <th>company</th>\n",
       "      <th>province</th>\n",
       "      <th>parsed_date</th>\n",
       "      <th>processed_reviews</th>\n",
       "    </tr>\n",
       "  </thead>\n",
       "  <tbody>\n",
       "    <tr>\n",
       "      <th>0</th>\n",
       "      <td>5</td>\n",
       "      <td>Located at the Padang Old City area, just arou...</td>\n",
       "      <td>JNE</td>\n",
       "      <td>Aceh</td>\n",
       "      <td>2024-04-25</td>\n",
       "      <td>letak kawasan kota tua padang jembatan siti nu...</td>\n",
       "    </tr>\n",
       "    <tr>\n",
       "      <th>1</th>\n",
       "      <td>1</td>\n",
       "      <td>Bad service given to customers, my own experie...</td>\n",
       "      <td>JNE</td>\n",
       "      <td>Aceh</td>\n",
       "      <td>2021-01-21</td>\n",
       "      <td>layan buruk langgan alam ambil jasa kirim kelu...</td>\n",
       "    </tr>\n",
       "    <tr>\n",
       "      <th>2</th>\n",
       "      <td>5</td>\n",
       "      <td>Nice Place, they're working on rebuild their o...</td>\n",
       "      <td>JNE</td>\n",
       "      <td>Aceh</td>\n",
       "      <td>2022-01-21</td>\n",
       "      <td>bagus upaya bangun kantor orang orang hebat layan</td>\n",
       "    </tr>\n",
       "    <tr>\n",
       "      <th>3</th>\n",
       "      <td>5</td>\n",
       "      <td>Good delivery service for customers in this co...</td>\n",
       "      <td>JNE</td>\n",
       "      <td>Aceh</td>\n",
       "      <td>2023-01-21</td>\n",
       "      <td>kirim langgan negara</td>\n",
       "    </tr>\n",
       "    <tr>\n",
       "      <th>4</th>\n",
       "      <td>5</td>\n",
       "      <td>Good service</td>\n",
       "      <td>JNE</td>\n",
       "      <td>Aceh</td>\n",
       "      <td>2022-01-21</td>\n",
       "      <td>layan bagus</td>\n",
       "    </tr>\n",
       "    <tr>\n",
       "      <th>...</th>\n",
       "      <td>...</td>\n",
       "      <td>...</td>\n",
       "      <td>...</td>\n",
       "      <td>...</td>\n",
       "      <td>...</td>\n",
       "      <td>...</td>\n",
       "    </tr>\n",
       "    <tr>\n",
       "      <th>17659</th>\n",
       "      <td>1</td>\n",
       "      <td>Kargo Silambat</td>\n",
       "      <td>Sicepat</td>\n",
       "      <td>Sumatera Utara</td>\n",
       "      <td>2021-01-21</td>\n",
       "      <td>kargo lambat</td>\n",
       "    </tr>\n",
       "    <tr>\n",
       "      <th>17660</th>\n",
       "      <td>1</td>\n",
       "      <td>SILELET CEMBRETTTTTT</td>\n",
       "      <td>Sicepat</td>\n",
       "      <td>Sumatera Utara</td>\n",
       "      <td>2021-01-21</td>\n",
       "      <td>lambat cembret</td>\n",
       "    </tr>\n",
       "    <tr>\n",
       "      <th>17661</th>\n",
       "      <td>1</td>\n",
       "      <td>Lambat sekali....</td>\n",
       "      <td>Sicepat</td>\n",
       "      <td>Sumatera Utara</td>\n",
       "      <td>2021-01-21</td>\n",
       "      <td>lambat</td>\n",
       "    </tr>\n",
       "    <tr>\n",
       "      <th>17662</th>\n",
       "      <td>1</td>\n",
       "      <td>KERAS!!!!!</td>\n",
       "      <td>Sicepat</td>\n",
       "      <td>Sumatera Utara</td>\n",
       "      <td>2021-01-21</td>\n",
       "      <td>keras</td>\n",
       "    </tr>\n",
       "    <tr>\n",
       "      <th>17663</th>\n",
       "      <td>5</td>\n",
       "      <td>Sicepat adalah yang terbaik</td>\n",
       "      <td>Sicepat</td>\n",
       "      <td>Sumatera Utara</td>\n",
       "      <td>2021-01-21</td>\n",
       "      <td>baik</td>\n",
       "    </tr>\n",
       "  </tbody>\n",
       "</table>\n",
       "<p>17664 rows × 6 columns</p>\n",
       "</div>"
      ],
      "text/plain": [
       "       rating                                            reviews  company  \\\n",
       "0           5  Located at the Padang Old City area, just arou...      JNE   \n",
       "1           1  Bad service given to customers, my own experie...      JNE   \n",
       "2           5  Nice Place, they're working on rebuild their o...      JNE   \n",
       "3           5  Good delivery service for customers in this co...      JNE   \n",
       "4           5                                       Good service      JNE   \n",
       "...       ...                                                ...      ...   \n",
       "17659       1                                     Kargo Silambat  Sicepat   \n",
       "17660       1                               SILELET CEMBRETTTTTT  Sicepat   \n",
       "17661       1                                  Lambat sekali....  Sicepat   \n",
       "17662       1                                         KERAS!!!!!  Sicepat   \n",
       "17663       5                        Sicepat adalah yang terbaik  Sicepat   \n",
       "\n",
       "             province parsed_date  \\\n",
       "0                Aceh  2024-04-25   \n",
       "1                Aceh  2021-01-21   \n",
       "2                Aceh  2022-01-21   \n",
       "3                Aceh  2023-01-21   \n",
       "4                Aceh  2022-01-21   \n",
       "...               ...         ...   \n",
       "17659  Sumatera Utara  2021-01-21   \n",
       "17660  Sumatera Utara  2021-01-21   \n",
       "17661  Sumatera Utara  2021-01-21   \n",
       "17662  Sumatera Utara  2021-01-21   \n",
       "17663  Sumatera Utara  2021-01-21   \n",
       "\n",
       "                                       processed_reviews  \n",
       "0      letak kawasan kota tua padang jembatan siti nu...  \n",
       "1      layan buruk langgan alam ambil jasa kirim kelu...  \n",
       "2      bagus upaya bangun kantor orang orang hebat layan  \n",
       "3                                   kirim langgan negara  \n",
       "4                                            layan bagus  \n",
       "...                                                  ...  \n",
       "17659                                       kargo lambat  \n",
       "17660                                     lambat cembret  \n",
       "17661                                             lambat  \n",
       "17662                                              keras  \n",
       "17663                                               baik  \n",
       "\n",
       "[17664 rows x 6 columns]"
      ]
     },
     "execution_count": 3,
     "metadata": {},
     "output_type": "execute_result"
    }
   ],
   "source": [
    "df"
   ]
  },
  {
   "cell_type": "code",
   "execution_count": 4,
   "metadata": {},
   "outputs": [
    {
     "name": "stdout",
     "output_type": "stream",
     "text": [
      "<class 'pandas.core.frame.DataFrame'>\n",
      "RangeIndex: 17664 entries, 0 to 17663\n",
      "Data columns (total 6 columns):\n",
      " #   Column             Non-Null Count  Dtype \n",
      "---  ------             --------------  ----- \n",
      " 0   rating             17664 non-null  int64 \n",
      " 1   reviews            17664 non-null  object\n",
      " 2   company            17664 non-null  object\n",
      " 3   province           17664 non-null  object\n",
      " 4   parsed_date        17664 non-null  object\n",
      " 5   processed_reviews  17096 non-null  object\n",
      "dtypes: int64(1), object(5)\n",
      "memory usage: 828.1+ KB\n"
     ]
    }
   ],
   "source": [
    "df.info()"
   ]
  },
  {
   "cell_type": "code",
   "execution_count": 5,
   "metadata": {},
   "outputs": [],
   "source": [
    "modeling_df = df.copy()"
   ]
  },
  {
   "cell_type": "code",
   "execution_count": 6,
   "metadata": {},
   "outputs": [],
   "source": [
    "# Ensure the 'processed_reviews' column is treated as string\n",
    "modeling_df['processed_reviews'] = modeling_df['processed_reviews'].astype(str)\n",
    "\n",
    "# Tokenize the processed_reviews column\n",
    "modeling_df['tokenized_reviews'] = modeling_df['processed_reviews'].apply(word_tokenize)"
   ]
  },
  {
   "cell_type": "code",
   "execution_count": 7,
   "metadata": {},
   "outputs": [],
   "source": [
    "# # Save the result to a new CSV file\n",
    "# output_file = 'tokenized_reviews.csv'\n",
    "# modeling_df.to_csv(output_file, index=False)\n",
    "\n",
    "# print(f\"Tokenized reviews saved to {output_file}\")"
   ]
  },
  {
   "cell_type": "code",
   "execution_count": 8,
   "metadata": {},
   "outputs": [
    {
     "data": {
      "text/html": [
       "<div>\n",
       "<style scoped>\n",
       "    .dataframe tbody tr th:only-of-type {\n",
       "        vertical-align: middle;\n",
       "    }\n",
       "\n",
       "    .dataframe tbody tr th {\n",
       "        vertical-align: top;\n",
       "    }\n",
       "\n",
       "    .dataframe thead th {\n",
       "        text-align: right;\n",
       "    }\n",
       "</style>\n",
       "<table border=\"1\" class=\"dataframe\">\n",
       "  <thead>\n",
       "    <tr style=\"text-align: right;\">\n",
       "      <th></th>\n",
       "      <th>rating</th>\n",
       "      <th>reviews</th>\n",
       "      <th>company</th>\n",
       "      <th>province</th>\n",
       "      <th>parsed_date</th>\n",
       "      <th>processed_reviews</th>\n",
       "      <th>tokenized_reviews</th>\n",
       "    </tr>\n",
       "  </thead>\n",
       "  <tbody>\n",
       "    <tr>\n",
       "      <th>0</th>\n",
       "      <td>5</td>\n",
       "      <td>Located at the Padang Old City area, just arou...</td>\n",
       "      <td>JNE</td>\n",
       "      <td>Aceh</td>\n",
       "      <td>2024-04-25</td>\n",
       "      <td>letak kawasan kota tua padang jembatan siti nu...</td>\n",
       "      <td>[letak, kawasan, kota, tua, padang, jembatan, ...</td>\n",
       "    </tr>\n",
       "    <tr>\n",
       "      <th>1</th>\n",
       "      <td>1</td>\n",
       "      <td>Bad service given to customers, my own experie...</td>\n",
       "      <td>JNE</td>\n",
       "      <td>Aceh</td>\n",
       "      <td>2021-01-21</td>\n",
       "      <td>layan buruk langgan alam ambil jasa kirim kelu...</td>\n",
       "      <td>[layan, buruk, langgan, alam, ambil, jasa, kir...</td>\n",
       "    </tr>\n",
       "    <tr>\n",
       "      <th>2</th>\n",
       "      <td>5</td>\n",
       "      <td>Nice Place, they're working on rebuild their o...</td>\n",
       "      <td>JNE</td>\n",
       "      <td>Aceh</td>\n",
       "      <td>2022-01-21</td>\n",
       "      <td>bagus upaya bangun kantor orang orang hebat layan</td>\n",
       "      <td>[bagus, upaya, bangun, kantor, orang, orang, h...</td>\n",
       "    </tr>\n",
       "    <tr>\n",
       "      <th>3</th>\n",
       "      <td>5</td>\n",
       "      <td>Good delivery service for customers in this co...</td>\n",
       "      <td>JNE</td>\n",
       "      <td>Aceh</td>\n",
       "      <td>2023-01-21</td>\n",
       "      <td>kirim langgan negara</td>\n",
       "      <td>[kirim, langgan, negara]</td>\n",
       "    </tr>\n",
       "    <tr>\n",
       "      <th>4</th>\n",
       "      <td>5</td>\n",
       "      <td>Good service</td>\n",
       "      <td>JNE</td>\n",
       "      <td>Aceh</td>\n",
       "      <td>2022-01-21</td>\n",
       "      <td>layan bagus</td>\n",
       "      <td>[layan, bagus]</td>\n",
       "    </tr>\n",
       "    <tr>\n",
       "      <th>...</th>\n",
       "      <td>...</td>\n",
       "      <td>...</td>\n",
       "      <td>...</td>\n",
       "      <td>...</td>\n",
       "      <td>...</td>\n",
       "      <td>...</td>\n",
       "      <td>...</td>\n",
       "    </tr>\n",
       "    <tr>\n",
       "      <th>17659</th>\n",
       "      <td>1</td>\n",
       "      <td>Kargo Silambat</td>\n",
       "      <td>Sicepat</td>\n",
       "      <td>Sumatera Utara</td>\n",
       "      <td>2021-01-21</td>\n",
       "      <td>kargo lambat</td>\n",
       "      <td>[kargo, lambat]</td>\n",
       "    </tr>\n",
       "    <tr>\n",
       "      <th>17660</th>\n",
       "      <td>1</td>\n",
       "      <td>SILELET CEMBRETTTTTT</td>\n",
       "      <td>Sicepat</td>\n",
       "      <td>Sumatera Utara</td>\n",
       "      <td>2021-01-21</td>\n",
       "      <td>lambat cembret</td>\n",
       "      <td>[lambat, cembret]</td>\n",
       "    </tr>\n",
       "    <tr>\n",
       "      <th>17661</th>\n",
       "      <td>1</td>\n",
       "      <td>Lambat sekali....</td>\n",
       "      <td>Sicepat</td>\n",
       "      <td>Sumatera Utara</td>\n",
       "      <td>2021-01-21</td>\n",
       "      <td>lambat</td>\n",
       "      <td>[lambat]</td>\n",
       "    </tr>\n",
       "    <tr>\n",
       "      <th>17662</th>\n",
       "      <td>1</td>\n",
       "      <td>KERAS!!!!!</td>\n",
       "      <td>Sicepat</td>\n",
       "      <td>Sumatera Utara</td>\n",
       "      <td>2021-01-21</td>\n",
       "      <td>keras</td>\n",
       "      <td>[keras]</td>\n",
       "    </tr>\n",
       "    <tr>\n",
       "      <th>17663</th>\n",
       "      <td>5</td>\n",
       "      <td>Sicepat adalah yang terbaik</td>\n",
       "      <td>Sicepat</td>\n",
       "      <td>Sumatera Utara</td>\n",
       "      <td>2021-01-21</td>\n",
       "      <td>baik</td>\n",
       "      <td>[baik]</td>\n",
       "    </tr>\n",
       "  </tbody>\n",
       "</table>\n",
       "<p>17664 rows × 7 columns</p>\n",
       "</div>"
      ],
      "text/plain": [
       "       rating                                            reviews  company  \\\n",
       "0           5  Located at the Padang Old City area, just arou...      JNE   \n",
       "1           1  Bad service given to customers, my own experie...      JNE   \n",
       "2           5  Nice Place, they're working on rebuild their o...      JNE   \n",
       "3           5  Good delivery service for customers in this co...      JNE   \n",
       "4           5                                       Good service      JNE   \n",
       "...       ...                                                ...      ...   \n",
       "17659       1                                     Kargo Silambat  Sicepat   \n",
       "17660       1                               SILELET CEMBRETTTTTT  Sicepat   \n",
       "17661       1                                  Lambat sekali....  Sicepat   \n",
       "17662       1                                         KERAS!!!!!  Sicepat   \n",
       "17663       5                        Sicepat adalah yang terbaik  Sicepat   \n",
       "\n",
       "             province parsed_date  \\\n",
       "0                Aceh  2024-04-25   \n",
       "1                Aceh  2021-01-21   \n",
       "2                Aceh  2022-01-21   \n",
       "3                Aceh  2023-01-21   \n",
       "4                Aceh  2022-01-21   \n",
       "...               ...         ...   \n",
       "17659  Sumatera Utara  2021-01-21   \n",
       "17660  Sumatera Utara  2021-01-21   \n",
       "17661  Sumatera Utara  2021-01-21   \n",
       "17662  Sumatera Utara  2021-01-21   \n",
       "17663  Sumatera Utara  2021-01-21   \n",
       "\n",
       "                                       processed_reviews  \\\n",
       "0      letak kawasan kota tua padang jembatan siti nu...   \n",
       "1      layan buruk langgan alam ambil jasa kirim kelu...   \n",
       "2      bagus upaya bangun kantor orang orang hebat layan   \n",
       "3                                   kirim langgan negara   \n",
       "4                                            layan bagus   \n",
       "...                                                  ...   \n",
       "17659                                       kargo lambat   \n",
       "17660                                     lambat cembret   \n",
       "17661                                             lambat   \n",
       "17662                                              keras   \n",
       "17663                                               baik   \n",
       "\n",
       "                                       tokenized_reviews  \n",
       "0      [letak, kawasan, kota, tua, padang, jembatan, ...  \n",
       "1      [layan, buruk, langgan, alam, ambil, jasa, kir...  \n",
       "2      [bagus, upaya, bangun, kantor, orang, orang, h...  \n",
       "3                               [kirim, langgan, negara]  \n",
       "4                                         [layan, bagus]  \n",
       "...                                                  ...  \n",
       "17659                                    [kargo, lambat]  \n",
       "17660                                  [lambat, cembret]  \n",
       "17661                                           [lambat]  \n",
       "17662                                            [keras]  \n",
       "17663                                             [baik]  \n",
       "\n",
       "[17664 rows x 7 columns]"
      ]
     },
     "execution_count": 8,
     "metadata": {},
     "output_type": "execute_result"
    }
   ],
   "source": [
    "modeling_df"
   ]
  },
  {
   "cell_type": "code",
   "execution_count": 9,
   "metadata": {},
   "outputs": [],
   "source": [
    "tokenized_reviews = modeling_df['tokenized_reviews'].tolist()  # Convert the column to a list of lists\n",
    "dictionary = Dictionary(tokenized_reviews)"
   ]
  },
  {
   "cell_type": "code",
   "execution_count": 10,
   "metadata": {},
   "outputs": [
    {
     "name": "stdout",
     "output_type": "stream",
     "text": [
      "Dictionary created with 11859 unique tokens.\n"
     ]
    }
   ],
   "source": [
    "# # Save dictionary for future use\n",
    "# dictionary.save('lda_dictionary.dict')\n",
    "\n",
    "# Print dictionary information\n",
    "print(f\"Dictionary created with {len(dictionary)} unique tokens.\")"
   ]
  },
  {
   "cell_type": "code",
   "execution_count": 11,
   "metadata": {},
   "outputs": [],
   "source": [
    "# Word counts\n",
    "word_counts = dictionary.cfs  # cfs = term frequency across the corpus\n",
    "sorted_word_counts = sorted(word_counts.items(), key=lambda x: x[1], reverse=True)"
   ]
  },
  {
   "cell_type": "code",
   "execution_count": 12,
   "metadata": {},
   "outputs": [],
   "source": [
    "# Cumulative frequency\n",
    "word_frequencies = [count for _, count in sorted_word_counts]\n",
    "cumulative_frequencies = [sum(word_frequencies[:i]) for i in range(1, len(word_frequencies) + 1)]"
   ]
  },
  {
   "cell_type": "code",
   "execution_count": 13,
   "metadata": {},
   "outputs": [
    {
     "data": {
      "image/png": "[encoded data removed]",
      "text/plain": [
       "<Figure size 1000x600 with 1 Axes>"
      ]
     },
     "metadata": {},
     "output_type": "display_data"
    }
   ],
   "source": [
    "# Plot\n",
    "import matplotlib.pyplot as plt\n",
    "plt.figure(figsize=(10, 6))\n",
    "plt.plot(range(1, len(cumulative_frequencies) + 1), cumulative_frequencies)\n",
    "plt.xlabel('Vocabulary Size')\n",
    "plt.ylabel('Cumulative Word Count')\n",
    "plt.title('Cumulative Word Frequency Distribution')\n",
    "plt.show()"
   ]
  },
  {
   "cell_type": "code",
   "execution_count": 14,
   "metadata": {},
   "outputs": [
    {
     "data": {
      "image/png": "[encoded data removed]",
      "text/plain": [
       "<Figure size 640x480 with 1 Axes>"
      ]
     },
     "metadata": {},
     "output_type": "display_data"
    },
    {
     "name": "stdout",
     "output_type": "stream",
     "text": [
      "count    17664.000000\n",
      "mean         7.839617\n",
      "std          5.557860\n",
      "min          1.000000\n",
      "25%          3.000000\n",
      "50%          7.000000\n",
      "75%         11.000000\n",
      "90%         16.000000\n",
      "95%         18.000000\n",
      "max         39.000000\n",
      "Name: tokenized_reviews, dtype: float64\n"
     ]
    }
   ],
   "source": [
    "sequence_lengths = modeling_df['tokenized_reviews'].apply(len)\n",
    "\n",
    "# Plot sequence length distribution\n",
    "plt.hist(sequence_lengths, bins=50, color='blue')\n",
    "plt.xlabel('Sequence Length')\n",
    "plt.ylabel('Frequency')\n",
    "plt.title('Document Length Distribution')\n",
    "plt.show()\n",
    "\n",
    "# Print descriptive stats\n",
    "print(sequence_lengths.describe(percentiles=[0.25, 0.5, 0.75, 0.90, 0.95]))"
   ]
  },
  {
   "cell_type": "markdown",
   "metadata": {},
   "source": [
    "Average banyaknya token untuk text per review = ~8 tokens. 3 sampe 18 tokens an lah. Artinya review kebanyakan singkat padat sumpah serapah, hahaha. Kali bisa jadi EDA juga."
   ]
  },
  {
   "cell_type": "code",
   "execution_count": 15,
   "metadata": {},
   "outputs": [
    {
     "name": "stdout",
     "output_type": "stream",
     "text": [
      "Word Coverage with top 6000 words: 95.77%\n"
     ]
    }
   ],
   "source": [
    "top_n = 6000  # Adjust berdasarkan \"Cumulative Word Frequency Distribution\"\n",
    "word_coverage = sum([freq for _, freq in sorted_word_counts[:top_n]]) / sum(word_frequencies)\n",
    "print(f\"Word Coverage with top {top_n} words: {word_coverage:.2%}\")"
   ]
  },
  {
   "cell_type": "markdown",
   "metadata": {},
   "source": [
    "Nge limit pake 6000 kata udah bisa cover 95% vocabs. Artinya pakai 6000 kata pun udah nge-cover semua."
   ]
  },
  {
   "cell_type": "code",
   "execution_count": 16,
   "metadata": {},
   "outputs": [
    {
     "name": "stdout",
     "output_type": "stream",
     "text": [
      "Filtered dictionary size: 2264\n"
     ]
    }
   ],
   "source": [
    "dictionary.filter_extremes(no_below=5, no_above=0.5, keep_n=6000)\n",
    "print(f\"Filtered dictionary size: {len(dictionary)}\")"
   ]
  },
  {
   "cell_type": "markdown",
   "metadata": {},
   "source": [
    "param no_below=5:\n",
    "- nge remove kata-kata yang hanya muncul di bawah 5 review.\n",
    "\n",
    "param no_above=0.5:\n",
    "- remove kata-kata yang muncul di lebih dari 50% dari review review an. Kemungkinan akan ng-remove kata \"kirim\"\n",
    "\n",
    "keep_n=6000:\n",
    "- Lihat di atas"
   ]
  },
  {
   "cell_type": "code",
   "execution_count": 17,
   "metadata": {},
   "outputs": [],
   "source": [
    "# bikin bag of words\n",
    "corpus = [dictionary.doc2bow(review) for review in tokenized_reviews]"
   ]
  },
  {
   "cell_type": "markdown",
   "metadata": {},
   "source": [
    "---\n",
    "Coba modeling"
   ]
  },
  {
   "cell_type": "code",
   "execution_count": 18,
   "metadata": {},
   "outputs": [],
   "source": [
    "lda_model = LdaModel(corpus=corpus, \n",
    "                     id2word=dictionary, \n",
    "                     num_topics=4, \n",
    "                     chunksize=500, \n",
    "                     passes=30, \n",
    "                     random_state=37)"
   ]
  },
  {
   "cell_type": "markdown",
   "metadata": {},
   "source": [
    "corpus: corpusnya.\n",
    "\n",
    "id2word: dictionary di atas.\n",
    "\n",
    "num_topics: jumlah cluster.\n",
    "\n",
    "chunksize: Di proses berapa banyak dalam sekali proses. 500 review-an sekali proses.\n",
    "\n",
    "passes: Berapa kali algorithm nya passes through iterasi nya. More passes katanya improve accuracy cuman lebih lama aja.\n",
    "\n",
    "random_state: seed."
   ]
  },
  {
   "cell_type": "code",
   "execution_count": 19,
   "metadata": {},
   "outputs": [
    {
     "name": "stdout",
     "output_type": "stream",
     "text": [
      "Topic 1:\n",
      "kerja jalan orang hilang tutup pusat cabang profesional pindah kantor malas kota mohon ngirim gudang becus pekanbaru asli kunjung hati\n",
      "\n",
      "Topic 2:\n",
      "layan buruk cepat bagus kirim customer ramah service kembali respon waktu chat butuh moga langgan ambil tunggu antri super balas\n",
      "\n",
      "Topic 3:\n",
      "antar rumah kurir kantor sortir terima paket alas orang nomor pesan telepon resi kirim nan cek mana no pas konfirmasi\n",
      "\n",
      "Topic 4:\n",
      "lambat kirim pakai cepat ekspedisi jasa ganti nama estimasi antar baik kecewa paket sesuai tahan niat expedisi hari minggu tuju\n",
      "\n"
     ]
    }
   ],
   "source": [
    "for i, topic in lda_model.show_topics(num_topics=4, num_words=20, formatted=False):\n",
    "    print(f\"Topic {i + 1}:\")\n",
    "    print(\" \".join([word for word, _ in topic]))\n",
    "    print()"
   ]
  }
 ],
 "metadata": {
  "kernelspec": {
   "display_name": "secondphase",
   "language": "python",
   "name": "python3"
  },
  "language_info": {
   "codemirror_mode": {
    "name": "ipython",
    "version": 3
   },
   "file_extension": ".py",
   "mimetype": "text/x-python",
   "name": "python",
   "nbconvert_exporter": "python",
   "pygments_lexer": "ipython3",
   "version": "3.9.21"
  }
 },
 "nbformat": 4,
 "nbformat_minor": 2
}
