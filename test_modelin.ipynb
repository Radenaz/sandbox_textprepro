{
 "cells": [
  {
   "cell_type": "code",
   "execution_count": 25,
   "metadata": {},
   "outputs": [],
   "source": [
    "import pandas as pd\n",
    "import asyncio\n",
    "import re\n",
    "from nltk.corpus import stopwords\n",
    "from nltk.tokenize import word_tokenize\n",
    "from nltk.stem import WordNetLemmatizer\n",
    "from Sastrawi.Stemmer.StemmerFactory import StemmerFactory\n",
    "import contractions\n",
    "from googletrans import Translator\n",
    "import json\n",
    "import os\n",
    "from datetime import datetime, timedelta\n",
    "import matplotlib.pyplot as plt\n",
    "from wordcloud import WordCloud\n",
    "from collections import Counter\n",
    "from sklearn.feature_extraction.text import CountVectorizer\n",
    "from gensim.corpora import Dictionary\n",
    "\n",
    "from gensim.models import LdaModel\n",
    "from gensim.models import CoherenceModel\n",
    "\n",
    "import pyLDAvis.gensim_models as gensimvis\n",
    "import pyLDAvis\n",
    "\n",
    "\n",
    "import nest_asyncio\n",
    "nest_asyncio.apply()"
   ]
  },
  {
   "cell_type": "code",
   "execution_count": 2,
   "metadata": {},
   "outputs": [],
   "source": [
    "# load data\n",
    "df = pd.read_csv('prepro_cleaned_reviews.csv')"
   ]
  },
  {
   "cell_type": "code",
   "execution_count": 3,
   "metadata": {},
   "outputs": [
    {
     "data": {
      "text/html": [
       "<div>\n",
       "<style scoped>\n",
       "    .dataframe tbody tr th:only-of-type {\n",
       "        vertical-align: middle;\n",
       "    }\n",
       "\n",
       "    .dataframe tbody tr th {\n",
       "        vertical-align: top;\n",
       "    }\n",
       "\n",
       "    .dataframe thead th {\n",
       "        text-align: right;\n",
       "    }\n",
       "</style>\n",
       "<table border=\"1\" class=\"dataframe\">\n",
       "  <thead>\n",
       "    <tr style=\"text-align: right;\">\n",
       "      <th></th>\n",
       "      <th>rating</th>\n",
       "      <th>reviews</th>\n",
       "      <th>company</th>\n",
       "      <th>province</th>\n",
       "      <th>parsed_date</th>\n",
       "      <th>processed_reviews</th>\n",
       "    </tr>\n",
       "  </thead>\n",
       "  <tbody>\n",
       "    <tr>\n",
       "      <th>0</th>\n",
       "      <td>5</td>\n",
       "      <td>Located at the Padang Old City area, just arou...</td>\n",
       "      <td>JNE</td>\n",
       "      <td>Aceh</td>\n",
       "      <td>2024-04-25</td>\n",
       "      <td>letak kawasan kota tua jembatan siti nurbaya s...</td>\n",
       "    </tr>\n",
       "    <tr>\n",
       "      <th>1</th>\n",
       "      <td>1</td>\n",
       "      <td>Bad service given to customers, my own experie...</td>\n",
       "      <td>JNE</td>\n",
       "      <td>Aceh</td>\n",
       "      <td>2021-01-21</td>\n",
       "      <td>layan buruk langgan alam ambil jasa kirim kelu...</td>\n",
       "    </tr>\n",
       "    <tr>\n",
       "      <th>2</th>\n",
       "      <td>5</td>\n",
       "      <td>Nice Place, they're working on rebuild their o...</td>\n",
       "      <td>JNE</td>\n",
       "      <td>Aceh</td>\n",
       "      <td>2022-01-21</td>\n",
       "      <td>bagus upaya bangun kantor orang orang hebat layan</td>\n",
       "    </tr>\n",
       "    <tr>\n",
       "      <th>3</th>\n",
       "      <td>5</td>\n",
       "      <td>Good delivery service for customers in this co...</td>\n",
       "      <td>JNE</td>\n",
       "      <td>Aceh</td>\n",
       "      <td>2023-01-21</td>\n",
       "      <td>kirim langgan negara</td>\n",
       "    </tr>\n",
       "    <tr>\n",
       "      <th>4</th>\n",
       "      <td>5</td>\n",
       "      <td>Good service</td>\n",
       "      <td>JNE</td>\n",
       "      <td>Aceh</td>\n",
       "      <td>2022-01-21</td>\n",
       "      <td>layan bagus</td>\n",
       "    </tr>\n",
       "    <tr>\n",
       "      <th>...</th>\n",
       "      <td>...</td>\n",
       "      <td>...</td>\n",
       "      <td>...</td>\n",
       "      <td>...</td>\n",
       "      <td>...</td>\n",
       "      <td>...</td>\n",
       "    </tr>\n",
       "    <tr>\n",
       "      <th>17659</th>\n",
       "      <td>1</td>\n",
       "      <td>Kargo Silambat</td>\n",
       "      <td>Sicepat</td>\n",
       "      <td>Sumatera Utara</td>\n",
       "      <td>2021-01-21</td>\n",
       "      <td>kargo lambat</td>\n",
       "    </tr>\n",
       "    <tr>\n",
       "      <th>17660</th>\n",
       "      <td>1</td>\n",
       "      <td>SILELET CEMBRETTTTTT</td>\n",
       "      <td>Sicepat</td>\n",
       "      <td>Sumatera Utara</td>\n",
       "      <td>2021-01-21</td>\n",
       "      <td>lambat cembret</td>\n",
       "    </tr>\n",
       "    <tr>\n",
       "      <th>17661</th>\n",
       "      <td>1</td>\n",
       "      <td>Lambat sekali....</td>\n",
       "      <td>Sicepat</td>\n",
       "      <td>Sumatera Utara</td>\n",
       "      <td>2021-01-21</td>\n",
       "      <td>lambat</td>\n",
       "    </tr>\n",
       "    <tr>\n",
       "      <th>17662</th>\n",
       "      <td>1</td>\n",
       "      <td>KERAS!!!!!</td>\n",
       "      <td>Sicepat</td>\n",
       "      <td>Sumatera Utara</td>\n",
       "      <td>2021-01-21</td>\n",
       "      <td>keras</td>\n",
       "    </tr>\n",
       "    <tr>\n",
       "      <th>17663</th>\n",
       "      <td>5</td>\n",
       "      <td>Sicepat adalah yang terbaik</td>\n",
       "      <td>Sicepat</td>\n",
       "      <td>Sumatera Utara</td>\n",
       "      <td>2021-01-21</td>\n",
       "      <td>baik</td>\n",
       "    </tr>\n",
       "  </tbody>\n",
       "</table>\n",
       "<p>17664 rows × 6 columns</p>\n",
       "</div>"
      ],
      "text/plain": [
       "       rating                                            reviews  company  \\\n",
       "0           5  Located at the Padang Old City area, just arou...      JNE   \n",
       "1           1  Bad service given to customers, my own experie...      JNE   \n",
       "2           5  Nice Place, they're working on rebuild their o...      JNE   \n",
       "3           5  Good delivery service for customers in this co...      JNE   \n",
       "4           5                                       Good service      JNE   \n",
       "...       ...                                                ...      ...   \n",
       "17659       1                                     Kargo Silambat  Sicepat   \n",
       "17660       1                               SILELET CEMBRETTTTTT  Sicepat   \n",
       "17661       1                                  Lambat sekali....  Sicepat   \n",
       "17662       1                                         KERAS!!!!!  Sicepat   \n",
       "17663       5                        Sicepat adalah yang terbaik  Sicepat   \n",
       "\n",
       "             province parsed_date  \\\n",
       "0                Aceh  2024-04-25   \n",
       "1                Aceh  2021-01-21   \n",
       "2                Aceh  2022-01-21   \n",
       "3                Aceh  2023-01-21   \n",
       "4                Aceh  2022-01-21   \n",
       "...               ...         ...   \n",
       "17659  Sumatera Utara  2021-01-21   \n",
       "17660  Sumatera Utara  2021-01-21   \n",
       "17661  Sumatera Utara  2021-01-21   \n",
       "17662  Sumatera Utara  2021-01-21   \n",
       "17663  Sumatera Utara  2021-01-21   \n",
       "\n",
       "                                       processed_reviews  \n",
       "0      letak kawasan kota tua jembatan siti nurbaya s...  \n",
       "1      layan buruk langgan alam ambil jasa kirim kelu...  \n",
       "2      bagus upaya bangun kantor orang orang hebat layan  \n",
       "3                                   kirim langgan negara  \n",
       "4                                            layan bagus  \n",
       "...                                                  ...  \n",
       "17659                                       kargo lambat  \n",
       "17660                                     lambat cembret  \n",
       "17661                                             lambat  \n",
       "17662                                              keras  \n",
       "17663                                               baik  \n",
       "\n",
       "[17664 rows x 6 columns]"
      ]
     },
     "execution_count": 3,
     "metadata": {},
     "output_type": "execute_result"
    }
   ],
   "source": [
    "df"
   ]
  },
  {
   "cell_type": "code",
   "execution_count": 4,
   "metadata": {},
   "outputs": [
    {
     "name": "stdout",
     "output_type": "stream",
     "text": [
      "<class 'pandas.core.frame.DataFrame'>\n",
      "RangeIndex: 17664 entries, 0 to 17663\n",
      "Data columns (total 6 columns):\n",
      " #   Column             Non-Null Count  Dtype \n",
      "---  ------             --------------  ----- \n",
      " 0   rating             17664 non-null  int64 \n",
      " 1   reviews            17664 non-null  object\n",
      " 2   company            17664 non-null  object\n",
      " 3   province           17664 non-null  object\n",
      " 4   parsed_date        17664 non-null  object\n",
      " 5   processed_reviews  17081 non-null  object\n",
      "dtypes: int64(1), object(5)\n",
      "memory usage: 828.1+ KB\n"
     ]
    }
   ],
   "source": [
    "df.info()"
   ]
  },
  {
   "cell_type": "code",
   "execution_count": 5,
   "metadata": {},
   "outputs": [],
   "source": [
    "modeling_df = df.copy()"
   ]
  },
  {
   "cell_type": "code",
   "execution_count": 6,
   "metadata": {},
   "outputs": [],
   "source": [
    "jelek_modeling = modeling_df.query(\"rating <= 3\" )\n",
    "bagus_modeling = modeling_df.query(\"rating >= 4\")"
   ]
  },
  {
   "cell_type": "code",
   "execution_count": 7,
   "metadata": {},
   "outputs": [
    {
     "data": {
      "text/plain": [
       "(13927, 6)"
      ]
     },
     "execution_count": 7,
     "metadata": {},
     "output_type": "execute_result"
    }
   ],
   "source": [
    "jelek_modeling.shape"
   ]
  },
  {
   "cell_type": "code",
   "execution_count": 8,
   "metadata": {},
   "outputs": [
    {
     "data": {
      "text/plain": [
       "(3737, 6)"
      ]
     },
     "execution_count": 8,
     "metadata": {},
     "output_type": "execute_result"
    }
   ],
   "source": [
    "bagus_modeling.shape"
   ]
  },
  {
   "cell_type": "markdown",
   "metadata": {},
   "source": [
    "# 1. jelek modeling"
   ]
  },
  {
   "cell_type": "code",
   "execution_count": 9,
   "metadata": {},
   "outputs": [
    {
     "name": "stderr",
     "output_type": "stream",
     "text": [
      "C:\\Users\\Niko Amrullah Hakam\\AppData\\Local\\Temp\\ipykernel_9584\\2846537713.py:2: SettingWithCopyWarning: \n",
      "A value is trying to be set on a copy of a slice from a DataFrame.\n",
      "Try using .loc[row_indexer,col_indexer] = value instead\n",
      "\n",
      "See the caveats in the documentation: https://pandas.pydata.org/pandas-docs/stable/user_guide/indexing.html#returning-a-view-versus-a-copy\n",
      "  jelek_modeling['processed_reviews'] = jelek_modeling['processed_reviews'].astype(str)\n",
      "C:\\Users\\Niko Amrullah Hakam\\AppData\\Local\\Temp\\ipykernel_9584\\2846537713.py:5: SettingWithCopyWarning: \n",
      "A value is trying to be set on a copy of a slice from a DataFrame.\n",
      "Try using .loc[row_indexer,col_indexer] = value instead\n",
      "\n",
      "See the caveats in the documentation: https://pandas.pydata.org/pandas-docs/stable/user_guide/indexing.html#returning-a-view-versus-a-copy\n",
      "  jelek_modeling['tokenized_reviews'] = jelek_modeling['processed_reviews'].apply(word_tokenize)\n"
     ]
    }
   ],
   "source": [
    "# Ensure the 'processed_reviews' column is treated as string\n",
    "jelek_modeling['processed_reviews'] = jelek_modeling['processed_reviews'].astype(str)\n",
    "\n",
    "# Tokenize the processed_reviews column\n",
    "jelek_modeling['tokenized_reviews'] = jelek_modeling['processed_reviews'].apply(word_tokenize)"
   ]
  },
  {
   "cell_type": "code",
   "execution_count": 10,
   "metadata": {},
   "outputs": [],
   "source": [
    "# # Save the result to a new CSV file\n",
    "# output_file = 'tokenized_reviews.csv'\n",
    "# modeling_df.to_csv(output_file, index=False)\n",
    "\n",
    "# print(f\"Tokenized reviews saved to {output_file}\")"
   ]
  },
  {
   "cell_type": "code",
   "execution_count": 11,
   "metadata": {},
   "outputs": [
    {
     "data": {
      "text/html": [
       "<div>\n",
       "<style scoped>\n",
       "    .dataframe tbody tr th:only-of-type {\n",
       "        vertical-align: middle;\n",
       "    }\n",
       "\n",
       "    .dataframe tbody tr th {\n",
       "        vertical-align: top;\n",
       "    }\n",
       "\n",
       "    .dataframe thead th {\n",
       "        text-align: right;\n",
       "    }\n",
       "</style>\n",
       "<table border=\"1\" class=\"dataframe\">\n",
       "  <thead>\n",
       "    <tr style=\"text-align: right;\">\n",
       "      <th></th>\n",
       "      <th>rating</th>\n",
       "      <th>reviews</th>\n",
       "      <th>company</th>\n",
       "      <th>province</th>\n",
       "      <th>parsed_date</th>\n",
       "      <th>processed_reviews</th>\n",
       "      <th>tokenized_reviews</th>\n",
       "    </tr>\n",
       "  </thead>\n",
       "  <tbody>\n",
       "    <tr>\n",
       "      <th>1</th>\n",
       "      <td>1</td>\n",
       "      <td>Bad service given to customers, my own experie...</td>\n",
       "      <td>JNE</td>\n",
       "      <td>Aceh</td>\n",
       "      <td>2021-01-21</td>\n",
       "      <td>layan buruk langgan alam ambil jasa kirim kelu...</td>\n",
       "      <td>[layan, buruk, langgan, alam, ambil, jasa, kir...</td>\n",
       "    </tr>\n",
       "    <tr>\n",
       "      <th>7</th>\n",
       "      <td>1</td>\n",
       "      <td>Too slow</td>\n",
       "      <td>JNE</td>\n",
       "      <td>Aceh</td>\n",
       "      <td>2016-01-23</td>\n",
       "      <td>lambat</td>\n",
       "      <td>[lambat]</td>\n",
       "    </tr>\n",
       "    <tr>\n",
       "      <th>18</th>\n",
       "      <td>2</td>\n",
       "      <td>Slow service</td>\n",
       "      <td>JNE</td>\n",
       "      <td>Aceh</td>\n",
       "      <td>2022-01-21</td>\n",
       "      <td>lambat</td>\n",
       "      <td>[lambat]</td>\n",
       "    </tr>\n",
       "    <tr>\n",
       "      <th>20</th>\n",
       "      <td>1</td>\n",
       "      <td>Bad service</td>\n",
       "      <td>JNE</td>\n",
       "      <td>Aceh</td>\n",
       "      <td>2019-01-22</td>\n",
       "      <td>buruk</td>\n",
       "      <td>[buruk]</td>\n",
       "    </tr>\n",
       "    <tr>\n",
       "      <th>24</th>\n",
       "      <td>1</td>\n",
       "      <td>The courier was too slow for many reasons even...</td>\n",
       "      <td>JNE</td>\n",
       "      <td>Aceh</td>\n",
       "      <td>2025-01-06</td>\n",
       "      <td>kurir lambat kira pakai sayang m</td>\n",
       "      <td>[kurir, lambat, kira, pakai, sayang, m]</td>\n",
       "    </tr>\n",
       "    <tr>\n",
       "      <th>...</th>\n",
       "      <td>...</td>\n",
       "      <td>...</td>\n",
       "      <td>...</td>\n",
       "      <td>...</td>\n",
       "      <td>...</td>\n",
       "      <td>...</td>\n",
       "      <td>...</td>\n",
       "    </tr>\n",
       "    <tr>\n",
       "      <th>17658</th>\n",
       "      <td>1</td>\n",
       "      <td>Lambat</td>\n",
       "      <td>Sicepat</td>\n",
       "      <td>Sumatera Utara</td>\n",
       "      <td>2021-01-21</td>\n",
       "      <td>lambat</td>\n",
       "      <td>[lambat]</td>\n",
       "    </tr>\n",
       "    <tr>\n",
       "      <th>17659</th>\n",
       "      <td>1</td>\n",
       "      <td>Kargo Silambat</td>\n",
       "      <td>Sicepat</td>\n",
       "      <td>Sumatera Utara</td>\n",
       "      <td>2021-01-21</td>\n",
       "      <td>kargo lambat</td>\n",
       "      <td>[kargo, lambat]</td>\n",
       "    </tr>\n",
       "    <tr>\n",
       "      <th>17660</th>\n",
       "      <td>1</td>\n",
       "      <td>SILELET CEMBRETTTTTT</td>\n",
       "      <td>Sicepat</td>\n",
       "      <td>Sumatera Utara</td>\n",
       "      <td>2021-01-21</td>\n",
       "      <td>lambat cembret</td>\n",
       "      <td>[lambat, cembret]</td>\n",
       "    </tr>\n",
       "    <tr>\n",
       "      <th>17661</th>\n",
       "      <td>1</td>\n",
       "      <td>Lambat sekali....</td>\n",
       "      <td>Sicepat</td>\n",
       "      <td>Sumatera Utara</td>\n",
       "      <td>2021-01-21</td>\n",
       "      <td>lambat</td>\n",
       "      <td>[lambat]</td>\n",
       "    </tr>\n",
       "    <tr>\n",
       "      <th>17662</th>\n",
       "      <td>1</td>\n",
       "      <td>KERAS!!!!!</td>\n",
       "      <td>Sicepat</td>\n",
       "      <td>Sumatera Utara</td>\n",
       "      <td>2021-01-21</td>\n",
       "      <td>keras</td>\n",
       "      <td>[keras]</td>\n",
       "    </tr>\n",
       "  </tbody>\n",
       "</table>\n",
       "<p>13927 rows × 7 columns</p>\n",
       "</div>"
      ],
      "text/plain": [
       "       rating                                            reviews  company  \\\n",
       "1           1  Bad service given to customers, my own experie...      JNE   \n",
       "7           1                                           Too slow      JNE   \n",
       "18          2                                       Slow service      JNE   \n",
       "20          1                                        Bad service      JNE   \n",
       "24          1  The courier was too slow for many reasons even...      JNE   \n",
       "...       ...                                                ...      ...   \n",
       "17658       1                                             Lambat  Sicepat   \n",
       "17659       1                                     Kargo Silambat  Sicepat   \n",
       "17660       1                               SILELET CEMBRETTTTTT  Sicepat   \n",
       "17661       1                                  Lambat sekali....  Sicepat   \n",
       "17662       1                                         KERAS!!!!!  Sicepat   \n",
       "\n",
       "             province parsed_date  \\\n",
       "1                Aceh  2021-01-21   \n",
       "7                Aceh  2016-01-23   \n",
       "18               Aceh  2022-01-21   \n",
       "20               Aceh  2019-01-22   \n",
       "24               Aceh  2025-01-06   \n",
       "...               ...         ...   \n",
       "17658  Sumatera Utara  2021-01-21   \n",
       "17659  Sumatera Utara  2021-01-21   \n",
       "17660  Sumatera Utara  2021-01-21   \n",
       "17661  Sumatera Utara  2021-01-21   \n",
       "17662  Sumatera Utara  2021-01-21   \n",
       "\n",
       "                                       processed_reviews  \\\n",
       "1      layan buruk langgan alam ambil jasa kirim kelu...   \n",
       "7                                                 lambat   \n",
       "18                                                lambat   \n",
       "20                                                 buruk   \n",
       "24                      kurir lambat kira pakai sayang m   \n",
       "...                                                  ...   \n",
       "17658                                             lambat   \n",
       "17659                                       kargo lambat   \n",
       "17660                                     lambat cembret   \n",
       "17661                                             lambat   \n",
       "17662                                              keras   \n",
       "\n",
       "                                       tokenized_reviews  \n",
       "1      [layan, buruk, langgan, alam, ambil, jasa, kir...  \n",
       "7                                               [lambat]  \n",
       "18                                              [lambat]  \n",
       "20                                               [buruk]  \n",
       "24               [kurir, lambat, kira, pakai, sayang, m]  \n",
       "...                                                  ...  \n",
       "17658                                           [lambat]  \n",
       "17659                                    [kargo, lambat]  \n",
       "17660                                  [lambat, cembret]  \n",
       "17661                                           [lambat]  \n",
       "17662                                            [keras]  \n",
       "\n",
       "[13927 rows x 7 columns]"
      ]
     },
     "execution_count": 11,
     "metadata": {},
     "output_type": "execute_result"
    }
   ],
   "source": [
    "jelek_modeling"
   ]
  },
  {
   "cell_type": "code",
   "execution_count": 12,
   "metadata": {},
   "outputs": [],
   "source": [
    "tokenized_reviews = jelek_modeling['tokenized_reviews'].tolist()  # Convert the column to a list of lists\n",
    "dictionary = Dictionary(tokenized_reviews)"
   ]
  },
  {
   "cell_type": "code",
   "execution_count": 13,
   "metadata": {},
   "outputs": [
    {
     "name": "stdout",
     "output_type": "stream",
     "text": [
      "Dictionary created with 10844 unique tokens.\n"
     ]
    }
   ],
   "source": [
    "# # Save dictionary for future use\n",
    "# dictionary.save('lda_dictionary.dict')\n",
    "\n",
    "# Print dictionary information\n",
    "print(f\"Dictionary created with {len(dictionary)} unique tokens.\")"
   ]
  },
  {
   "cell_type": "code",
   "execution_count": 14,
   "metadata": {},
   "outputs": [],
   "source": [
    "# Word counts\n",
    "word_counts = dictionary.cfs  # cfs = term frequency across the corpus\n",
    "sorted_word_counts = sorted(word_counts.items(), key=lambda x: x[1], reverse=True)"
   ]
  },
  {
   "cell_type": "code",
   "execution_count": 15,
   "metadata": {},
   "outputs": [],
   "source": [
    "# Cumulative frequency\n",
    "word_frequencies = [count for _, count in sorted_word_counts]\n",
    "cumulative_frequencies = [sum(word_frequencies[:i]) for i in range(1, len(word_frequencies) + 1)]"
   ]
  },
  {
   "cell_type": "code",
   "execution_count": 16,
   "metadata": {},
   "outputs": [
    {
     "data": {
      "image/png": "[encoded data removed]",
      "text/plain": [
       "<Figure size 1000x600 with 1 Axes>"
      ]
     },
     "metadata": {},
     "output_type": "display_data"
    }
   ],
   "source": [
    "# Plot\n",
    "import matplotlib.pyplot as plt\n",
    "plt.figure(figsize=(10, 6))\n",
    "plt.plot(range(1, len(cumulative_frequencies) + 1), cumulative_frequencies)\n",
    "plt.xlabel('Vocabulary Size')\n",
    "plt.ylabel('Cumulative Word Count')\n",
    "plt.title('Cumulative Word Frequency Distribution')\n",
    "plt.show()"
   ]
  },
  {
   "cell_type": "code",
   "execution_count": 17,
   "metadata": {},
   "outputs": [
    {
     "data": {
      "image/png": "[encoded data removed]",
      "text/plain": [
       "<Figure size 640x480 with 1 Axes>"
      ]
     },
     "metadata": {},
     "output_type": "display_data"
    },
    {
     "name": "stdout",
     "output_type": "stream",
     "text": [
      "count    13927.000000\n",
      "mean         8.462914\n",
      "std          5.427063\n",
      "min          1.000000\n",
      "25%          4.000000\n",
      "50%          8.000000\n",
      "75%         12.000000\n",
      "90%         16.000000\n",
      "95%         18.000000\n",
      "max         39.000000\n",
      "Name: tokenized_reviews, dtype: float64\n"
     ]
    }
   ],
   "source": [
    "sequence_lengths = jelek_modeling['tokenized_reviews'].apply(len)\n",
    "\n",
    "# Plot sequence length distribution\n",
    "plt.hist(sequence_lengths, bins=50, color='blue')\n",
    "plt.xlabel('Sequence Length')\n",
    "plt.ylabel('Frequency')\n",
    "plt.title('Document Length Distribution')\n",
    "plt.show()\n",
    "\n",
    "# Print descriptive stats\n",
    "print(sequence_lengths.describe(percentiles=[0.25, 0.5, 0.75, 0.90, 0.95]))"
   ]
  },
  {
   "cell_type": "markdown",
   "metadata": {},
   "source": [
    "Average banyaknya token untuk text per review = ~8 tokens. 3 sampe 18 tokens an lah. Artinya review kebanyakan singkat padat sumpah serapah, hahaha. Kali bisa jadi EDA juga."
   ]
  },
  {
   "cell_type": "code",
   "execution_count": 18,
   "metadata": {},
   "outputs": [
    {
     "name": "stdout",
     "output_type": "stream",
     "text": [
      "Word Coverage with top 5000 words: 95.04%\n"
     ]
    }
   ],
   "source": [
    "top_n = 5000  # Adjust berdasarkan \"Cumulative Word Frequency Distribution\"\n",
    "word_coverage = sum([freq for _, freq in sorted_word_counts[:top_n]]) / sum(word_frequencies)\n",
    "print(f\"Word Coverage with top {top_n} words: {word_coverage:.2%}\")"
   ]
  },
  {
   "cell_type": "markdown",
   "metadata": {},
   "source": [
    "Nge limit pake 6000 kata udah bisa cover 95% vocabs. Artinya pakai 6000 kata pun udah nge-cover semua."
   ]
  },
  {
   "cell_type": "code",
   "execution_count": 19,
   "metadata": {},
   "outputs": [
    {
     "name": "stdout",
     "output_type": "stream",
     "text": [
      "Filtered dictionary size: 2044\n"
     ]
    }
   ],
   "source": [
    "dictionary.filter_extremes(no_below=5, no_above=0.5, keep_n=5000)\n",
    "print(f\"Filtered dictionary size: {len(dictionary)}\")"
   ]
  },
  {
   "cell_type": "markdown",
   "metadata": {},
   "source": [
    "param no_below=5:\n",
    "- nge remove kata-kata yang hanya muncul di bawah 5 review.\n",
    "\n",
    "param no_above=0.5:\n",
    "- remove kata-kata yang muncul di lebih dari 50% dari review review an. Kemungkinan akan ng-remove kata \"kirim\"\n",
    "\n",
    "keep_n=6000:\n",
    "- Lihat di atas"
   ]
  },
  {
   "cell_type": "code",
   "execution_count": 20,
   "metadata": {},
   "outputs": [],
   "source": [
    "# bikin bag of words\n",
    "corpus = [dictionary.doc2bow(review) for review in tokenized_reviews]"
   ]
  },
  {
   "cell_type": "markdown",
   "metadata": {},
   "source": [
    "---\n",
    "Coba modeling"
   ]
  },
  {
   "cell_type": "code",
   "execution_count": 21,
   "metadata": {},
   "outputs": [],
   "source": [
    "lda_model = LdaModel(corpus=corpus, \n",
    "                     id2word=dictionary, \n",
    "                     num_topics=3, \n",
    "                     chunksize=500, \n",
    "                     passes=50, \n",
    "                     random_state=37)"
   ]
  },
  {
   "cell_type": "markdown",
   "metadata": {},
   "source": [
    "corpus: corpusnya.\n",
    "\n",
    "id2word: dictionary di atas.\n",
    "\n",
    "num_topics: jumlah cluster.\n",
    "\n",
    "chunksize: Di proses berapa banyak dalam sekali proses. 500 review-an sekali proses.\n",
    "\n",
    "passes: Berapa kali algorithm nya passes through iterasi nya. More passes katanya improve accuracy cuman lebih lama aja.\n",
    "\n",
    "random_state: seed."
   ]
  },
  {
   "cell_type": "code",
   "execution_count": 22,
   "metadata": {},
   "outputs": [
    {
     "name": "stdout",
     "output_type": "stream",
     "text": [
      "Topic 1:\n",
      "layan buruk tuju alas bayar antar kerja konfirmasi ambil bagus kembali lokasi orang bintang cod kantor langgan kecewa mahal ongkir ramah tanggung karyawan retur hilang antri kota jual masuk agustus\n",
      "\n",
      "Topic 2:\n",
      "lambat kirim cepat pakai ekspedisi jasa ganti sortir estimasi baik nama paket tahan kerja minggu kecewa hari sesuai tutup lebih antar waktu gerak jalan butuh stuck niat kota update rugi\n",
      "\n",
      "Topic 3:\n",
      "antar rumah kantor kurir terima customer kirim paket tutup orang service telepon nomor bilang cek resi no mana malas pas whatsapp telpon bawa hubung pusat pagi pesan salah barang cabang\n",
      "\n"
     ]
    }
   ],
   "source": [
    "for i, topic in lda_model.show_topics(num_topics=3, num_words=30, formatted=False):\n",
    "    print(f\"Topic {i + 1}:\")\n",
    "    print(\" \".join([word for word, _ in topic]))\n",
    "    print()"
   ]
  },
  {
   "cell_type": "code",
   "execution_count": 23,
   "metadata": {},
   "outputs": [],
   "source": [
    "coherence_model = CoherenceModel(model=lda_model, texts=tokenized_reviews, dictionary=dictionary, coherence='c_v')\n",
    "coherence_score = coherence_model.get_coherence()"
   ]
  },
  {
   "cell_type": "code",
   "execution_count": 24,
   "metadata": {},
   "outputs": [
    {
     "name": "stdout",
     "output_type": "stream",
     "text": [
      "Coherence Score: 0.42929484883096886\n"
     ]
    }
   ],
   "source": [
    "print(f\"Coherence Score: {coherence_score}\")"
   ]
  },
  {
   "cell_type": "code",
   "execution_count": 26,
   "metadata": {},
   "outputs": [
    {
     "data": {
      "text/html": [
       "\n",
       "<link rel=\"stylesheet\" type=\"text/css\" href=\"https://cdn.jsdelivr.net/gh/bmabey/pyLDAvis@3.4.0/pyLDAvis/js/ldavis.v1.0.0.css\">\n",
       "\n",
       "\n",
       "<div id=\"ldavis_el958421790667647523803537206\" style=\"background-color:white;\"></div>\n",
       "<script type=\"text/javascript\">\n",
       "\n",
       "var ldavis_el958421790667647523803537206_data = {\"mdsDat\": {\"x\": [-0.04941188781585564, -0.2508151904419772, 0.30022707825783296], \"y\": [-0.2906243341904489, 0.18440253587435476, 0.10622179831609406], \"topics\": [1, 2, 3], \"cluster\": [1, 1, 1], \"Freq\": [36.910045942019025, 35.3413011981743, 27.748652859806672]}, \"tinfo\": {\"Term\": [\"lambat\", \"layan\", \"buruk\", \"kirim\", \"cepat\", \"pakai\", \"ekspedisi\", \"rumah\", \"tuju\", \"kurir\", \"terima\", \"alas\", \"bayar\", \"customer\", \"ganti\", \"jasa\", \"sortir\", \"kantor\", \"konfirmasi\", \"estimasi\", \"baik\", \"service\", \"nama\", \"telepon\", \"nomor\", \"ambil\", \"bagus\", \"tahan\", \"minggu\", \"bilang\", \"rumah\", \"kurir\", \"terima\", \"customer\", \"telepon\", \"service\", \"nomor\", \"cek\", \"bilang\", \"no\", \"resi\", \"whatsapp\", \"telpon\", \"pas\", \"mana\", \"malas\", \"bawa\", \"hubung\", \"pagi\", \"terang\", \"pusat\", \"di\", \"angkat\", \"tulis\", \"besok\", \"handphone\", \"chat\", \"malam\", \"smpai\", \"informasi\", \"cabang\", \"gagal\", \"kantor\", \"antar\", \"paket\", \"tutup\", \"orang\", \"kirim\", \"salah\", \"barang\", \"pesan\", \"lambat\", \"pakai\", \"cepat\", \"sortir\", \"ganti\", \"estimasi\", \"baik\", \"nama\", \"tahan\", \"minggu\", \"sesuai\", \"lebih\", \"gerak\", \"stuck\", \"butuh\", \"nan\", \"update\", \"rugi\", \"proses\", \"pilih\", \"kapok\", \"bikin\", \"gin\", \"express\", \"gera\", \"sortation\", \"pindah\", \"transit\", \"reguler\", \"juli\", \"ekspedisi\", \"kirim\", \"jasa\", \"waktu\", \"hari\", \"jalan\", \"kecewa\", \"paket\", \"kerja\", \"tutup\", \"niat\", \"kota\", \"antar\", \"layan\", \"buruk\", \"tuju\", \"bayar\", \"alas\", \"ambil\", \"bagus\", \"konfirmasi\", \"kembali\", \"bintang\", \"cod\", \"lokasi\", \"langgan\", \"ongkir\", \"mahal\", \"ramah\", \"karyawan\", \"tanggung\", \"retur\", \"antri\", \"so\", \"admin\", \"pegawai\", \"main\", \"moga\", \"tingkat\", \"agustus\", \"becus\", \"rusak\", \"kunjung\", \"susah\", \"muter\", \"kerja\", \"antar\", \"orang\", \"hilang\", \"kecewa\", \"kantor\", \"jual\", \"kota\", \"masuk\"], \"Freq\": [4075.0, 2082.0, 1615.0, 3541.0, 1462.0, 1461.0, 1458.0, 933.0, 640.0, 813.0, 786.0, 569.0, 548.0, 670.0, 551.0, 937.0, 543.0, 1102.0, 406.0, 499.0, 497.0, 505.0, 459.0, 477.0, 465.0, 359.0, 341.0, 423.0, 418.0, 417.0, 932.386503286189, 812.948769000259, 785.7217711225918, 669.2519608608418, 477.01039638808743, 505.2155403331209, 465.02283214571503, 407.62550464198705, 417.01449707835815, 384.2840863385589, 398.2613925314847, 367.8397392085153, 362.8295761062614, 374.8189766679092, 380.5636314740653, 377.9845030486271, 356.9275739425852, 313.84140267730396, 274.2757975224493, 247.05708108465168, 280.5323173250598, 232.6184986909959, 211.2352088415759, 219.69181916742457, 224.0754913435524, 203.02779784327797, 212.24250197665683, 204.94347491639, 220.32243281035525, 211.69589093901092, 256.4243257398003, 208.36205329451093, 837.6685789605714, 1033.0319942202973, 636.1067580023625, 559.4664967866116, 519.5297571036933, 664.7808474815704, 266.16112064755936, 262.7669365107931, 267.52912449834656, 4074.483229367664, 1460.6963939205896, 1461.589044651159, 542.1184208529114, 550.2073354852239, 498.7784558210646, 496.1886930534565, 458.16143406710665, 422.2107291825509, 418.05620746591023, 363.85780754498836, 317.35043557008584, 292.2479262239571, 262.4939418954766, 268.31309932487835, 179.45120500920075, 211.34324849521985, 205.78078158854532, 184.84132675126395, 166.14430694386778, 161.063968653818, 176.24630549432774, 163.77324222621206, 158.87652272926485, 151.3803354909472, 178.39065650874602, 175.6674718993604, 131.50644540166027, 123.59395271245788, 122.35724945733588, 1339.9314927737546, 2865.325827092738, 793.3258574979614, 296.64743388573237, 374.31035733244926, 273.5416151539358, 395.1359209412263, 430.14222672712276, 418.3498734215332, 327.01789952267404, 246.11046371968814, 226.12943968380594, 305.107102648917, 2082.0860085667014, 1614.6026412264023, 639.5191976690786, 547.9172054108909, 568.2536416858259, 358.58654179409007, 340.39477074155917, 405.5748198694393, 315.3719530747863, 289.8860085568591, 272.3675837210834, 302.437615144291, 261.6501586934954, 241.57602291465528, 245.7219949046318, 221.00643966625648, 209.43779674391132, 217.83938449676754, 198.19977696494098, 170.61411562231513, 151.27359562210378, 153.14742001750304, 153.62635527832919, 145.58013191275188, 138.89608456002108, 120.32488460617326, 156.54706724196564, 146.01983037594238, 113.77657572998193, 118.8559070858611, 125.83471089906416, 123.74284414081212, 420.99489487484584, 501.6012719920951, 299.7994785035373, 179.58924547127626, 255.12575191617427, 264.83444340537494, 163.5430193899753, 169.06701640626204, 158.1748191234588], \"Total\": [4075.0, 2082.0, 1615.0, 3541.0, 1462.0, 1461.0, 1458.0, 933.0, 640.0, 813.0, 786.0, 569.0, 548.0, 670.0, 551.0, 937.0, 543.0, 1102.0, 406.0, 499.0, 497.0, 505.0, 459.0, 477.0, 465.0, 359.0, 341.0, 423.0, 418.0, 417.0, 933.141372911317, 813.7274492553921, 786.4888342607647, 670.0538362003896, 477.73581348456656, 505.9922778058486, 465.7629513991003, 408.37750654087915, 417.78997792285486, 385.0148707068342, 399.022726672878, 368.58549384438516, 363.5659203823227, 375.5900249470481, 381.35014831639194, 378.81277360092264, 357.7160847153669, 314.6111254702615, 275.03563816405233, 247.81307041440118, 281.3938702907258, 233.38666373667868, 211.94600637067714, 220.44133126141918, 224.8700564378791, 203.76215330724133, 213.01518954196754, 205.689773577238, 221.12676744153575, 212.49522432351117, 257.40165493837577, 209.1556737972548, 1102.822702968087, 1839.7403688613094, 1066.730993718511, 886.9822057246855, 913.4890888901571, 3541.8547439615227, 381.03486603352366, 396.6070723286937, 579.0727883500363, 4075.3622595745132, 1461.5840377423333, 1462.4790511613014, 543.035179443745, 551.1476444803508, 499.6944298564328, 497.13356876703864, 459.0918671812254, 423.1134281744371, 418.9586738471551, 364.81486294161465, 318.2047094734191, 293.0938873380695, 263.32832280357445, 269.2060351135005, 180.2476650212016, 212.2818839172827, 206.7530455678899, 185.73634951656348, 167.00033758802755, 161.90279503293593, 177.21906150531186, 164.68534364546218, 159.78172072181783, 152.24401294252908, 179.47767594749345, 176.76612829714261, 132.36308528678998, 124.46534100085344, 123.27308276432505, 1458.1103470993748, 3541.8547439615227, 937.3498917673212, 341.95540923198035, 478.627594677908, 350.6277288711418, 848.9834100186318, 1066.730993718511, 1061.3377475597097, 886.9822057246855, 421.9226923798345, 395.6733390355465, 1839.7403688613094, 2082.8284887438417, 1615.3482195280124, 640.3911452292328, 548.6656576282112, 569.0918572766552, 359.35403243444586, 341.15607041342435, 406.5144014297023, 316.2154830044842, 290.69615058114925, 273.12936353100156, 303.28890663300814, 262.4149727354655, 242.30530224185256, 246.47085731331325, 221.72066106273513, 210.19107588914366, 218.6429445618484, 198.9695555814552, 171.32387523559356, 152.0063008007186, 153.90632509643038, 154.39924260229273, 146.33012003767502, 139.69534710972678, 121.07167019699573, 157.52532332858084, 146.93514561298164, 114.564861745088, 119.69007232479848, 126.8069063044839, 124.84086831384819, 1061.3377475597097, 1839.7403688613094, 913.4890888901571, 288.69666900722257, 848.9834100186318, 1102.822702968087, 244.20170635729858, 395.6733390355465, 266.74724286595114], \"Category\": [\"Default\", \"Default\", \"Default\", \"Default\", \"Default\", \"Default\", \"Default\", \"Default\", \"Default\", \"Default\", \"Default\", \"Default\", \"Default\", \"Default\", \"Default\", \"Default\", \"Default\", \"Default\", \"Default\", \"Default\", \"Default\", \"Default\", \"Default\", \"Default\", \"Default\", \"Default\", \"Default\", \"Default\", \"Default\", \"Default\", \"Topic1\", \"Topic1\", \"Topic1\", \"Topic1\", \"Topic1\", \"Topic1\", \"Topic1\", \"Topic1\", \"Topic1\", \"Topic1\", \"Topic1\", \"Topic1\", \"Topic1\", \"Topic1\", \"Topic1\", \"Topic1\", \"Topic1\", \"Topic1\", \"Topic1\", \"Topic1\", \"Topic1\", \"Topic1\", \"Topic1\", \"Topic1\", \"Topic1\", \"Topic1\", \"Topic1\", \"Topic1\", \"Topic1\", \"Topic1\", \"Topic1\", \"Topic1\", \"Topic1\", \"Topic1\", \"Topic1\", \"Topic1\", \"Topic1\", \"Topic1\", \"Topic1\", \"Topic1\", \"Topic1\", \"Topic2\", \"Topic2\", \"Topic2\", \"Topic2\", \"Topic2\", \"Topic2\", \"Topic2\", \"Topic2\", \"Topic2\", \"Topic2\", \"Topic2\", \"Topic2\", \"Topic2\", \"Topic2\", \"Topic2\", \"Topic2\", \"Topic2\", \"Topic2\", \"Topic2\", \"Topic2\", \"Topic2\", \"Topic2\", \"Topic2\", \"Topic2\", \"Topic2\", \"Topic2\", \"Topic2\", \"Topic2\", \"Topic2\", \"Topic2\", \"Topic2\", \"Topic2\", \"Topic2\", \"Topic2\", \"Topic2\", \"Topic2\", \"Topic2\", \"Topic2\", \"Topic2\", \"Topic2\", \"Topic2\", \"Topic2\", \"Topic2\", \"Topic3\", \"Topic3\", \"Topic3\", \"Topic3\", \"Topic3\", \"Topic3\", \"Topic3\", \"Topic3\", \"Topic3\", \"Topic3\", \"Topic3\", \"Topic3\", \"Topic3\", \"Topic3\", \"Topic3\", \"Topic3\", \"Topic3\", \"Topic3\", \"Topic3\", \"Topic3\", \"Topic3\", \"Topic3\", \"Topic3\", \"Topic3\", \"Topic3\", \"Topic3\", \"Topic3\", \"Topic3\", \"Topic3\", \"Topic3\", \"Topic3\", \"Topic3\", \"Topic3\", \"Topic3\", \"Topic3\", \"Topic3\", \"Topic3\", \"Topic3\", \"Topic3\", \"Topic3\", \"Topic3\"], \"logprob\": [30.0, 29.0, 28.0, 27.0, 26.0, 25.0, 24.0, 23.0, 22.0, 21.0, 20.0, 19.0, 18.0, 17.0, 16.0, 15.0, 14.0, 13.0, 12.0, 11.0, 10.0, 9.0, 8.0, 7.0, 6.0, 5.0, 4.0, 3.0, 2.0, 1.0, -3.7249, -3.8619, -3.896, -4.0564, -4.3951, -4.3376, -4.4205, -4.5522, -4.5295, -4.6112, -4.5755, -4.655, -4.6687, -4.6362, -4.6209, -4.6277, -4.6851, -4.8137, -4.9485, -5.053, -4.9259, -5.1132, -5.2096, -5.1704, -5.1506, -5.2493, -5.2049, -5.2399, -5.1675, -5.2074, -5.0158, -5.2233, -3.832, -3.6223, -4.1072, -4.2356, -4.3097, -4.0631, -4.9785, -4.9913, -4.9734, -2.2067, -3.2325, -3.2319, -4.2237, -4.2089, -4.307, -4.3122, -4.3919, -4.4737, -4.4836, -4.6224, -4.7592, -4.8416, -4.9489, -4.927, -5.3293, -5.1657, -5.1924, -5.2997, -5.4063, -5.4374, -5.3473, -5.4207, -5.451, -5.4994, -5.3352, -5.3506, -5.6401, -5.7022, -5.7122, -3.3188, -2.5587, -3.8429, -4.8266, -4.5941, -4.9077, -4.5399, -4.4551, -4.4828, -4.7292, -5.0134, -5.0981, -4.7985, -2.6362, -2.8905, -3.8166, -3.9712, -3.9347, -4.3951, -4.4472, -4.272, -4.5235, -4.6078, -4.6701, -4.5654, -4.7103, -4.7901, -4.7731, -4.8791, -4.9329, -4.8935, -4.988, -5.1379, -5.2582, -5.2459, -5.2428, -5.2966, -5.3436, -5.4871, -5.2239, -5.2936, -5.5431, -5.4994, -5.4423, -5.4591, -4.2347, -4.0595, -4.5742, -5.0866, -4.7355, -4.6982, -5.1802, -5.147, -5.2136], \"loglift\": [30.0, 29.0, 28.0, 27.0, 26.0, 25.0, 24.0, 23.0, 22.0, 21.0, 20.0, 19.0, 18.0, 17.0, 16.0, 15.0, 14.0, 13.0, 12.0, 11.0, 10.0, 9.0, 8.0, 7.0, 6.0, 5.0, 4.0, 3.0, 2.0, 1.0, 0.9959, 0.9957, 0.9957, 0.9955, 0.9952, 0.9952, 0.9951, 0.9948, 0.9948, 0.9948, 0.9948, 0.9947, 0.9947, 0.9946, 0.9946, 0.9945, 0.9945, 0.9942, 0.9939, 0.9936, 0.9936, 0.9934, 0.9933, 0.9933, 0.9931, 0.9931, 0.9931, 0.9931, 0.993, 0.9929, 0.9929, 0.9929, 0.7217, 0.4196, 0.4797, 0.5358, 0.4323, -0.6763, 0.6379, 0.585, 0.2245, 1.0399, 1.0395, 1.0395, 1.0384, 1.0384, 1.0383, 1.0382, 1.0381, 1.038, 1.038, 1.0375, 1.0374, 1.0372, 1.0369, 1.0368, 1.0357, 1.0357, 1.0354, 1.0353, 1.035, 1.0349, 1.0346, 1.0346, 1.0344, 1.0344, 1.034, 1.0339, 1.0336, 1.0331, 1.0327, 0.9556, 0.8281, 0.8733, 0.898, 0.7943, 0.7918, 0.2753, 0.1319, 0.1092, 0.0423, 0.5011, 0.4806, -0.7566, 1.2816, 1.2815, 1.2806, 1.2806, 1.2805, 1.2798, 1.2797, 1.2797, 1.2793, 1.2792, 1.2792, 1.2792, 1.2791, 1.279, 1.2789, 1.2788, 1.2784, 1.2783, 1.2781, 1.2778, 1.2772, 1.277, 1.277, 1.2768, 1.2762, 1.2758, 1.2758, 1.2757, 1.2751, 1.275, 1.2743, 1.2731, 0.3573, -0.0176, 0.1678, 0.8073, 0.0797, -0.1445, 0.8811, 0.4317, 0.7594]}, \"token.table\": {\"Topic\": [3, 1, 3, 1, 3, 3, 1, 1, 2, 3, 3, 3, 2, 3, 1, 2, 1, 3, 3, 1, 2, 1, 3, 3, 2, 1, 3, 1, 2, 1, 3, 1, 1, 2, 3, 2, 2, 1, 2, 2, 2, 2, 1, 1, 2, 2, 3, 1, 1, 2, 3, 2, 3, 2, 3, 2, 1, 3, 2, 3, 1, 2, 3, 1, 3, 1, 2, 3, 1, 2, 3, 1, 3, 2, 3, 3, 1, 2, 3, 3, 2, 3, 3, 3, 1, 1, 1, 1, 3, 2, 3, 1, 2, 3, 2, 2, 1, 2, 3, 1, 1, 3, 1, 2, 3, 1, 2, 1, 2, 1, 3, 1, 2, 3, 2, 1, 2, 3, 2, 1, 3, 2, 1, 3, 2, 3, 1, 3, 1, 3, 1, 2, 1, 3, 1, 2, 3, 2, 2, 1, 3, 2, 3, 1, 1, 1, 1, 3, 2, 3, 1, 1, 2, 1, 2, 1, 2, 1], \"Freq\": [0.9941111900640697, 0.006348185668624897, 0.9966651499741088, 0.0017571855706834784, 0.9980814041482157, 0.9990148087888496, 0.9955365690211561, 0.5614922722163052, 0.16578426236783453, 0.27286458920869816, 0.9981095732562191, 0.996611315132035, 0.9977197903375343, 0.002011531835357932, 0.6631248365183843, 0.3353444990758369, 0.9979981757992887, 0.9987867700138392, 0.9936356573569896, 0.9961308479587657, 0.9931211603596303, 0.9981091506149036, 0.9976052294474573, 0.9997844306733356, 0.9955200294339909, 0.994554600129858, 0.0038849789067572577, 0.9990755941871609, 0.9996724389584104, 0.9952341917768849, 0.9958650966106273, 0.9984272365242091, 0.9983432483652325, 0.9189976620532648, 0.08092665979275018, 0.9986102909799649, 0.9951075710144666, 0.9944745759162381, 0.997917718615249, 0.9918288219123685, 0.9962677920443705, 0.9958384660693449, 0.9962595933794823, 0.21728793148666387, 0.7814008305385797, 0.37755891113961226, 0.6234917798635798, 0.9980575211084858, 0.9976694802196721, 0.7814555936067936, 0.21960613396979237, 0.8460021246760294, 0.15362459767130926, 0.32759803849588864, 0.6715759789165717, 0.9896726622245754, 0.7598682886602215, 0.2402924779176118, 0.9944238452909212, 0.9943333660379956, 0.2343979842852674, 0.46526233061648553, 0.30035922609418686, 0.0031624004950631056, 0.9961561559448784, 0.20916998430559497, 0.393842583061886, 0.3966692044714211, 0.18775473532158615, 0.8088982205960066, 0.003388055374224111, 0.0024599374498985075, 0.998734604658794, 0.5711782364484674, 0.42712000867164157, 0.9942345065769043, 0.9991060283685185, 0.9996657328875947, 0.9984186392600249, 0.9996022290129413, 0.9962140426035406, 0.9957502348262023, 0.9980896024850732, 0.9977440048734326, 0.9966465344132485, 0.9978544187061155, 0.9990818193779711, 0.4048776618631196, 0.5923210238367861, 0.9977117699023821, 0.995022403221629, 0.008010197409761794, 0.008010197409761794, 0.9932644788104624, 0.9976216804102209, 0.993078051684859, 0.4147679258797885, 0.5830451986653027, 0.0023701024335987917, 0.997364074003243, 0.9983619319724584, 0.9987400100656988, 0.5692459891685994, 0.10290215958047756, 0.32841114759726886, 0.9962345310194507, 0.9996004076897039, 0.5962140443514925, 0.4031006903634305, 0.9984290718393511, 0.9974142191660803, 0.462808830585215, 0.329837636723045, 0.2089547332119814, 0.994009966671473, 0.005657192413690291, 0.9956658648094914, 0.005657192413690291, 0.9960355120660008, 0.9986002883064978, 0.9967496891842154, 0.9962612804728487, 0.9974369212465524, 0.9951271159116688, 0.9963577534453169, 0.004836688123520955, 0.9987768488843699, 0.9950695026687604, 0.6980988453077603, 0.29918521941761156, 0.998038946740153, 0.9977663658354153, 0.9949044276521898, 0.9933798744169304, 0.005571723584678865, 0.9917667980728381, 0.005571723584678865, 0.998093715687434, 0.9949556402082684, 0.007886005811062358, 0.9936367321938571, 0.9973684877380491, 0.9970593857344136, 0.9984597899847625, 0.9984434174090696, 0.9967190172292303, 0.9993784600118014, 0.9911484644157299, 0.9972568991875395, 0.9993892088731289, 0.9979979649964289, 0.6302268482864137, 0.3686657949725533, 0.004710717568295455, 0.993961406910341, 0.13159610517952733, 0.8685342941848804, 0.9984115114290625], \"Term\": [\"admin\", \"agustus\", \"agustus\", \"alas\", \"alas\", \"ambil\", \"angkat\", \"antar\", \"antar\", \"antar\", \"antri\", \"bagus\", \"baik\", \"baik\", \"barang\", \"barang\", \"bawa\", \"bayar\", \"becus\", \"besok\", \"bikin\", \"bilang\", \"bintang\", \"buruk\", \"butuh\", \"cabang\", \"cabang\", \"cek\", \"cepat\", \"chat\", \"cod\", \"customer\", \"di\", \"ekspedisi\", \"ekspedisi\", \"estimasi\", \"express\", \"gagal\", \"ganti\", \"gera\", \"gerak\", \"gin\", \"handphone\", \"hari\", \"hari\", \"hilang\", \"hilang\", \"hubung\", \"informasi\", \"jalan\", \"jalan\", \"jasa\", \"jasa\", \"jual\", \"jual\", \"juli\", \"kantor\", \"kantor\", \"kapok\", \"karyawan\", \"kecewa\", \"kecewa\", \"kecewa\", \"kembali\", \"kembali\", \"kerja\", \"kerja\", \"kerja\", \"kirim\", \"kirim\", \"kirim\", \"konfirmasi\", \"konfirmasi\", \"kota\", \"kota\", \"kunjung\", \"kurir\", \"lambat\", \"langgan\", \"layan\", \"lebih\", \"lokasi\", \"mahal\", \"main\", \"malam\", \"malas\", \"mana\", \"masuk\", \"masuk\", \"minggu\", \"moga\", \"muter\", \"muter\", \"muter\", \"nama\", \"nan\", \"niat\", \"niat\", \"niat\", \"no\", \"nomor\", \"ongkir\", \"orang\", \"orang\", \"orang\", \"pagi\", \"pakai\", \"paket\", \"paket\", \"pas\", \"pegawai\", \"pesan\", \"pesan\", \"pesan\", \"pilih\", \"pindah\", \"pindah\", \"pindah\", \"proses\", \"pusat\", \"ramah\", \"reguler\", \"resi\", \"retur\", \"rugi\", \"rugi\", \"rumah\", \"rusak\", \"salah\", \"salah\", \"service\", \"sesuai\", \"smpai\", \"so\", \"sortation\", \"sortation\", \"sortation\", \"sortir\", \"stuck\", \"susah\", \"susah\", \"tahan\", \"tanggung\", \"telepon\", \"telpon\", \"terang\", \"terima\", \"tingkat\", \"transit\", \"tuju\", \"tulis\", \"tutup\", \"tutup\", \"update\", \"update\", \"waktu\", \"waktu\", \"whatsapp\"]}, \"R\": 30, \"lambda.step\": 0.01, \"plot.opts\": {\"xlab\": \"PC1\", \"ylab\": \"PC2\"}, \"topic.order\": [3, 2, 1]};\n",
       "\n",
       "function LDAvis_load_lib(url, callback){\n",
       "  var s = document.createElement('script');\n",
       "  s.src = url;\n",
       "  s.async = true;\n",
       "  s.onreadystatechange = s.onload = callback;\n",
       "  s.onerror = function(){console.warn(\"failed to load library \" + url);};\n",
       "  document.getElementsByTagName(\"head\")[0].appendChild(s);\n",
       "}\n",
       "\n",
       "if(typeof(LDAvis) !== \"undefined\"){\n",
       "   // already loaded: just create the visualization\n",
       "   !function(LDAvis){\n",
       "       new LDAvis(\"#\" + \"ldavis_el958421790667647523803537206\", ldavis_el958421790667647523803537206_data);\n",
       "   }(LDAvis);\n",
       "}else if(typeof define === \"function\" && define.amd){\n",
       "   // require.js is available: use it to load d3/LDAvis\n",
       "   require.config({paths: {d3: \"https://d3js.org/d3.v5\"}});\n",
       "   require([\"d3\"], function(d3){\n",
       "      window.d3 = d3;\n",
       "      LDAvis_load_lib(\"https://cdn.jsdelivr.net/gh/bmabey/pyLDAvis@3.4.0/pyLDAvis/js/ldavis.v3.0.0.js\", function(){\n",
       "        new LDAvis(\"#\" + \"ldavis_el958421790667647523803537206\", ldavis_el958421790667647523803537206_data);\n",
       "      });\n",
       "    });\n",
       "}else{\n",
       "    // require.js not available: dynamically load d3 & LDAvis\n",
       "    LDAvis_load_lib(\"https://d3js.org/d3.v5.js\", function(){\n",
       "         LDAvis_load_lib(\"https://cdn.jsdelivr.net/gh/bmabey/pyLDAvis@3.4.0/pyLDAvis/js/ldavis.v3.0.0.js\", function(){\n",
       "                 new LDAvis(\"#\" + \"ldavis_el958421790667647523803537206\", ldavis_el958421790667647523803537206_data);\n",
       "            })\n",
       "         });\n",
       "}\n",
       "</script>"
      ],
      "text/plain": [
       "<IPython.core.display.HTML object>"
      ]
     },
     "execution_count": 26,
     "metadata": {},
     "output_type": "execute_result"
    }
   ],
   "source": [
    "vis = gensimvis.prepare(lda_model, corpus, dictionary)\n",
    "pyLDAvis.display(vis)"
   ]
  },
  {
   "cell_type": "markdown",
   "metadata": {},
   "source": [
    "---"
   ]
  }
 ],
 "metadata": {
  "kernelspec": {
   "display_name": "secondphase",
   "language": "python",
   "name": "python3"
  },
  "language_info": {
   "codemirror_mode": {
    "name": "ipython",
    "version": 3
   },
   "file_extension": ".py",
   "mimetype": "text/x-python",
   "name": "python",
   "nbconvert_exporter": "python",
   "pygments_lexer": "ipython3",
   "version": "3.9.21"
  }
 },
 "nbformat": 4,
 "nbformat_minor": 2
}
