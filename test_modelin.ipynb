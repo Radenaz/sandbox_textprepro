{
 "cells": [
  {
   "cell_type": "code",
   "execution_count": 1,
   "metadata": {},
   "outputs": [],
   "source": [
    "import pandas as pd\n",
    "import asyncio\n",
    "import re\n",
    "from nltk.corpus import stopwords\n",
    "from nltk.tokenize import word_tokenize\n",
    "from nltk.stem import WordNetLemmatizer\n",
    "from Sastrawi.Stemmer.StemmerFactory import StemmerFactory\n",
    "import contractions\n",
    "from googletrans import Translator\n",
    "import json\n",
    "import os\n",
    "from datetime import datetime, timedelta\n",
    "import matplotlib.pyplot as plt\n",
    "from wordcloud import WordCloud\n",
    "from collections import Counter\n",
    "from sklearn.feature_extraction.text import CountVectorizer\n",
    "from gensim.corpora import Dictionary\n",
    "\n",
    "from gensim.models import LdaModel\n",
    "from gensim.models import CoherenceModel\n",
    "\n",
    "import pyLDAvis.gensim_models as gensimvis\n",
    "import pyLDAvis\n",
    "\n",
    "\n",
    "import nest_asyncio\n",
    "nest_asyncio.apply()"
   ]
  },
  {
   "cell_type": "code",
   "execution_count": 2,
   "metadata": {},
   "outputs": [],
   "source": [
    "# load data\n",
    "df = pd.read_csv('prepro_cleaned_reviews.csv')"
   ]
  },
  {
   "cell_type": "code",
   "execution_count": 3,
   "metadata": {},
   "outputs": [
    {
     "data": {
      "text/html": [
       "<div>\n",
       "<style scoped>\n",
       "    .dataframe tbody tr th:only-of-type {\n",
       "        vertical-align: middle;\n",
       "    }\n",
       "\n",
       "    .dataframe tbody tr th {\n",
       "        vertical-align: top;\n",
       "    }\n",
       "\n",
       "    .dataframe thead th {\n",
       "        text-align: right;\n",
       "    }\n",
       "</style>\n",
       "<table border=\"1\" class=\"dataframe\">\n",
       "  <thead>\n",
       "    <tr style=\"text-align: right;\">\n",
       "      <th></th>\n",
       "      <th>rating</th>\n",
       "      <th>reviews</th>\n",
       "      <th>company</th>\n",
       "      <th>province</th>\n",
       "      <th>parsed_date</th>\n",
       "      <th>processed_reviews</th>\n",
       "    </tr>\n",
       "  </thead>\n",
       "  <tbody>\n",
       "    <tr>\n",
       "      <th>0</th>\n",
       "      <td>5</td>\n",
       "      <td>Located at the Padang Old City area, just arou...</td>\n",
       "      <td>JNE</td>\n",
       "      <td>Aceh</td>\n",
       "      <td>2024-04-25</td>\n",
       "      <td>letak kawasan kota tua jembatan siti nurbaya s...</td>\n",
       "    </tr>\n",
       "    <tr>\n",
       "      <th>1</th>\n",
       "      <td>1</td>\n",
       "      <td>Bad service given to customers, my own experie...</td>\n",
       "      <td>JNE</td>\n",
       "      <td>Aceh</td>\n",
       "      <td>2021-01-21</td>\n",
       "      <td>layan buruk langgan alam ambil jasa kirim kelu...</td>\n",
       "    </tr>\n",
       "    <tr>\n",
       "      <th>2</th>\n",
       "      <td>5</td>\n",
       "      <td>Nice Place, they're working on rebuild their o...</td>\n",
       "      <td>JNE</td>\n",
       "      <td>Aceh</td>\n",
       "      <td>2022-01-21</td>\n",
       "      <td>bagus upaya bangun kantor orang orang hebat layan</td>\n",
       "    </tr>\n",
       "    <tr>\n",
       "      <th>3</th>\n",
       "      <td>5</td>\n",
       "      <td>Good delivery service for customers in this co...</td>\n",
       "      <td>JNE</td>\n",
       "      <td>Aceh</td>\n",
       "      <td>2023-01-21</td>\n",
       "      <td>kirim langgan negara</td>\n",
       "    </tr>\n",
       "    <tr>\n",
       "      <th>4</th>\n",
       "      <td>5</td>\n",
       "      <td>Good service</td>\n",
       "      <td>JNE</td>\n",
       "      <td>Aceh</td>\n",
       "      <td>2022-01-21</td>\n",
       "      <td>layan bagus</td>\n",
       "    </tr>\n",
       "    <tr>\n",
       "      <th>...</th>\n",
       "      <td>...</td>\n",
       "      <td>...</td>\n",
       "      <td>...</td>\n",
       "      <td>...</td>\n",
       "      <td>...</td>\n",
       "      <td>...</td>\n",
       "    </tr>\n",
       "    <tr>\n",
       "      <th>17659</th>\n",
       "      <td>1</td>\n",
       "      <td>Kargo Silambat</td>\n",
       "      <td>Sicepat</td>\n",
       "      <td>Sumatera Utara</td>\n",
       "      <td>2021-01-21</td>\n",
       "      <td>kargo lambat</td>\n",
       "    </tr>\n",
       "    <tr>\n",
       "      <th>17660</th>\n",
       "      <td>1</td>\n",
       "      <td>SILELET CEMBRETTTTTT</td>\n",
       "      <td>Sicepat</td>\n",
       "      <td>Sumatera Utara</td>\n",
       "      <td>2021-01-21</td>\n",
       "      <td>lambat cembret</td>\n",
       "    </tr>\n",
       "    <tr>\n",
       "      <th>17661</th>\n",
       "      <td>1</td>\n",
       "      <td>Lambat sekali....</td>\n",
       "      <td>Sicepat</td>\n",
       "      <td>Sumatera Utara</td>\n",
       "      <td>2021-01-21</td>\n",
       "      <td>lambat</td>\n",
       "    </tr>\n",
       "    <tr>\n",
       "      <th>17662</th>\n",
       "      <td>1</td>\n",
       "      <td>KERAS!!!!!</td>\n",
       "      <td>Sicepat</td>\n",
       "      <td>Sumatera Utara</td>\n",
       "      <td>2021-01-21</td>\n",
       "      <td>keras</td>\n",
       "    </tr>\n",
       "    <tr>\n",
       "      <th>17663</th>\n",
       "      <td>5</td>\n",
       "      <td>Sicepat adalah yang terbaik</td>\n",
       "      <td>Sicepat</td>\n",
       "      <td>Sumatera Utara</td>\n",
       "      <td>2021-01-21</td>\n",
       "      <td>baik</td>\n",
       "    </tr>\n",
       "  </tbody>\n",
       "</table>\n",
       "<p>17664 rows × 6 columns</p>\n",
       "</div>"
      ],
      "text/plain": [
       "       rating                                            reviews  company  \\\n",
       "0           5  Located at the Padang Old City area, just arou...      JNE   \n",
       "1           1  Bad service given to customers, my own experie...      JNE   \n",
       "2           5  Nice Place, they're working on rebuild their o...      JNE   \n",
       "3           5  Good delivery service for customers in this co...      JNE   \n",
       "4           5                                       Good service      JNE   \n",
       "...       ...                                                ...      ...   \n",
       "17659       1                                     Kargo Silambat  Sicepat   \n",
       "17660       1                               SILELET CEMBRETTTTTT  Sicepat   \n",
       "17661       1                                  Lambat sekali....  Sicepat   \n",
       "17662       1                                         KERAS!!!!!  Sicepat   \n",
       "17663       5                        Sicepat adalah yang terbaik  Sicepat   \n",
       "\n",
       "             province parsed_date  \\\n",
       "0                Aceh  2024-04-25   \n",
       "1                Aceh  2021-01-21   \n",
       "2                Aceh  2022-01-21   \n",
       "3                Aceh  2023-01-21   \n",
       "4                Aceh  2022-01-21   \n",
       "...               ...         ...   \n",
       "17659  Sumatera Utara  2021-01-21   \n",
       "17660  Sumatera Utara  2021-01-21   \n",
       "17661  Sumatera Utara  2021-01-21   \n",
       "17662  Sumatera Utara  2021-01-21   \n",
       "17663  Sumatera Utara  2021-01-21   \n",
       "\n",
       "                                       processed_reviews  \n",
       "0      letak kawasan kota tua jembatan siti nurbaya s...  \n",
       "1      layan buruk langgan alam ambil jasa kirim kelu...  \n",
       "2      bagus upaya bangun kantor orang orang hebat layan  \n",
       "3                                   kirim langgan negara  \n",
       "4                                            layan bagus  \n",
       "...                                                  ...  \n",
       "17659                                       kargo lambat  \n",
       "17660                                     lambat cembret  \n",
       "17661                                             lambat  \n",
       "17662                                              keras  \n",
       "17663                                               baik  \n",
       "\n",
       "[17664 rows x 6 columns]"
      ]
     },
     "execution_count": 3,
     "metadata": {},
     "output_type": "execute_result"
    }
   ],
   "source": [
    "df"
   ]
  },
  {
   "cell_type": "code",
   "execution_count": 4,
   "metadata": {},
   "outputs": [
    {
     "name": "stdout",
     "output_type": "stream",
     "text": [
      "<class 'pandas.core.frame.DataFrame'>\n",
      "RangeIndex: 17664 entries, 0 to 17663\n",
      "Data columns (total 6 columns):\n",
      " #   Column             Non-Null Count  Dtype \n",
      "---  ------             --------------  ----- \n",
      " 0   rating             17664 non-null  int64 \n",
      " 1   reviews            17664 non-null  object\n",
      " 2   company            17664 non-null  object\n",
      " 3   province           17664 non-null  object\n",
      " 4   parsed_date        17664 non-null  object\n",
      " 5   processed_reviews  17080 non-null  object\n",
      "dtypes: int64(1), object(5)\n",
      "memory usage: 828.1+ KB\n"
     ]
    }
   ],
   "source": [
    "df.info()"
   ]
  },
  {
   "cell_type": "code",
   "execution_count": 5,
   "metadata": {},
   "outputs": [],
   "source": [
    "modeling_df = df.copy()"
   ]
  },
  {
   "cell_type": "code",
   "execution_count": 6,
   "metadata": {},
   "outputs": [],
   "source": [
    "jelek_modeling = modeling_df.query(\"rating <= 3\" )\n",
    "bagus_modeling = modeling_df.query(\"rating >= 4\")"
   ]
  },
  {
   "cell_type": "code",
   "execution_count": 7,
   "metadata": {},
   "outputs": [
    {
     "data": {
      "text/plain": [
       "(13927, 6)"
      ]
     },
     "execution_count": 7,
     "metadata": {},
     "output_type": "execute_result"
    }
   ],
   "source": [
    "jelek_modeling.shape"
   ]
  },
  {
   "cell_type": "code",
   "execution_count": 8,
   "metadata": {},
   "outputs": [
    {
     "data": {
      "text/plain": [
       "(3737, 6)"
      ]
     },
     "execution_count": 8,
     "metadata": {},
     "output_type": "execute_result"
    }
   ],
   "source": [
    "bagus_modeling.shape"
   ]
  },
  {
   "cell_type": "markdown",
   "metadata": {},
   "source": [
    "# 1. jelek modeling"
   ]
  },
  {
   "cell_type": "code",
   "execution_count": 9,
   "metadata": {},
   "outputs": [
    {
     "name": "stderr",
     "output_type": "stream",
     "text": [
      "C:\\Users\\Niko Amrullah Hakam\\AppData\\Local\\Temp\\ipykernel_22060\\2846537713.py:2: SettingWithCopyWarning: \n",
      "A value is trying to be set on a copy of a slice from a DataFrame.\n",
      "Try using .loc[row_indexer,col_indexer] = value instead\n",
      "\n",
      "See the caveats in the documentation: https://pandas.pydata.org/pandas-docs/stable/user_guide/indexing.html#returning-a-view-versus-a-copy\n",
      "  jelek_modeling['processed_reviews'] = jelek_modeling['processed_reviews'].astype(str)\n",
      "C:\\Users\\Niko Amrullah Hakam\\AppData\\Local\\Temp\\ipykernel_22060\\2846537713.py:5: SettingWithCopyWarning: \n",
      "A value is trying to be set on a copy of a slice from a DataFrame.\n",
      "Try using .loc[row_indexer,col_indexer] = value instead\n",
      "\n",
      "See the caveats in the documentation: https://pandas.pydata.org/pandas-docs/stable/user_guide/indexing.html#returning-a-view-versus-a-copy\n",
      "  jelek_modeling['tokenized_reviews'] = jelek_modeling['processed_reviews'].apply(word_tokenize)\n"
     ]
    }
   ],
   "source": [
    "# Ensure the 'processed_reviews' column is treated as string\n",
    "jelek_modeling['processed_reviews'] = jelek_modeling['processed_reviews'].astype(str)\n",
    "\n",
    "# Tokenize the processed_reviews column\n",
    "jelek_modeling['tokenized_reviews'] = jelek_modeling['processed_reviews'].apply(word_tokenize)"
   ]
  },
  {
   "cell_type": "code",
   "execution_count": 10,
   "metadata": {},
   "outputs": [],
   "source": [
    "# # Save the result to a new CSV file\n",
    "# output_file = 'tokenized_reviews.csv'\n",
    "# modeling_df.to_csv(output_file, index=False)\n",
    "\n",
    "# print(f\"Tokenized reviews saved to {output_file}\")"
   ]
  },
  {
   "cell_type": "code",
   "execution_count": 11,
   "metadata": {},
   "outputs": [
    {
     "data": {
      "text/html": [
       "<div>\n",
       "<style scoped>\n",
       "    .dataframe tbody tr th:only-of-type {\n",
       "        vertical-align: middle;\n",
       "    }\n",
       "\n",
       "    .dataframe tbody tr th {\n",
       "        vertical-align: top;\n",
       "    }\n",
       "\n",
       "    .dataframe thead th {\n",
       "        text-align: right;\n",
       "    }\n",
       "</style>\n",
       "<table border=\"1\" class=\"dataframe\">\n",
       "  <thead>\n",
       "    <tr style=\"text-align: right;\">\n",
       "      <th></th>\n",
       "      <th>rating</th>\n",
       "      <th>reviews</th>\n",
       "      <th>company</th>\n",
       "      <th>province</th>\n",
       "      <th>parsed_date</th>\n",
       "      <th>processed_reviews</th>\n",
       "      <th>tokenized_reviews</th>\n",
       "    </tr>\n",
       "  </thead>\n",
       "  <tbody>\n",
       "    <tr>\n",
       "      <th>1</th>\n",
       "      <td>1</td>\n",
       "      <td>Bad service given to customers, my own experie...</td>\n",
       "      <td>JNE</td>\n",
       "      <td>Aceh</td>\n",
       "      <td>2021-01-21</td>\n",
       "      <td>layan buruk langgan alam ambil jasa kirim kelu...</td>\n",
       "      <td>[layan, buruk, langgan, alam, ambil, jasa, kir...</td>\n",
       "    </tr>\n",
       "    <tr>\n",
       "      <th>7</th>\n",
       "      <td>1</td>\n",
       "      <td>Too slow</td>\n",
       "      <td>JNE</td>\n",
       "      <td>Aceh</td>\n",
       "      <td>2016-01-23</td>\n",
       "      <td>lambat</td>\n",
       "      <td>[lambat]</td>\n",
       "    </tr>\n",
       "    <tr>\n",
       "      <th>18</th>\n",
       "      <td>2</td>\n",
       "      <td>Slow service</td>\n",
       "      <td>JNE</td>\n",
       "      <td>Aceh</td>\n",
       "      <td>2022-01-21</td>\n",
       "      <td>lambat</td>\n",
       "      <td>[lambat]</td>\n",
       "    </tr>\n",
       "    <tr>\n",
       "      <th>20</th>\n",
       "      <td>1</td>\n",
       "      <td>Bad service</td>\n",
       "      <td>JNE</td>\n",
       "      <td>Aceh</td>\n",
       "      <td>2019-01-22</td>\n",
       "      <td>buruk</td>\n",
       "      <td>[buruk]</td>\n",
       "    </tr>\n",
       "    <tr>\n",
       "      <th>24</th>\n",
       "      <td>1</td>\n",
       "      <td>The courier was too slow for many reasons even...</td>\n",
       "      <td>JNE</td>\n",
       "      <td>Aceh</td>\n",
       "      <td>2025-01-06</td>\n",
       "      <td>kurir lambat kira pakai sayang m</td>\n",
       "      <td>[kurir, lambat, kira, pakai, sayang, m]</td>\n",
       "    </tr>\n",
       "    <tr>\n",
       "      <th>...</th>\n",
       "      <td>...</td>\n",
       "      <td>...</td>\n",
       "      <td>...</td>\n",
       "      <td>...</td>\n",
       "      <td>...</td>\n",
       "      <td>...</td>\n",
       "      <td>...</td>\n",
       "    </tr>\n",
       "    <tr>\n",
       "      <th>17658</th>\n",
       "      <td>1</td>\n",
       "      <td>Lambat</td>\n",
       "      <td>Sicepat</td>\n",
       "      <td>Sumatera Utara</td>\n",
       "      <td>2021-01-21</td>\n",
       "      <td>lambat</td>\n",
       "      <td>[lambat]</td>\n",
       "    </tr>\n",
       "    <tr>\n",
       "      <th>17659</th>\n",
       "      <td>1</td>\n",
       "      <td>Kargo Silambat</td>\n",
       "      <td>Sicepat</td>\n",
       "      <td>Sumatera Utara</td>\n",
       "      <td>2021-01-21</td>\n",
       "      <td>kargo lambat</td>\n",
       "      <td>[kargo, lambat]</td>\n",
       "    </tr>\n",
       "    <tr>\n",
       "      <th>17660</th>\n",
       "      <td>1</td>\n",
       "      <td>SILELET CEMBRETTTTTT</td>\n",
       "      <td>Sicepat</td>\n",
       "      <td>Sumatera Utara</td>\n",
       "      <td>2021-01-21</td>\n",
       "      <td>lambat cembret</td>\n",
       "      <td>[lambat, cembret]</td>\n",
       "    </tr>\n",
       "    <tr>\n",
       "      <th>17661</th>\n",
       "      <td>1</td>\n",
       "      <td>Lambat sekali....</td>\n",
       "      <td>Sicepat</td>\n",
       "      <td>Sumatera Utara</td>\n",
       "      <td>2021-01-21</td>\n",
       "      <td>lambat</td>\n",
       "      <td>[lambat]</td>\n",
       "    </tr>\n",
       "    <tr>\n",
       "      <th>17662</th>\n",
       "      <td>1</td>\n",
       "      <td>KERAS!!!!!</td>\n",
       "      <td>Sicepat</td>\n",
       "      <td>Sumatera Utara</td>\n",
       "      <td>2021-01-21</td>\n",
       "      <td>keras</td>\n",
       "      <td>[keras]</td>\n",
       "    </tr>\n",
       "  </tbody>\n",
       "</table>\n",
       "<p>13927 rows × 7 columns</p>\n",
       "</div>"
      ],
      "text/plain": [
       "       rating                                            reviews  company  \\\n",
       "1           1  Bad service given to customers, my own experie...      JNE   \n",
       "7           1                                           Too slow      JNE   \n",
       "18          2                                       Slow service      JNE   \n",
       "20          1                                        Bad service      JNE   \n",
       "24          1  The courier was too slow for many reasons even...      JNE   \n",
       "...       ...                                                ...      ...   \n",
       "17658       1                                             Lambat  Sicepat   \n",
       "17659       1                                     Kargo Silambat  Sicepat   \n",
       "17660       1                               SILELET CEMBRETTTTTT  Sicepat   \n",
       "17661       1                                  Lambat sekali....  Sicepat   \n",
       "17662       1                                         KERAS!!!!!  Sicepat   \n",
       "\n",
       "             province parsed_date  \\\n",
       "1                Aceh  2021-01-21   \n",
       "7                Aceh  2016-01-23   \n",
       "18               Aceh  2022-01-21   \n",
       "20               Aceh  2019-01-22   \n",
       "24               Aceh  2025-01-06   \n",
       "...               ...         ...   \n",
       "17658  Sumatera Utara  2021-01-21   \n",
       "17659  Sumatera Utara  2021-01-21   \n",
       "17660  Sumatera Utara  2021-01-21   \n",
       "17661  Sumatera Utara  2021-01-21   \n",
       "17662  Sumatera Utara  2021-01-21   \n",
       "\n",
       "                                       processed_reviews  \\\n",
       "1      layan buruk langgan alam ambil jasa kirim kelu...   \n",
       "7                                                 lambat   \n",
       "18                                                lambat   \n",
       "20                                                 buruk   \n",
       "24                      kurir lambat kira pakai sayang m   \n",
       "...                                                  ...   \n",
       "17658                                             lambat   \n",
       "17659                                       kargo lambat   \n",
       "17660                                     lambat cembret   \n",
       "17661                                             lambat   \n",
       "17662                                              keras   \n",
       "\n",
       "                                       tokenized_reviews  \n",
       "1      [layan, buruk, langgan, alam, ambil, jasa, kir...  \n",
       "7                                               [lambat]  \n",
       "18                                              [lambat]  \n",
       "20                                               [buruk]  \n",
       "24               [kurir, lambat, kira, pakai, sayang, m]  \n",
       "...                                                  ...  \n",
       "17658                                           [lambat]  \n",
       "17659                                    [kargo, lambat]  \n",
       "17660                                  [lambat, cembret]  \n",
       "17661                                           [lambat]  \n",
       "17662                                            [keras]  \n",
       "\n",
       "[13927 rows x 7 columns]"
      ]
     },
     "execution_count": 11,
     "metadata": {},
     "output_type": "execute_result"
    }
   ],
   "source": [
    "jelek_modeling"
   ]
  },
  {
   "cell_type": "code",
   "execution_count": 12,
   "metadata": {},
   "outputs": [],
   "source": [
    "tokenized_reviews = jelek_modeling['tokenized_reviews'].tolist()  # Convert the column to a list of lists\n",
    "dictionary = Dictionary(tokenized_reviews)"
   ]
  },
  {
   "cell_type": "code",
   "execution_count": 13,
   "metadata": {},
   "outputs": [
    {
     "name": "stdout",
     "output_type": "stream",
     "text": [
      "Dictionary created with 10834 unique tokens.\n"
     ]
    }
   ],
   "source": [
    "# # Save dictionary for future use\n",
    "# dictionary.save('lda_dictionary.dict')\n",
    "\n",
    "# Print dictionary information\n",
    "print(f\"Dictionary created with {len(dictionary)} unique tokens.\")"
   ]
  },
  {
   "cell_type": "code",
   "execution_count": 14,
   "metadata": {},
   "outputs": [],
   "source": [
    "# Word counts\n",
    "word_counts = dictionary.cfs  # cfs = term frequency across the corpus\n",
    "sorted_word_counts = sorted(word_counts.items(), key=lambda x: x[1], reverse=True)"
   ]
  },
  {
   "cell_type": "code",
   "execution_count": 15,
   "metadata": {},
   "outputs": [],
   "source": [
    "# Cumulative frequency\n",
    "word_frequencies = [count for _, count in sorted_word_counts]\n",
    "cumulative_frequencies = [sum(word_frequencies[:i]) for i in range(1, len(word_frequencies) + 1)]"
   ]
  },
  {
   "cell_type": "code",
   "execution_count": 16,
   "metadata": {},
   "outputs": [
    {
     "data": {
      "image/png": "[encoded data removed]",
      "text/plain": [
       "<Figure size 1000x600 with 1 Axes>"
      ]
     },
     "metadata": {},
     "output_type": "display_data"
    }
   ],
   "source": [
    "# Plot\n",
    "import matplotlib.pyplot as plt\n",
    "plt.figure(figsize=(10, 6))\n",
    "plt.plot(range(1, len(cumulative_frequencies) + 1), cumulative_frequencies)\n",
    "plt.xlabel('Vocabulary Size')\n",
    "plt.ylabel('Cumulative Word Count')\n",
    "plt.title('Cumulative Word Frequency Distribution')\n",
    "plt.show()"
   ]
  },
  {
   "cell_type": "code",
   "execution_count": 17,
   "metadata": {},
   "outputs": [
    {
     "data": {
      "image/png": "[encoded data removed]",
      "text/plain": [
       "<Figure size 640x480 with 1 Axes>"
      ]
     },
     "metadata": {},
     "output_type": "display_data"
    },
    {
     "name": "stdout",
     "output_type": "stream",
     "text": [
      "count    13927.000000\n",
      "mean         8.373160\n",
      "std          5.362486\n",
      "min          1.000000\n",
      "25%          4.000000\n",
      "50%          8.000000\n",
      "75%         12.000000\n",
      "90%         16.000000\n",
      "95%         18.000000\n",
      "max         39.000000\n",
      "Name: tokenized_reviews, dtype: float64\n"
     ]
    }
   ],
   "source": [
    "sequence_lengths = jelek_modeling['tokenized_reviews'].apply(len)\n",
    "\n",
    "# Plot sequence length distribution\n",
    "plt.hist(sequence_lengths, bins=50, color='blue')\n",
    "plt.xlabel('Sequence Length')\n",
    "plt.ylabel('Frequency')\n",
    "plt.title('Document Length Distribution')\n",
    "plt.show()\n",
    "\n",
    "# Print descriptive stats\n",
    "print(sequence_lengths.describe(percentiles=[0.25, 0.5, 0.75, 0.90, 0.95]))"
   ]
  },
  {
   "cell_type": "markdown",
   "metadata": {},
   "source": [
    "Average banyaknya token untuk text per review = ~8 tokens. 3 sampe 18 tokens an lah. Artinya review kebanyakan singkat padat sumpah serapah, hahaha. Kali bisa jadi EDA juga."
   ]
  },
  {
   "cell_type": "code",
   "execution_count": 18,
   "metadata": {},
   "outputs": [
    {
     "name": "stdout",
     "output_type": "stream",
     "text": [
      "Word Coverage with top 2000 words: 88.62%\n"
     ]
    }
   ],
   "source": [
    "top_n = 2000  # Adjust berdasarkan \"Cumulative Word Frequency Distribution\"\n",
    "word_coverage = sum([freq for _, freq in sorted_word_counts[:top_n]]) / sum(word_frequencies)\n",
    "print(f\"Word Coverage with top {top_n} words: {word_coverage:.2%}\")"
   ]
  },
  {
   "cell_type": "markdown",
   "metadata": {},
   "source": [
    "Nge limit pake 6000 kata udah bisa cover 95% vocabs. Artinya pakai 6000 kata pun udah nge-cover semua."
   ]
  },
  {
   "cell_type": "code",
   "execution_count": 19,
   "metadata": {},
   "outputs": [
    {
     "name": "stdout",
     "output_type": "stream",
     "text": [
      "Filtered dictionary size: 2000\n"
     ]
    }
   ],
   "source": [
    "dictionary.filter_extremes(no_below=5, no_above=0.5, keep_n=2000)\n",
    "print(f\"Filtered dictionary size: {len(dictionary)}\")"
   ]
  },
  {
   "cell_type": "markdown",
   "metadata": {},
   "source": [
    "param no_below=5:\n",
    "- nge remove kata-kata yang hanya muncul di bawah 5 review.\n",
    "\n",
    "param no_above=0.5:\n",
    "- remove kata-kata yang muncul di lebih dari 50% dari review review an. Kemungkinan akan ng-remove kata \"kirim\"\n",
    "\n",
    "keep_n=6000:\n",
    "- Lihat di atas"
   ]
  },
  {
   "cell_type": "code",
   "execution_count": 20,
   "metadata": {},
   "outputs": [],
   "source": [
    "# bikin bag of words\n",
    "corpus = [dictionary.doc2bow(review) for review in tokenized_reviews]"
   ]
  },
  {
   "cell_type": "markdown",
   "metadata": {},
   "source": [
    "---\n",
    "Coba modeling"
   ]
  },
  {
   "cell_type": "code",
   "execution_count": 21,
   "metadata": {},
   "outputs": [],
   "source": [
    "lda_model = LdaModel(corpus=corpus, \n",
    "                     id2word=dictionary,\n",
    "                     alpha='auto',\n",
    "                     eta='auto',\n",
    "                     iterations=100, \n",
    "                     num_topics=3, \n",
    "                     chunksize=500, \n",
    "                     passes=80, \n",
    "                     random_state=37)"
   ]
  },
  {
   "cell_type": "markdown",
   "metadata": {},
   "source": [
    "corpus: corpusnya.\n",
    "\n",
    "id2word: dictionary di atas.\n",
    "\n",
    "num_topics: jumlah cluster.\n",
    "\n",
    "chunksize: Di proses berapa banyak dalam sekali proses. 500 review-an sekali proses.\n",
    "\n",
    "passes: Berapa kali algorithm nya passes through iterasi nya. More passes katanya improve accuracy cuman lebih lama aja.\n",
    "\n",
    "random_state: seed."
   ]
  },
  {
   "cell_type": "code",
   "execution_count": 22,
   "metadata": {},
   "outputs": [
    {
     "name": "stdout",
     "output_type": "stream",
     "text": [
      "Topic 1:\n",
      "lambat kirim layan pakai cepat ekspedisi buruk jasa kecewa sortir ganti baik estimasi hari tahan nama minggu bayar sesuai kota waktu lebih bagus hilang beli rugi langgan jual ubah mahal\n",
      "\n",
      "Topic 2:\n",
      "paket nomor terima customer service telepon barang jalan cek resi gerak pas telpon whatsapp mana butuh respon stuck hubung kembali bintang pusat kemarin pagi cod gudang status gin angkat sortation\n",
      "\n",
      "Topic 3:\n",
      "antar kerja kantor tutup rumah orang kurir pesan tuju alas niat bilang langsung konfirmasi suruh salah malas ambil bawa tunggu mohon lokasi update masuk cabang terang nan cari besok tulis\n",
      "\n"
     ]
    }
   ],
   "source": [
    "for i, topic in lda_model.show_topics(num_topics=4, num_words=30, formatted=False):\n",
    "    print(f\"Topic {i + 1}:\")\n",
    "    print(\" \".join([word for word, _ in topic]))\n",
    "    print()"
   ]
  },
  {
   "cell_type": "code",
   "execution_count": 23,
   "metadata": {},
   "outputs": [],
   "source": [
    "coherence_model = CoherenceModel(model=lda_model, texts=jelek_modeling['tokenized_reviews'], dictionary=dictionary, coherence='c_v')\n",
    "coherence_score = coherence_model.get_coherence()"
   ]
  },
  {
   "cell_type": "code",
   "execution_count": 24,
   "metadata": {},
   "outputs": [
    {
     "name": "stdout",
     "output_type": "stream",
     "text": [
      "Coherence Score: 0.4238004738540748\n"
     ]
    }
   ],
   "source": [
    "print(f\"Coherence Score: {coherence_score}\")"
   ]
  },
  {
   "cell_type": "code",
   "execution_count": 25,
   "metadata": {},
   "outputs": [
    {
     "data": {
      "text/html": [
       "\n",
       "<link rel=\"stylesheet\" type=\"text/css\" href=\"https://cdn.jsdelivr.net/gh/bmabey/pyLDAvis@3.4.0/pyLDAvis/js/ldavis.v1.0.0.css\">\n",
       "\n",
       "\n",
       "<div id=\"ldavis_el2206026432783300005988377056\" style=\"background-color:white;\"></div>\n",
       "<script type=\"text/javascript\">\n",
       "\n",
       "var ldavis_el2206026432783300005988377056_data = {\"mdsDat\": {\"x\": [-0.3740367605840483, 0.2293887382592336, 0.14464802232481477], \"y\": [-0.04797499197259901, -0.2936474871845471, 0.34162247915714594], \"topics\": [1, 2, 3], \"cluster\": [1, 1, 1], \"Freq\": [42.290342837057445, 31.293763700792816, 26.415893462149743]}, \"tinfo\": {\"Term\": [\"lambat\", \"kirim\", \"antar\", \"layan\", \"paket\", \"pakai\", \"cepat\", \"ekspedisi\", \"kerja\", \"kantor\", \"buruk\", \"tutup\", \"nomor\", \"rumah\", \"orang\", \"terima\", \"kurir\", \"jasa\", \"customer\", \"kecewa\", \"pesan\", \"tuju\", \"service\", \"alas\", \"telepon\", \"barang\", \"niat\", \"jalan\", \"sortir\", \"ganti\", \"lambat\", \"kirim\", \"layan\", \"pakai\", \"ekspedisi\", \"cepat\", \"buruk\", \"jasa\", \"kecewa\", \"baik\", \"ganti\", \"sortir\", \"estimasi\", \"hari\", \"tahan\", \"bayar\", \"minggu\", \"nama\", \"sesuai\", \"waktu\", \"kota\", \"lebih\", \"bagus\", \"hilang\", \"beli\", \"rugi\", \"mahal\", \"langgan\", \"proses\", \"jual\", \"ubah\", \"antar\", \"kerja\", \"kantor\", \"rumah\", \"orang\", \"tutup\", \"kurir\", \"pesan\", \"tuju\", \"alas\", \"niat\", \"bilang\", \"langsung\", \"konfirmasi\", \"suruh\", \"ambil\", \"malas\", \"salah\", \"bawa\", \"tunggu\", \"mohon\", \"lokasi\", \"masuk\", \"cabang\", \"terang\", \"nan\", \"update\", \"besok\", \"cari\", \"tulis\", \"paket\", \"nomor\", \"terima\", \"customer\", \"service\", \"telepon\", \"barang\", \"cek\", \"jalan\", \"resi\", \"telpon\", \"whatsapp\", \"gerak\", \"pas\", \"mana\", \"respon\", \"stuck\", \"hubung\", \"butuh\", \"bintang\", \"pusat\", \"pagi\", \"kembali\", \"kemarin\", \"cod\", \"gudang\", \"angkat\", \"chat\", \"di\", \"status\", \"gin\", \"sortation\"], \"Freq\": [4548.0, 3874.0, 1789.0, 1827.0, 1100.0, 1661.0, 1581.0, 1578.0, 1118.0, 1031.0, 1385.0, 913.0, 781.0, 894.0, 889.0, 744.0, 772.0, 1018.0, 617.0, 850.0, 596.0, 586.0, 465.0, 533.0, 448.0, 407.0, 458.0, 395.0, 608.0, 599.0, 4547.636196813096, 3873.901345312145, 1826.5638501497845, 1660.4211556691848, 1577.8802075869535, 1580.7833251633945, 1385.1063976009293, 1018.1273051347043, 849.3557252290432, 576.5925060992362, 598.5989445639531, 607.1826957129633, 557.4006904143356, 513.611430681338, 495.4060776834092, 476.0907354685995, 476.35422618259537, 488.1381526138656, 400.60524356948696, 383.1773834767075, 399.88052204420995, 365.4600741962556, 293.49317609820037, 278.76359355721513, 278.75911795830535, 235.9934480395991, 215.550437992215, 228.9892781512596, 214.8976922348593, 226.80984457489384, 220.99667224370177, 1789.0843230081557, 1117.8351083439825, 1030.5206340524087, 893.8925013122962, 888.2879251689774, 912.9093178353764, 771.6865357974879, 595.986542091417, 585.1884177470448, 532.5914733946146, 458.15838358784015, 404.61762851653094, 390.8590010524036, 379.49976274963706, 365.18065358515713, 347.98326495389057, 349.1341853427698, 352.9841249898034, 331.78806553403535, 279.76888460176866, 279.4359555814368, 274.86948692781266, 252.78085976208268, 243.1159977427062, 234.32946257358668, 222.50899202927792, 257.7004294783269, 215.36620733891036, 219.2791319299243, 210.9782612595363, 1100.0382685466343, 780.5473783639505, 743.3912427383842, 616.659716010889, 464.7309759049605, 447.58931353445536, 406.52205522928585, 379.4152427404314, 394.5806690276452, 362.7051195763857, 342.8559171964485, 338.2116099133619, 355.5447709835532, 345.74049502167543, 336.6069092634764, 318.8589317664399, 317.7005870107268, 287.7838900846186, 321.073632653866, 261.3954963406519, 260.6041123977814, 255.48457828185704, 274.89103363495497, 256.3121017271766, 255.01860234838037, 247.00292678302768, 202.3528002382214, 196.9371610990662, 201.7588747090486, 204.37132614716336, 203.78191170215703, 201.9907317279255], \"Total\": [4548.0, 3874.0, 1789.0, 1827.0, 1100.0, 1661.0, 1581.0, 1578.0, 1118.0, 1031.0, 1385.0, 913.0, 781.0, 894.0, 889.0, 744.0, 772.0, 1018.0, 617.0, 850.0, 596.0, 586.0, 465.0, 533.0, 448.0, 407.0, 458.0, 395.0, 608.0, 599.0, 4548.47507847868, 3874.73317703735, 1827.3811352136302, 1661.2395053618536, 1578.7257021950588, 1581.6457211998625, 1385.9183176199676, 1018.9404284414736, 850.2015900896363, 577.4067364885458, 599.452780207962, 608.070993282916, 558.2675091962858, 514.4810538497923, 496.24631215602034, 476.9334618897801, 477.2098065383765, 489.0301167786514, 401.45193867031406, 383.9972271567678, 400.75394476823004, 366.27182758471173, 294.31793725452997, 279.59763805118973, 279.5996243963204, 236.81041783061866, 216.33582371983854, 229.8242221086873, 215.72365649522203, 227.68746929013435, 221.87674335384705, 1789.8915227076945, 1118.642422959965, 1031.313070463938, 894.664439763095, 889.0785805382367, 913.7381197313704, 772.4826270633384, 596.8202077545676, 586.0110116082774, 533.3778729170488, 458.9750463617135, 405.40165011651055, 391.68533943293806, 380.30211117724934, 365.9793767445945, 348.7609791100708, 349.91860265175944, 353.7983357565759, 332.60299004164546, 280.58573036204115, 280.25903574558987, 275.68852390238385, 253.59894294199694, 243.9132018148995, 235.12769353417332, 223.28229536707826, 258.63101659308444, 216.15600074926857, 220.085909179355, 211.75733886621953, 1100.8629849573997, 781.3360761923485, 744.1844491308459, 617.4410504345461, 465.49956141277517, 448.35295542736117, 407.3514178214233, 380.2097590301986, 395.4297201063824, 363.4885721045556, 343.6390804528457, 338.99066886773824, 356.3780973002087, 346.5668909248128, 337.41643417192387, 319.6485820956208, 318.5612949937664, 288.5691014793792, 321.9540900329645, 262.20318661715953, 261.4109758234093, 256.28528805797447, 275.7625200293243, 257.1489623000509, 255.86135534524558, 247.8739986351689, 203.1042365087289, 197.71224944126052, 202.55993232333844, 205.18370226739037, 204.66496989082358, 203.16340385362412], \"Category\": [\"Default\", \"Default\", \"Default\", \"Default\", \"Default\", \"Default\", \"Default\", \"Default\", \"Default\", \"Default\", \"Default\", \"Default\", \"Default\", \"Default\", \"Default\", \"Default\", \"Default\", \"Default\", \"Default\", \"Default\", \"Default\", \"Default\", \"Default\", \"Default\", \"Default\", \"Default\", \"Default\", \"Default\", \"Default\", \"Default\", \"Topic1\", \"Topic1\", \"Topic1\", \"Topic1\", \"Topic1\", \"Topic1\", \"Topic1\", \"Topic1\", \"Topic1\", \"Topic1\", \"Topic1\", \"Topic1\", \"Topic1\", \"Topic1\", \"Topic1\", \"Topic1\", \"Topic1\", \"Topic1\", \"Topic1\", \"Topic1\", \"Topic1\", \"Topic1\", \"Topic1\", \"Topic1\", \"Topic1\", \"Topic1\", \"Topic1\", \"Topic1\", \"Topic1\", \"Topic1\", \"Topic1\", \"Topic2\", \"Topic2\", \"Topic2\", \"Topic2\", \"Topic2\", \"Topic2\", \"Topic2\", \"Topic2\", \"Topic2\", \"Topic2\", \"Topic2\", \"Topic2\", \"Topic2\", \"Topic2\", \"Topic2\", \"Topic2\", \"Topic2\", \"Topic2\", \"Topic2\", \"Topic2\", \"Topic2\", \"Topic2\", \"Topic2\", \"Topic2\", \"Topic2\", \"Topic2\", \"Topic2\", \"Topic2\", \"Topic2\", \"Topic2\", \"Topic3\", \"Topic3\", \"Topic3\", \"Topic3\", \"Topic3\", \"Topic3\", \"Topic3\", \"Topic3\", \"Topic3\", \"Topic3\", \"Topic3\", \"Topic3\", \"Topic3\", \"Topic3\", \"Topic3\", \"Topic3\", \"Topic3\", \"Topic3\", \"Topic3\", \"Topic3\", \"Topic3\", \"Topic3\", \"Topic3\", \"Topic3\", \"Topic3\", \"Topic3\", \"Topic3\", \"Topic3\", \"Topic3\", \"Topic3\", \"Topic3\", \"Topic3\"], \"logprob\": [30.0, 29.0, 28.0, 27.0, 26.0, 25.0, 24.0, 23.0, 22.0, 21.0, 20.0, 19.0, 18.0, 17.0, 16.0, 15.0, 14.0, 13.0, 12.0, 11.0, 10.0, 9.0, 8.0, 7.0, 6.0, 5.0, 4.0, 3.0, 2.0, 1.0, -2.2625, -2.4228, -3.1746, -3.27, -3.321, -3.3191, -3.4513, -3.7591, -3.9403, -4.3277, -4.2902, -4.276, -4.3615, -4.4434, -4.4794, -4.5192, -4.5187, -4.4942, -4.6918, -4.7363, -4.6937, -4.7837, -5.003, -5.0545, -5.0545, -5.221, -5.3116, -5.2511, -5.3147, -5.2607, -5.2867, -2.8942, -3.3645, -3.4459, -3.5881, -3.5944, -3.567, -3.7351, -3.9935, -4.0117, -4.1059, -4.2565, -4.3807, -4.4153, -4.4448, -4.4833, -4.5315, -4.5282, -4.5173, -4.5792, -4.7497, -4.7509, -4.7674, -4.8512, -4.8901, -4.927, -4.9787, -4.8319, -5.0113, -4.9933, -5.0319, -3.2111, -3.5542, -3.603, -3.7899, -4.0728, -4.1104, -4.2066, -4.2756, -4.2364, -4.3206, -4.3769, -4.3906, -4.3406, -4.3685, -4.3953, -4.4495, -4.4531, -4.552, -4.4426, -4.6482, -4.6512, -4.6711, -4.5979, -4.6678, -4.6729, -4.7048, -4.9042, -4.9313, -4.9072, -4.8943, -4.8972, -4.906], \"loglift\": [30.0, 29.0, 28.0, 27.0, 26.0, 25.0, 24.0, 23.0, 22.0, 21.0, 20.0, 19.0, 18.0, 17.0, 16.0, 15.0, 14.0, 13.0, 12.0, 11.0, 10.0, 9.0, 8.0, 7.0, 6.0, 5.0, 4.0, 3.0, 2.0, 1.0, 0.8604, 0.8604, 0.8602, 0.8601, 0.8601, 0.8601, 0.86, 0.8598, 0.8596, 0.8592, 0.8592, 0.8591, 0.8591, 0.8589, 0.8589, 0.8588, 0.8588, 0.8588, 0.8585, 0.8585, 0.8584, 0.8584, 0.8578, 0.8576, 0.8576, 0.8572, 0.857, 0.857, 0.8568, 0.8567, 0.8566, 1.1613, 1.161, 1.161, 1.1609, 1.1609, 1.1608, 1.1607, 1.1604, 1.1603, 1.1603, 1.16, 1.1598, 1.1596, 1.1596, 1.1596, 1.1595, 1.1595, 1.1594, 1.1593, 1.1588, 1.1588, 1.1588, 1.1585, 1.1585, 1.1584, 1.1583, 1.1581, 1.1581, 1.1581, 1.1581, 1.3305, 1.3302, 1.3301, 1.3299, 1.3296, 1.3295, 1.3292, 1.3291, 1.3291, 1.329, 1.3289, 1.3289, 1.3289, 1.3288, 1.3288, 1.3287, 1.3285, 1.3285, 1.3285, 1.3281, 1.3281, 1.3281, 1.328, 1.3279, 1.3279, 1.3277, 1.3275, 1.3273, 1.3272, 1.3272, 1.3269, 1.3254]}, \"token.table\": {\"Topic\": [2, 2, 3, 2, 1, 1, 3, 2, 1, 1, 2, 2, 3, 1, 3, 2, 2, 3, 1, 3, 3, 3, 3, 1, 1, 1, 3, 3, 3, 1, 1, 3, 3, 1, 1, 2, 1, 3, 3, 2, 1, 2, 1, 2, 1, 1, 2, 1, 1, 2, 1, 2, 3, 2, 1, 2, 1, 2, 2, 3, 2, 3, 1, 3, 3, 2, 1, 3, 3, 3, 1, 2, 2, 3, 1, 1, 2, 3, 1, 3, 3, 2, 1, 3, 3, 2, 3, 2, 2, 2, 2, 1, 2, 1, 3], \"Freq\": [0.9992915474446247, 0.9978180497370647, 0.9945632029754267, 0.9995019124363772, 0.9955220627501538, 0.999295580631741, 0.9991373104252276, 0.9981870576642442, 0.9980427838170939, 0.9978554177330708, 0.9946520071371533, 0.9990092538686137, 0.9954112433464957, 0.9993373941246807, 0.9970365649559949, 0.9962560377703847, 0.995065975902755, 0.9968181799612815, 0.9995917409371723, 0.9963975452038336, 0.996633507455304, 0.9992856800916691, 0.9972357202289905, 0.9995403240765323, 0.997729566604887, 0.999244677440974, 0.9989390557302117, 0.9967509345093187, 0.9964740205104962, 0.9990649726628559, 0.9978625067959969, 0.998027850256796, 0.9989132832345865, 0.9990770525781256, 0.9969806450382286, 0.9996964350856166, 0.9985866997855066, 0.9955319193599923, 0.9972348670542929, 0.999425711964092, 0.9998107799933955, 0.9965761137291125, 0.9981186841001252, 0.9993752259967669, 0.9998955521420952, 0.9964136847668845, 0.9982502806106293, 0.9997914309137346, 0.9965276401597729, 0.997502529693156, 0.9984476740187356, 0.9973748104707836, 0.9987658153849386, 0.99763822776606, 0.9974648330319272, 0.9955075998094393, 0.9978935514535648, 0.9987357019659164, 0.9978756004940951, 0.9995698698644682, 0.998786855783227, 0.9949849323474091, 0.9992538671528982, 0.9992160832281657, 0.9983642669289612, 0.9986257037816237, 0.99664544673969, 0.9984278555171039, 0.9986558804263727, 0.9979709526900803, 0.9965777779624614, 0.9992573307560196, 0.9977435287962315, 0.9989268273180344, 0.9988742396616368, 0.004922146316865628, 0.004922146316865628, 0.9942735560068567, 0.998238703548193, 0.9942310122377663, 0.9982380314162855, 0.9973239564663284, 0.9974885210721153, 0.9992127732780868, 0.9981402567717167, 0.9952039101935501, 0.9984083930640727, 0.998274756637247, 0.9964235531562947, 0.997912472735925, 0.9991921977255503, 0.9960485117070209, 0.9975601665979713, 0.9974030355267105, 0.9970775925159027], \"Term\": [\"alas\", \"ambil\", \"angkat\", \"antar\", \"bagus\", \"baik\", \"barang\", \"bawa\", \"bayar\", \"beli\", \"besok\", \"bilang\", \"bintang\", \"buruk\", \"butuh\", \"cabang\", \"cari\", \"cek\", \"cepat\", \"chat\", \"cod\", \"customer\", \"di\", \"ekspedisi\", \"estimasi\", \"ganti\", \"gerak\", \"gin\", \"gudang\", \"hari\", \"hilang\", \"hubung\", \"jalan\", \"jasa\", \"jual\", \"kantor\", \"kecewa\", \"kemarin\", \"kembali\", \"kerja\", \"kirim\", \"konfirmasi\", \"kota\", \"kurir\", \"lambat\", \"langgan\", \"langsung\", \"layan\", \"lebih\", \"lokasi\", \"mahal\", \"malas\", \"mana\", \"masuk\", \"minggu\", \"mohon\", \"nama\", \"nan\", \"niat\", \"nomor\", \"orang\", \"pagi\", \"pakai\", \"paket\", \"pas\", \"pesan\", \"proses\", \"pusat\", \"resi\", \"respon\", \"rugi\", \"rumah\", \"salah\", \"service\", \"sesuai\", \"sortation\", \"sortation\", \"sortation\", \"sortir\", \"status\", \"stuck\", \"suruh\", \"tahan\", \"telepon\", \"telpon\", \"terang\", \"terima\", \"tuju\", \"tulis\", \"tunggu\", \"tutup\", \"ubah\", \"update\", \"waktu\", \"whatsapp\"]}, \"R\": 30, \"lambda.step\": 0.01, \"plot.opts\": {\"xlab\": \"PC1\", \"ylab\": \"PC2\"}, \"topic.order\": [1, 3, 2]};\n",
       "\n",
       "function LDAvis_load_lib(url, callback){\n",
       "  var s = document.createElement('script');\n",
       "  s.src = url;\n",
       "  s.async = true;\n",
       "  s.onreadystatechange = s.onload = callback;\n",
       "  s.onerror = function(){console.warn(\"failed to load library \" + url);};\n",
       "  document.getElementsByTagName(\"head\")[0].appendChild(s);\n",
       "}\n",
       "\n",
       "if(typeof(LDAvis) !== \"undefined\"){\n",
       "   // already loaded: just create the visualization\n",
       "   !function(LDAvis){\n",
       "       new LDAvis(\"#\" + \"ldavis_el2206026432783300005988377056\", ldavis_el2206026432783300005988377056_data);\n",
       "   }(LDAvis);\n",
       "}else if(typeof define === \"function\" && define.amd){\n",
       "   // require.js is available: use it to load d3/LDAvis\n",
       "   require.config({paths: {d3: \"https://d3js.org/d3.v5\"}});\n",
       "   require([\"d3\"], function(d3){\n",
       "      window.d3 = d3;\n",
       "      LDAvis_load_lib(\"https://cdn.jsdelivr.net/gh/bmabey/pyLDAvis@3.4.0/pyLDAvis/js/ldavis.v3.0.0.js\", function(){\n",
       "        new LDAvis(\"#\" + \"ldavis_el2206026432783300005988377056\", ldavis_el2206026432783300005988377056_data);\n",
       "      });\n",
       "    });\n",
       "}else{\n",
       "    // require.js not available: dynamically load d3 & LDAvis\n",
       "    LDAvis_load_lib(\"https://d3js.org/d3.v5.js\", function(){\n",
       "         LDAvis_load_lib(\"https://cdn.jsdelivr.net/gh/bmabey/pyLDAvis@3.4.0/pyLDAvis/js/ldavis.v3.0.0.js\", function(){\n",
       "                 new LDAvis(\"#\" + \"ldavis_el2206026432783300005988377056\", ldavis_el2206026432783300005988377056_data);\n",
       "            })\n",
       "         });\n",
       "}\n",
       "</script>"
      ],
      "text/plain": [
       "<IPython.core.display.HTML object>"
      ]
     },
     "execution_count": 25,
     "metadata": {},
     "output_type": "execute_result"
    }
   ],
   "source": [
    "vis = gensimvis.prepare(lda_model, corpus, dictionary)\n",
    "pyLDAvis.display(vis)"
   ]
  },
  {
   "cell_type": "markdown",
   "metadata": {},
   "source": [
    "---"
   ]
  },
  {
   "cell_type": "code",
   "execution_count": 26,
   "metadata": {},
   "outputs": [
    {
     "name": "stdout",
     "output_type": "stream",
     "text": [
      "Document 0: [(0, 0.6484998), (1, 0.14221223), (2, 0.209288)]\n",
      "Original Text: ['layan', 'buruk', 'langgan', 'alam', 'ambil', 'jasa', 'kirim', 'keluar', 'biaya', 'kali', 'isi', 'makan', 'tugas']\n",
      "\n",
      "Document 1: [(0, 0.50352186), (1, 0.22650927), (2, 0.26996896)]\n",
      "Original Text: ['lambat']\n",
      "\n",
      "Document 2: [(0, 0.50352186), (1, 0.22650927), (2, 0.26996896)]\n",
      "Original Text: ['lambat']\n",
      "\n",
      "Document 3: [(0, 0.50351644), (1, 0.22651176), (2, 0.26997188)]\n",
      "Original Text: ['buruk']\n",
      "\n",
      "Document 4: [(0, 0.4651843), (1, 0.290544), (2, 0.24427176)]\n",
      "Original Text: ['kurir', 'lambat', 'kira', 'pakai', 'sayang', 'm']\n",
      "\n"
     ]
    }
   ],
   "source": [
    "# Get topic distributions for the first 5 documents\n",
    "for doc_id in range(5):\n",
    "    print(f\"Document {doc_id}: {lda_model.get_document_topics(corpus[doc_id])}\")\n",
    "    print(f\"Original Text: {tokenized_reviews[doc_id]}\")\n",
    "    print()"
   ]
  },
  {
   "cell_type": "code",
   "execution_count": 27,
   "metadata": {},
   "outputs": [],
   "source": [
    "# assign label per topic\n",
    "topic_labels = {\n",
    "    0: \"Delay/ Lambat Pengiriman\",\n",
    "    1: \"Kualitas Pelayan Buruk\",\n",
    "    2: \"Komunikasi Kurir\"\n",
    "}"
   ]
  },
  {
   "cell_type": "code",
   "execution_count": 28,
   "metadata": {},
   "outputs": [
    {
     "name": "stderr",
     "output_type": "stream",
     "text": [
      "C:\\Users\\Niko Amrullah Hakam\\AppData\\Local\\Temp\\ipykernel_22060\\3944936635.py:3: SettingWithCopyWarning: \n",
      "A value is trying to be set on a copy of a slice from a DataFrame.\n",
      "Try using .loc[row_indexer,col_indexer] = value instead\n",
      "\n",
      "See the caveats in the documentation: https://pandas.pydata.org/pandas-docs/stable/user_guide/indexing.html#returning-a-view-versus-a-copy\n",
      "  jelek_modeling['topic'] = [topic_labels[topic] for topic in doc_topics]\n"
     ]
    }
   ],
   "source": [
    "# Assign labels to documents\n",
    "doc_topics = [max(lda_model.get_document_topics(doc), key=lambda x: x[1])[0] for doc in corpus]\n",
    "jelek_modeling['topic'] = [topic_labels[topic] for topic in doc_topics]"
   ]
  },
  {
   "cell_type": "code",
   "execution_count": 29,
   "metadata": {},
   "outputs": [],
   "source": [
    "# Save labeled documents\n",
    "modeling_df.to_csv(\"labeled_documents.csv\", index=False)"
   ]
  },
  {
   "cell_type": "code",
   "execution_count": 30,
   "metadata": {},
   "outputs": [
    {
     "data": {
      "text/html": [
       "<div>\n",
       "<style scoped>\n",
       "    .dataframe tbody tr th:only-of-type {\n",
       "        vertical-align: middle;\n",
       "    }\n",
       "\n",
       "    .dataframe tbody tr th {\n",
       "        vertical-align: top;\n",
       "    }\n",
       "\n",
       "    .dataframe thead th {\n",
       "        text-align: right;\n",
       "    }\n",
       "</style>\n",
       "<table border=\"1\" class=\"dataframe\">\n",
       "  <thead>\n",
       "    <tr style=\"text-align: right;\">\n",
       "      <th></th>\n",
       "      <th>rating</th>\n",
       "      <th>reviews</th>\n",
       "      <th>company</th>\n",
       "      <th>province</th>\n",
       "      <th>parsed_date</th>\n",
       "      <th>processed_reviews</th>\n",
       "      <th>tokenized_reviews</th>\n",
       "      <th>topic</th>\n",
       "    </tr>\n",
       "  </thead>\n",
       "  <tbody>\n",
       "    <tr>\n",
       "      <th>1</th>\n",
       "      <td>1</td>\n",
       "      <td>Bad service given to customers, my own experie...</td>\n",
       "      <td>JNE</td>\n",
       "      <td>Aceh</td>\n",
       "      <td>2021-01-21</td>\n",
       "      <td>layan buruk langgan alam ambil jasa kirim kelu...</td>\n",
       "      <td>[layan, buruk, langgan, alam, ambil, jasa, kir...</td>\n",
       "      <td>Delay/ Lambat Pengiriman</td>\n",
       "    </tr>\n",
       "    <tr>\n",
       "      <th>7</th>\n",
       "      <td>1</td>\n",
       "      <td>Too slow</td>\n",
       "      <td>JNE</td>\n",
       "      <td>Aceh</td>\n",
       "      <td>2016-01-23</td>\n",
       "      <td>lambat</td>\n",
       "      <td>[lambat]</td>\n",
       "      <td>Delay/ Lambat Pengiriman</td>\n",
       "    </tr>\n",
       "    <tr>\n",
       "      <th>18</th>\n",
       "      <td>2</td>\n",
       "      <td>Slow service</td>\n",
       "      <td>JNE</td>\n",
       "      <td>Aceh</td>\n",
       "      <td>2022-01-21</td>\n",
       "      <td>lambat</td>\n",
       "      <td>[lambat]</td>\n",
       "      <td>Delay/ Lambat Pengiriman</td>\n",
       "    </tr>\n",
       "    <tr>\n",
       "      <th>20</th>\n",
       "      <td>1</td>\n",
       "      <td>Bad service</td>\n",
       "      <td>JNE</td>\n",
       "      <td>Aceh</td>\n",
       "      <td>2019-01-22</td>\n",
       "      <td>buruk</td>\n",
       "      <td>[buruk]</td>\n",
       "      <td>Delay/ Lambat Pengiriman</td>\n",
       "    </tr>\n",
       "    <tr>\n",
       "      <th>24</th>\n",
       "      <td>1</td>\n",
       "      <td>The courier was too slow for many reasons even...</td>\n",
       "      <td>JNE</td>\n",
       "      <td>Aceh</td>\n",
       "      <td>2025-01-06</td>\n",
       "      <td>kurir lambat kira pakai sayang m</td>\n",
       "      <td>[kurir, lambat, kira, pakai, sayang, m]</td>\n",
       "      <td>Delay/ Lambat Pengiriman</td>\n",
       "    </tr>\n",
       "    <tr>\n",
       "      <th>...</th>\n",
       "      <td>...</td>\n",
       "      <td>...</td>\n",
       "      <td>...</td>\n",
       "      <td>...</td>\n",
       "      <td>...</td>\n",
       "      <td>...</td>\n",
       "      <td>...</td>\n",
       "      <td>...</td>\n",
       "    </tr>\n",
       "    <tr>\n",
       "      <th>17658</th>\n",
       "      <td>1</td>\n",
       "      <td>Lambat</td>\n",
       "      <td>Sicepat</td>\n",
       "      <td>Sumatera Utara</td>\n",
       "      <td>2021-01-21</td>\n",
       "      <td>lambat</td>\n",
       "      <td>[lambat]</td>\n",
       "      <td>Delay/ Lambat Pengiriman</td>\n",
       "    </tr>\n",
       "    <tr>\n",
       "      <th>17659</th>\n",
       "      <td>1</td>\n",
       "      <td>Kargo Silambat</td>\n",
       "      <td>Sicepat</td>\n",
       "      <td>Sumatera Utara</td>\n",
       "      <td>2021-01-21</td>\n",
       "      <td>kargo lambat</td>\n",
       "      <td>[kargo, lambat]</td>\n",
       "      <td>Delay/ Lambat Pengiriman</td>\n",
       "    </tr>\n",
       "    <tr>\n",
       "      <th>17660</th>\n",
       "      <td>1</td>\n",
       "      <td>SILELET CEMBRETTTTTT</td>\n",
       "      <td>Sicepat</td>\n",
       "      <td>Sumatera Utara</td>\n",
       "      <td>2021-01-21</td>\n",
       "      <td>lambat cembret</td>\n",
       "      <td>[lambat, cembret]</td>\n",
       "      <td>Delay/ Lambat Pengiriman</td>\n",
       "    </tr>\n",
       "    <tr>\n",
       "      <th>17661</th>\n",
       "      <td>1</td>\n",
       "      <td>Lambat sekali....</td>\n",
       "      <td>Sicepat</td>\n",
       "      <td>Sumatera Utara</td>\n",
       "      <td>2021-01-21</td>\n",
       "      <td>lambat</td>\n",
       "      <td>[lambat]</td>\n",
       "      <td>Delay/ Lambat Pengiriman</td>\n",
       "    </tr>\n",
       "    <tr>\n",
       "      <th>17662</th>\n",
       "      <td>1</td>\n",
       "      <td>KERAS!!!!!</td>\n",
       "      <td>Sicepat</td>\n",
       "      <td>Sumatera Utara</td>\n",
       "      <td>2021-01-21</td>\n",
       "      <td>keras</td>\n",
       "      <td>[keras]</td>\n",
       "      <td>Delay/ Lambat Pengiriman</td>\n",
       "    </tr>\n",
       "  </tbody>\n",
       "</table>\n",
       "<p>13927 rows × 8 columns</p>\n",
       "</div>"
      ],
      "text/plain": [
       "       rating                                            reviews  company  \\\n",
       "1           1  Bad service given to customers, my own experie...      JNE   \n",
       "7           1                                           Too slow      JNE   \n",
       "18          2                                       Slow service      JNE   \n",
       "20          1                                        Bad service      JNE   \n",
       "24          1  The courier was too slow for many reasons even...      JNE   \n",
       "...       ...                                                ...      ...   \n",
       "17658       1                                             Lambat  Sicepat   \n",
       "17659       1                                     Kargo Silambat  Sicepat   \n",
       "17660       1                               SILELET CEMBRETTTTTT  Sicepat   \n",
       "17661       1                                  Lambat sekali....  Sicepat   \n",
       "17662       1                                         KERAS!!!!!  Sicepat   \n",
       "\n",
       "             province parsed_date  \\\n",
       "1                Aceh  2021-01-21   \n",
       "7                Aceh  2016-01-23   \n",
       "18               Aceh  2022-01-21   \n",
       "20               Aceh  2019-01-22   \n",
       "24               Aceh  2025-01-06   \n",
       "...               ...         ...   \n",
       "17658  Sumatera Utara  2021-01-21   \n",
       "17659  Sumatera Utara  2021-01-21   \n",
       "17660  Sumatera Utara  2021-01-21   \n",
       "17661  Sumatera Utara  2021-01-21   \n",
       "17662  Sumatera Utara  2021-01-21   \n",
       "\n",
       "                                       processed_reviews  \\\n",
       "1      layan buruk langgan alam ambil jasa kirim kelu...   \n",
       "7                                                 lambat   \n",
       "18                                                lambat   \n",
       "20                                                 buruk   \n",
       "24                      kurir lambat kira pakai sayang m   \n",
       "...                                                  ...   \n",
       "17658                                             lambat   \n",
       "17659                                       kargo lambat   \n",
       "17660                                     lambat cembret   \n",
       "17661                                             lambat   \n",
       "17662                                              keras   \n",
       "\n",
       "                                       tokenized_reviews  \\\n",
       "1      [layan, buruk, langgan, alam, ambil, jasa, kir...   \n",
       "7                                               [lambat]   \n",
       "18                                              [lambat]   \n",
       "20                                               [buruk]   \n",
       "24               [kurir, lambat, kira, pakai, sayang, m]   \n",
       "...                                                  ...   \n",
       "17658                                           [lambat]   \n",
       "17659                                    [kargo, lambat]   \n",
       "17660                                  [lambat, cembret]   \n",
       "17661                                           [lambat]   \n",
       "17662                                            [keras]   \n",
       "\n",
       "                          topic  \n",
       "1      Delay/ Lambat Pengiriman  \n",
       "7      Delay/ Lambat Pengiriman  \n",
       "18     Delay/ Lambat Pengiriman  \n",
       "20     Delay/ Lambat Pengiriman  \n",
       "24     Delay/ Lambat Pengiriman  \n",
       "...                         ...  \n",
       "17658  Delay/ Lambat Pengiriman  \n",
       "17659  Delay/ Lambat Pengiriman  \n",
       "17660  Delay/ Lambat Pengiriman  \n",
       "17661  Delay/ Lambat Pengiriman  \n",
       "17662  Delay/ Lambat Pengiriman  \n",
       "\n",
       "[13927 rows x 8 columns]"
      ]
     },
     "execution_count": 30,
     "metadata": {},
     "output_type": "execute_result"
    }
   ],
   "source": [
    "jelek_modeling"
   ]
  },
  {
   "cell_type": "code",
   "execution_count": 31,
   "metadata": {},
   "outputs": [
    {
     "data": {
      "text/plain": [
       "topic\n",
       "Delay/ Lambat Pengiriman    8463\n",
       "Komunikasi Kurir            3777\n",
       "Kualitas Pelayan Buruk      1687\n",
       "Name: count, dtype: int64"
      ]
     },
     "execution_count": 31,
     "metadata": {},
     "output_type": "execute_result"
    }
   ],
   "source": [
    "jelek_modeling['topic'].value_counts()"
   ]
  },
  {
   "cell_type": "code",
   "execution_count": 32,
   "metadata": {},
   "outputs": [
    {
     "data": {
      "text/html": [
       "<div>\n",
       "<style scoped>\n",
       "    .dataframe tbody tr th:only-of-type {\n",
       "        vertical-align: middle;\n",
       "    }\n",
       "\n",
       "    .dataframe tbody tr th {\n",
       "        vertical-align: top;\n",
       "    }\n",
       "\n",
       "    .dataframe thead th {\n",
       "        text-align: right;\n",
       "    }\n",
       "</style>\n",
       "<table border=\"1\" class=\"dataframe\">\n",
       "  <thead>\n",
       "    <tr style=\"text-align: right;\">\n",
       "      <th></th>\n",
       "      <th>rating</th>\n",
       "      <th>reviews</th>\n",
       "      <th>company</th>\n",
       "      <th>province</th>\n",
       "      <th>parsed_date</th>\n",
       "      <th>processed_reviews</th>\n",
       "    </tr>\n",
       "  </thead>\n",
       "  <tbody>\n",
       "    <tr>\n",
       "      <th>0</th>\n",
       "      <td>5</td>\n",
       "      <td>Located at the Padang Old City area, just arou...</td>\n",
       "      <td>JNE</td>\n",
       "      <td>Aceh</td>\n",
       "      <td>2024-04-25</td>\n",
       "      <td>letak kawasan kota tua jembatan siti nurbaya s...</td>\n",
       "    </tr>\n",
       "    <tr>\n",
       "      <th>2</th>\n",
       "      <td>5</td>\n",
       "      <td>Nice Place, they're working on rebuild their o...</td>\n",
       "      <td>JNE</td>\n",
       "      <td>Aceh</td>\n",
       "      <td>2022-01-21</td>\n",
       "      <td>bagus upaya bangun kantor orang orang hebat layan</td>\n",
       "    </tr>\n",
       "    <tr>\n",
       "      <th>3</th>\n",
       "      <td>5</td>\n",
       "      <td>Good delivery service for customers in this co...</td>\n",
       "      <td>JNE</td>\n",
       "      <td>Aceh</td>\n",
       "      <td>2023-01-21</td>\n",
       "      <td>kirim langgan negara</td>\n",
       "    </tr>\n",
       "    <tr>\n",
       "      <th>4</th>\n",
       "      <td>5</td>\n",
       "      <td>Good service</td>\n",
       "      <td>JNE</td>\n",
       "      <td>Aceh</td>\n",
       "      <td>2022-01-21</td>\n",
       "      <td>layan bagus</td>\n",
       "    </tr>\n",
       "    <tr>\n",
       "      <th>5</th>\n",
       "      <td>5</td>\n",
       "      <td>Very nice building and nice staff</td>\n",
       "      <td>JNE</td>\n",
       "      <td>Aceh</td>\n",
       "      <td>2023-01-21</td>\n",
       "      <td>bangun bagus staf</td>\n",
       "    </tr>\n",
       "    <tr>\n",
       "      <th>...</th>\n",
       "      <td>...</td>\n",
       "      <td>...</td>\n",
       "      <td>...</td>\n",
       "      <td>...</td>\n",
       "      <td>...</td>\n",
       "      <td>...</td>\n",
       "    </tr>\n",
       "    <tr>\n",
       "      <th>17647</th>\n",
       "      <td>5</td>\n",
       "      <td>Komplek pergudangan 👍👍 …</td>\n",
       "      <td>Sicepat</td>\n",
       "      <td>Sumatera Utara</td>\n",
       "      <td>2021-01-21</td>\n",
       "      <td>komplek gudang</td>\n",
       "    </tr>\n",
       "    <tr>\n",
       "      <th>17650</th>\n",
       "      <td>5</td>\n",
       "      <td>Semangat</td>\n",
       "      <td>Sicepat</td>\n",
       "      <td>Sumatera Utara</td>\n",
       "      <td>2021-01-21</td>\n",
       "      <td>semangat</td>\n",
       "    </tr>\n",
       "    <tr>\n",
       "      <th>17655</th>\n",
       "      <td>5</td>\n",
       "      <td>Kerja bagus</td>\n",
       "      <td>Sicepat</td>\n",
       "      <td>Sumatera Utara</td>\n",
       "      <td>2021-01-21</td>\n",
       "      <td>kerja bagus</td>\n",
       "    </tr>\n",
       "    <tr>\n",
       "      <th>17656</th>\n",
       "      <td>5</td>\n",
       "      <td>Bagus</td>\n",
       "      <td>Sicepat</td>\n",
       "      <td>Sumatera Utara</td>\n",
       "      <td>2021-01-21</td>\n",
       "      <td>bagus</td>\n",
       "    </tr>\n",
       "    <tr>\n",
       "      <th>17663</th>\n",
       "      <td>5</td>\n",
       "      <td>Sicepat adalah yang terbaik</td>\n",
       "      <td>Sicepat</td>\n",
       "      <td>Sumatera Utara</td>\n",
       "      <td>2021-01-21</td>\n",
       "      <td>baik</td>\n",
       "    </tr>\n",
       "  </tbody>\n",
       "</table>\n",
       "<p>3737 rows × 6 columns</p>\n",
       "</div>"
      ],
      "text/plain": [
       "       rating                                            reviews  company  \\\n",
       "0           5  Located at the Padang Old City area, just arou...      JNE   \n",
       "2           5  Nice Place, they're working on rebuild their o...      JNE   \n",
       "3           5  Good delivery service for customers in this co...      JNE   \n",
       "4           5                                       Good service      JNE   \n",
       "5           5                  Very nice building and nice staff      JNE   \n",
       "...       ...                                                ...      ...   \n",
       "17647       5                           Komplek pergudangan 👍👍 …  Sicepat   \n",
       "17650       5                                           Semangat  Sicepat   \n",
       "17655       5                                        Kerja bagus  Sicepat   \n",
       "17656       5                                              Bagus  Sicepat   \n",
       "17663       5                        Sicepat adalah yang terbaik  Sicepat   \n",
       "\n",
       "             province parsed_date  \\\n",
       "0                Aceh  2024-04-25   \n",
       "2                Aceh  2022-01-21   \n",
       "3                Aceh  2023-01-21   \n",
       "4                Aceh  2022-01-21   \n",
       "5                Aceh  2023-01-21   \n",
       "...               ...         ...   \n",
       "17647  Sumatera Utara  2021-01-21   \n",
       "17650  Sumatera Utara  2021-01-21   \n",
       "17655  Sumatera Utara  2021-01-21   \n",
       "17656  Sumatera Utara  2021-01-21   \n",
       "17663  Sumatera Utara  2021-01-21   \n",
       "\n",
       "                                       processed_reviews  \n",
       "0      letak kawasan kota tua jembatan siti nurbaya s...  \n",
       "2      bagus upaya bangun kantor orang orang hebat layan  \n",
       "3                                   kirim langgan negara  \n",
       "4                                            layan bagus  \n",
       "5                                      bangun bagus staf  \n",
       "...                                                  ...  \n",
       "17647                                     komplek gudang  \n",
       "17650                                           semangat  \n",
       "17655                                        kerja bagus  \n",
       "17656                                              bagus  \n",
       "17663                                               baik  \n",
       "\n",
       "[3737 rows x 6 columns]"
      ]
     },
     "execution_count": 32,
     "metadata": {},
     "output_type": "execute_result"
    }
   ],
   "source": [
    "bagus_modeling"
   ]
  }
 ],
 "metadata": {
  "kernelspec": {
   "display_name": "secondphase",
   "language": "python",
   "name": "python3"
  },
  "language_info": {
   "codemirror_mode": {
    "name": "ipython",
    "version": 3
   },
   "file_extension": ".py",
   "mimetype": "text/x-python",
   "name": "python",
   "nbconvert_exporter": "python",
   "pygments_lexer": "ipython3",
   "version": "3.9.21"
  }
 },
 "nbformat": 4,
 "nbformat_minor": 2
}
