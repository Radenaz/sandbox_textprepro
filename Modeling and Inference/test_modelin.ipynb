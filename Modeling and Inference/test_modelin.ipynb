{
 "cells": [
  {
   "cell_type": "code",
   "execution_count": 1,
   "metadata": {},
   "outputs": [],
   "source": [
    "import pandas as pd\n",
    "\n",
    "from nltk.corpus import stopwords\n",
    "from nltk.tokenize import word_tokenize\n",
    "\n",
    "from gensim.corpora import Dictionary\n",
    "\n",
    "from gensim.models import LdaModel\n",
    "from gensim.models import CoherenceModel\n",
    "\n",
    "import pyLDAvis.gensim_models as gensimvis\n",
    "import pyLDAvis\n",
    "import pickle\n",
    "\n",
    "\n",
    "import nest_asyncio\n",
    "nest_asyncio.apply()"
   ]
  },
  {
   "cell_type": "code",
   "execution_count": 2,
   "metadata": {},
   "outputs": [],
   "source": [
    "# load data\n",
    "df = pd.read_csv('prepro_cleaned_reviews.csv')"
   ]
  },
  {
   "cell_type": "code",
   "execution_count": 3,
   "metadata": {},
   "outputs": [
    {
     "data": {
      "text/html": [
       "<div>\n",
       "<style scoped>\n",
       "    .dataframe tbody tr th:only-of-type {\n",
       "        vertical-align: middle;\n",
       "    }\n",
       "\n",
       "    .dataframe tbody tr th {\n",
       "        vertical-align: top;\n",
       "    }\n",
       "\n",
       "    .dataframe thead th {\n",
       "        text-align: right;\n",
       "    }\n",
       "</style>\n",
       "<table border=\"1\" class=\"dataframe\">\n",
       "  <thead>\n",
       "    <tr style=\"text-align: right;\">\n",
       "      <th></th>\n",
       "      <th>rating</th>\n",
       "      <th>reviews</th>\n",
       "      <th>company</th>\n",
       "      <th>province</th>\n",
       "      <th>parsed_date</th>\n",
       "      <th>processed_reviews</th>\n",
       "    </tr>\n",
       "  </thead>\n",
       "  <tbody>\n",
       "    <tr>\n",
       "      <th>0</th>\n",
       "      <td>5</td>\n",
       "      <td>Located at the Padang Old City area, just arou...</td>\n",
       "      <td>JNE</td>\n",
       "      <td>Aceh</td>\n",
       "      <td>2024-04-25</td>\n",
       "      <td>letak kawasan kota tua jembatan siti nurbaya s...</td>\n",
       "    </tr>\n",
       "    <tr>\n",
       "      <th>1</th>\n",
       "      <td>1</td>\n",
       "      <td>Bad service given to customers, my own experie...</td>\n",
       "      <td>JNE</td>\n",
       "      <td>Aceh</td>\n",
       "      <td>2021-01-21</td>\n",
       "      <td>layan buruk langgan alam ambil jasa kirim kelu...</td>\n",
       "    </tr>\n",
       "    <tr>\n",
       "      <th>2</th>\n",
       "      <td>5</td>\n",
       "      <td>Nice Place, they're working on rebuild their o...</td>\n",
       "      <td>JNE</td>\n",
       "      <td>Aceh</td>\n",
       "      <td>2022-01-21</td>\n",
       "      <td>bagus upaya bangun kantor orang orang hebat layan</td>\n",
       "    </tr>\n",
       "    <tr>\n",
       "      <th>3</th>\n",
       "      <td>5</td>\n",
       "      <td>Good delivery service for customers in this co...</td>\n",
       "      <td>JNE</td>\n",
       "      <td>Aceh</td>\n",
       "      <td>2023-01-21</td>\n",
       "      <td>kirim langgan negara</td>\n",
       "    </tr>\n",
       "    <tr>\n",
       "      <th>4</th>\n",
       "      <td>5</td>\n",
       "      <td>Good service</td>\n",
       "      <td>JNE</td>\n",
       "      <td>Aceh</td>\n",
       "      <td>2022-01-21</td>\n",
       "      <td>layan bagus</td>\n",
       "    </tr>\n",
       "    <tr>\n",
       "      <th>...</th>\n",
       "      <td>...</td>\n",
       "      <td>...</td>\n",
       "      <td>...</td>\n",
       "      <td>...</td>\n",
       "      <td>...</td>\n",
       "      <td>...</td>\n",
       "    </tr>\n",
       "    <tr>\n",
       "      <th>17659</th>\n",
       "      <td>1</td>\n",
       "      <td>Kargo Silambat</td>\n",
       "      <td>Sicepat</td>\n",
       "      <td>Sumatera Utara</td>\n",
       "      <td>2021-01-21</td>\n",
       "      <td>kargo lambat</td>\n",
       "    </tr>\n",
       "    <tr>\n",
       "      <th>17660</th>\n",
       "      <td>1</td>\n",
       "      <td>SILELET CEMBRETTTTTT</td>\n",
       "      <td>Sicepat</td>\n",
       "      <td>Sumatera Utara</td>\n",
       "      <td>2021-01-21</td>\n",
       "      <td>lambat cembret</td>\n",
       "    </tr>\n",
       "    <tr>\n",
       "      <th>17661</th>\n",
       "      <td>1</td>\n",
       "      <td>Lambat sekali....</td>\n",
       "      <td>Sicepat</td>\n",
       "      <td>Sumatera Utara</td>\n",
       "      <td>2021-01-21</td>\n",
       "      <td>lambat</td>\n",
       "    </tr>\n",
       "    <tr>\n",
       "      <th>17662</th>\n",
       "      <td>1</td>\n",
       "      <td>KERAS!!!!!</td>\n",
       "      <td>Sicepat</td>\n",
       "      <td>Sumatera Utara</td>\n",
       "      <td>2021-01-21</td>\n",
       "      <td>keras</td>\n",
       "    </tr>\n",
       "    <tr>\n",
       "      <th>17663</th>\n",
       "      <td>5</td>\n",
       "      <td>Sicepat adalah yang terbaik</td>\n",
       "      <td>Sicepat</td>\n",
       "      <td>Sumatera Utara</td>\n",
       "      <td>2021-01-21</td>\n",
       "      <td>baik</td>\n",
       "    </tr>\n",
       "  </tbody>\n",
       "</table>\n",
       "<p>17664 rows × 6 columns</p>\n",
       "</div>"
      ],
      "text/plain": [
       "       rating                                            reviews  company  \\\n",
       "0           5  Located at the Padang Old City area, just arou...      JNE   \n",
       "1           1  Bad service given to customers, my own experie...      JNE   \n",
       "2           5  Nice Place, they're working on rebuild their o...      JNE   \n",
       "3           5  Good delivery service for customers in this co...      JNE   \n",
       "4           5                                       Good service      JNE   \n",
       "...       ...                                                ...      ...   \n",
       "17659       1                                     Kargo Silambat  Sicepat   \n",
       "17660       1                               SILELET CEMBRETTTTTT  Sicepat   \n",
       "17661       1                                  Lambat sekali....  Sicepat   \n",
       "17662       1                                         KERAS!!!!!  Sicepat   \n",
       "17663       5                        Sicepat adalah yang terbaik  Sicepat   \n",
       "\n",
       "             province parsed_date  \\\n",
       "0                Aceh  2024-04-25   \n",
       "1                Aceh  2021-01-21   \n",
       "2                Aceh  2022-01-21   \n",
       "3                Aceh  2023-01-21   \n",
       "4                Aceh  2022-01-21   \n",
       "...               ...         ...   \n",
       "17659  Sumatera Utara  2021-01-21   \n",
       "17660  Sumatera Utara  2021-01-21   \n",
       "17661  Sumatera Utara  2021-01-21   \n",
       "17662  Sumatera Utara  2021-01-21   \n",
       "17663  Sumatera Utara  2021-01-21   \n",
       "\n",
       "                                       processed_reviews  \n",
       "0      letak kawasan kota tua jembatan siti nurbaya s...  \n",
       "1      layan buruk langgan alam ambil jasa kirim kelu...  \n",
       "2      bagus upaya bangun kantor orang orang hebat layan  \n",
       "3                                   kirim langgan negara  \n",
       "4                                            layan bagus  \n",
       "...                                                  ...  \n",
       "17659                                       kargo lambat  \n",
       "17660                                     lambat cembret  \n",
       "17661                                             lambat  \n",
       "17662                                              keras  \n",
       "17663                                               baik  \n",
       "\n",
       "[17664 rows x 6 columns]"
      ]
     },
     "execution_count": 3,
     "metadata": {},
     "output_type": "execute_result"
    }
   ],
   "source": [
    "df"
   ]
  },
  {
   "cell_type": "code",
   "execution_count": 4,
   "metadata": {},
   "outputs": [
    {
     "name": "stdout",
     "output_type": "stream",
     "text": [
      "<class 'pandas.core.frame.DataFrame'>\n",
      "RangeIndex: 17664 entries, 0 to 17663\n",
      "Data columns (total 6 columns):\n",
      " #   Column             Non-Null Count  Dtype \n",
      "---  ------             --------------  ----- \n",
      " 0   rating             17664 non-null  int64 \n",
      " 1   reviews            17664 non-null  object\n",
      " 2   company            17664 non-null  object\n",
      " 3   province           17664 non-null  object\n",
      " 4   parsed_date        17664 non-null  object\n",
      " 5   processed_reviews  17080 non-null  object\n",
      "dtypes: int64(1), object(5)\n",
      "memory usage: 828.1+ KB\n"
     ]
    }
   ],
   "source": [
    "df.info()"
   ]
  },
  {
   "cell_type": "code",
   "execution_count": 5,
   "metadata": {},
   "outputs": [],
   "source": [
    "modeling_df = df.copy()"
   ]
  },
  {
   "cell_type": "code",
   "execution_count": 6,
   "metadata": {},
   "outputs": [],
   "source": [
    "jelek_modeling = modeling_df.query(\"rating <= 3\" )\n",
    "bagus_modeling = modeling_df.query(\"rating >= 4\")"
   ]
  },
  {
   "cell_type": "code",
   "execution_count": 7,
   "metadata": {},
   "outputs": [
    {
     "data": {
      "text/plain": [
       "(13927, 6)"
      ]
     },
     "execution_count": 7,
     "metadata": {},
     "output_type": "execute_result"
    }
   ],
   "source": [
    "jelek_modeling.shape"
   ]
  },
  {
   "cell_type": "code",
   "execution_count": 8,
   "metadata": {},
   "outputs": [
    {
     "data": {
      "text/plain": [
       "(3737, 6)"
      ]
     },
     "execution_count": 8,
     "metadata": {},
     "output_type": "execute_result"
    }
   ],
   "source": [
    "bagus_modeling.shape"
   ]
  },
  {
   "cell_type": "markdown",
   "metadata": {},
   "source": [
    "# 1. jelek modeling"
   ]
  },
  {
   "cell_type": "code",
   "execution_count": 9,
   "metadata": {},
   "outputs": [
    {
     "name": "stderr",
     "output_type": "stream",
     "text": [
      "C:\\Users\\Niko Amrullah Hakam\\AppData\\Local\\Temp\\ipykernel_26672\\2846537713.py:2: SettingWithCopyWarning: \n",
      "A value is trying to be set on a copy of a slice from a DataFrame.\n",
      "Try using .loc[row_indexer,col_indexer] = value instead\n",
      "\n",
      "See the caveats in the documentation: https://pandas.pydata.org/pandas-docs/stable/user_guide/indexing.html#returning-a-view-versus-a-copy\n",
      "  jelek_modeling['processed_reviews'] = jelek_modeling['processed_reviews'].astype(str)\n",
      "C:\\Users\\Niko Amrullah Hakam\\AppData\\Local\\Temp\\ipykernel_26672\\2846537713.py:5: SettingWithCopyWarning: \n",
      "A value is trying to be set on a copy of a slice from a DataFrame.\n",
      "Try using .loc[row_indexer,col_indexer] = value instead\n",
      "\n",
      "See the caveats in the documentation: https://pandas.pydata.org/pandas-docs/stable/user_guide/indexing.html#returning-a-view-versus-a-copy\n",
      "  jelek_modeling['tokenized_reviews'] = jelek_modeling['processed_reviews'].apply(word_tokenize)\n"
     ]
    }
   ],
   "source": [
    "# Ensure the 'processed_reviews' column is treated as string\n",
    "jelek_modeling['processed_reviews'] = jelek_modeling['processed_reviews'].astype(str)\n",
    "\n",
    "# Tokenize the processed_reviews column\n",
    "jelek_modeling['tokenized_reviews'] = jelek_modeling['processed_reviews'].apply(word_tokenize)"
   ]
  },
  {
   "cell_type": "code",
   "execution_count": 10,
   "metadata": {},
   "outputs": [],
   "source": [
    "# # Save the result to a new CSV file\n",
    "# output_file = 'tokenized_reviews.csv'\n",
    "# modeling_df.to_csv(output_file, index=False)\n",
    "\n",
    "# print(f\"Tokenized reviews saved to {output_file}\")"
   ]
  },
  {
   "cell_type": "code",
   "execution_count": 11,
   "metadata": {},
   "outputs": [
    {
     "data": {
      "text/html": [
       "<div>\n",
       "<style scoped>\n",
       "    .dataframe tbody tr th:only-of-type {\n",
       "        vertical-align: middle;\n",
       "    }\n",
       "\n",
       "    .dataframe tbody tr th {\n",
       "        vertical-align: top;\n",
       "    }\n",
       "\n",
       "    .dataframe thead th {\n",
       "        text-align: right;\n",
       "    }\n",
       "</style>\n",
       "<table border=\"1\" class=\"dataframe\">\n",
       "  <thead>\n",
       "    <tr style=\"text-align: right;\">\n",
       "      <th></th>\n",
       "      <th>rating</th>\n",
       "      <th>reviews</th>\n",
       "      <th>company</th>\n",
       "      <th>province</th>\n",
       "      <th>parsed_date</th>\n",
       "      <th>processed_reviews</th>\n",
       "      <th>tokenized_reviews</th>\n",
       "    </tr>\n",
       "  </thead>\n",
       "  <tbody>\n",
       "    <tr>\n",
       "      <th>1</th>\n",
       "      <td>1</td>\n",
       "      <td>Bad service given to customers, my own experie...</td>\n",
       "      <td>JNE</td>\n",
       "      <td>Aceh</td>\n",
       "      <td>2021-01-21</td>\n",
       "      <td>layan buruk langgan alam ambil jasa kirim kelu...</td>\n",
       "      <td>[layan, buruk, langgan, alam, ambil, jasa, kir...</td>\n",
       "    </tr>\n",
       "    <tr>\n",
       "      <th>7</th>\n",
       "      <td>1</td>\n",
       "      <td>Too slow</td>\n",
       "      <td>JNE</td>\n",
       "      <td>Aceh</td>\n",
       "      <td>2016-01-23</td>\n",
       "      <td>lambat</td>\n",
       "      <td>[lambat]</td>\n",
       "    </tr>\n",
       "    <tr>\n",
       "      <th>18</th>\n",
       "      <td>2</td>\n",
       "      <td>Slow service</td>\n",
       "      <td>JNE</td>\n",
       "      <td>Aceh</td>\n",
       "      <td>2022-01-21</td>\n",
       "      <td>lambat</td>\n",
       "      <td>[lambat]</td>\n",
       "    </tr>\n",
       "    <tr>\n",
       "      <th>20</th>\n",
       "      <td>1</td>\n",
       "      <td>Bad service</td>\n",
       "      <td>JNE</td>\n",
       "      <td>Aceh</td>\n",
       "      <td>2019-01-22</td>\n",
       "      <td>buruk</td>\n",
       "      <td>[buruk]</td>\n",
       "    </tr>\n",
       "    <tr>\n",
       "      <th>24</th>\n",
       "      <td>1</td>\n",
       "      <td>The courier was too slow for many reasons even...</td>\n",
       "      <td>JNE</td>\n",
       "      <td>Aceh</td>\n",
       "      <td>2025-01-06</td>\n",
       "      <td>kurir lambat kira pakai sayang m</td>\n",
       "      <td>[kurir, lambat, kira, pakai, sayang, m]</td>\n",
       "    </tr>\n",
       "    <tr>\n",
       "      <th>...</th>\n",
       "      <td>...</td>\n",
       "      <td>...</td>\n",
       "      <td>...</td>\n",
       "      <td>...</td>\n",
       "      <td>...</td>\n",
       "      <td>...</td>\n",
       "      <td>...</td>\n",
       "    </tr>\n",
       "    <tr>\n",
       "      <th>17658</th>\n",
       "      <td>1</td>\n",
       "      <td>Lambat</td>\n",
       "      <td>Sicepat</td>\n",
       "      <td>Sumatera Utara</td>\n",
       "      <td>2021-01-21</td>\n",
       "      <td>lambat</td>\n",
       "      <td>[lambat]</td>\n",
       "    </tr>\n",
       "    <tr>\n",
       "      <th>17659</th>\n",
       "      <td>1</td>\n",
       "      <td>Kargo Silambat</td>\n",
       "      <td>Sicepat</td>\n",
       "      <td>Sumatera Utara</td>\n",
       "      <td>2021-01-21</td>\n",
       "      <td>kargo lambat</td>\n",
       "      <td>[kargo, lambat]</td>\n",
       "    </tr>\n",
       "    <tr>\n",
       "      <th>17660</th>\n",
       "      <td>1</td>\n",
       "      <td>SILELET CEMBRETTTTTT</td>\n",
       "      <td>Sicepat</td>\n",
       "      <td>Sumatera Utara</td>\n",
       "      <td>2021-01-21</td>\n",
       "      <td>lambat cembret</td>\n",
       "      <td>[lambat, cembret]</td>\n",
       "    </tr>\n",
       "    <tr>\n",
       "      <th>17661</th>\n",
       "      <td>1</td>\n",
       "      <td>Lambat sekali....</td>\n",
       "      <td>Sicepat</td>\n",
       "      <td>Sumatera Utara</td>\n",
       "      <td>2021-01-21</td>\n",
       "      <td>lambat</td>\n",
       "      <td>[lambat]</td>\n",
       "    </tr>\n",
       "    <tr>\n",
       "      <th>17662</th>\n",
       "      <td>1</td>\n",
       "      <td>KERAS!!!!!</td>\n",
       "      <td>Sicepat</td>\n",
       "      <td>Sumatera Utara</td>\n",
       "      <td>2021-01-21</td>\n",
       "      <td>keras</td>\n",
       "      <td>[keras]</td>\n",
       "    </tr>\n",
       "  </tbody>\n",
       "</table>\n",
       "<p>13927 rows × 7 columns</p>\n",
       "</div>"
      ],
      "text/plain": [
       "       rating                                            reviews  company  \\\n",
       "1           1  Bad service given to customers, my own experie...      JNE   \n",
       "7           1                                           Too slow      JNE   \n",
       "18          2                                       Slow service      JNE   \n",
       "20          1                                        Bad service      JNE   \n",
       "24          1  The courier was too slow for many reasons even...      JNE   \n",
       "...       ...                                                ...      ...   \n",
       "17658       1                                             Lambat  Sicepat   \n",
       "17659       1                                     Kargo Silambat  Sicepat   \n",
       "17660       1                               SILELET CEMBRETTTTTT  Sicepat   \n",
       "17661       1                                  Lambat sekali....  Sicepat   \n",
       "17662       1                                         KERAS!!!!!  Sicepat   \n",
       "\n",
       "             province parsed_date  \\\n",
       "1                Aceh  2021-01-21   \n",
       "7                Aceh  2016-01-23   \n",
       "18               Aceh  2022-01-21   \n",
       "20               Aceh  2019-01-22   \n",
       "24               Aceh  2025-01-06   \n",
       "...               ...         ...   \n",
       "17658  Sumatera Utara  2021-01-21   \n",
       "17659  Sumatera Utara  2021-01-21   \n",
       "17660  Sumatera Utara  2021-01-21   \n",
       "17661  Sumatera Utara  2021-01-21   \n",
       "17662  Sumatera Utara  2021-01-21   \n",
       "\n",
       "                                       processed_reviews  \\\n",
       "1      layan buruk langgan alam ambil jasa kirim kelu...   \n",
       "7                                                 lambat   \n",
       "18                                                lambat   \n",
       "20                                                 buruk   \n",
       "24                      kurir lambat kira pakai sayang m   \n",
       "...                                                  ...   \n",
       "17658                                             lambat   \n",
       "17659                                       kargo lambat   \n",
       "17660                                     lambat cembret   \n",
       "17661                                             lambat   \n",
       "17662                                              keras   \n",
       "\n",
       "                                       tokenized_reviews  \n",
       "1      [layan, buruk, langgan, alam, ambil, jasa, kir...  \n",
       "7                                               [lambat]  \n",
       "18                                              [lambat]  \n",
       "20                                               [buruk]  \n",
       "24               [kurir, lambat, kira, pakai, sayang, m]  \n",
       "...                                                  ...  \n",
       "17658                                           [lambat]  \n",
       "17659                                    [kargo, lambat]  \n",
       "17660                                  [lambat, cembret]  \n",
       "17661                                           [lambat]  \n",
       "17662                                            [keras]  \n",
       "\n",
       "[13927 rows x 7 columns]"
      ]
     },
     "execution_count": 11,
     "metadata": {},
     "output_type": "execute_result"
    }
   ],
   "source": [
    "jelek_modeling"
   ]
  },
  {
   "cell_type": "code",
   "execution_count": 12,
   "metadata": {},
   "outputs": [],
   "source": [
    "tokenized_reviews = jelek_modeling['tokenized_reviews'].tolist()  # Convert the column to a list of lists\n",
    "dictionary = Dictionary(tokenized_reviews)"
   ]
  },
  {
   "cell_type": "code",
   "execution_count": 13,
   "metadata": {},
   "outputs": [
    {
     "name": "stdout",
     "output_type": "stream",
     "text": [
      "Dictionary created with 10834 unique tokens.\n"
     ]
    }
   ],
   "source": [
    "# # Save dictionary for future use\n",
    "# dictionary.save('lda_dictionary.dict')\n",
    "\n",
    "# Print dictionary information\n",
    "print(f\"Dictionary created with {len(dictionary)} unique tokens.\")"
   ]
  },
  {
   "cell_type": "code",
   "execution_count": 14,
   "metadata": {},
   "outputs": [],
   "source": [
    "# Word counts\n",
    "word_counts = dictionary.cfs  # cfs = term frequency across the corpus\n",
    "sorted_word_counts = sorted(word_counts.items(), key=lambda x: x[1], reverse=True)"
   ]
  },
  {
   "cell_type": "code",
   "execution_count": 15,
   "metadata": {},
   "outputs": [],
   "source": [
    "# Cumulative frequency\n",
    "word_frequencies = [count for _, count in sorted_word_counts]\n",
    "cumulative_frequencies = [sum(word_frequencies[:i]) for i in range(1, len(word_frequencies) + 1)]"
   ]
  },
  {
   "cell_type": "code",
   "execution_count": 16,
   "metadata": {},
   "outputs": [
    {
     "data": {
      "image/png": "[encoded data removed]",
      "text/plain": [
       "<Figure size 1000x600 with 1 Axes>"
      ]
     },
     "metadata": {},
     "output_type": "display_data"
    }
   ],
   "source": [
    "# Plot\n",
    "import matplotlib.pyplot as plt\n",
    "plt.figure(figsize=(10, 6))\n",
    "plt.plot(range(1, len(cumulative_frequencies) + 1), cumulative_frequencies)\n",
    "plt.xlabel('Vocabulary Size')\n",
    "plt.ylabel('Cumulative Word Count')\n",
    "plt.title('Cumulative Word Frequency Distribution')\n",
    "plt.show()"
   ]
  },
  {
   "cell_type": "code",
   "execution_count": 17,
   "metadata": {},
   "outputs": [
    {
     "data": {
      "image/png": "[encoded data removed]",
      "text/plain": [
       "<Figure size 640x480 with 1 Axes>"
      ]
     },
     "metadata": {},
     "output_type": "display_data"
    },
    {
     "name": "stdout",
     "output_type": "stream",
     "text": [
      "count    13927.000000\n",
      "mean         8.373160\n",
      "std          5.362486\n",
      "min          1.000000\n",
      "25%          4.000000\n",
      "50%          8.000000\n",
      "75%         12.000000\n",
      "90%         16.000000\n",
      "95%         18.000000\n",
      "max         39.000000\n",
      "Name: tokenized_reviews, dtype: float64\n"
     ]
    }
   ],
   "source": [
    "sequence_lengths = jelek_modeling['tokenized_reviews'].apply(len)\n",
    "\n",
    "# Plot sequence length distribution\n",
    "plt.hist(sequence_lengths, bins=50, color='blue')\n",
    "plt.xlabel('Sequence Length')\n",
    "plt.ylabel('Frequency')\n",
    "plt.title('Document Length Distribution')\n",
    "plt.show()\n",
    "\n",
    "# Print descriptive stats\n",
    "print(sequence_lengths.describe(percentiles=[0.25, 0.5, 0.75, 0.90, 0.95]))"
   ]
  },
  {
   "cell_type": "markdown",
   "metadata": {},
   "source": [
    "Average banyaknya token untuk text per review = ~8 tokens. 3 sampe 18 tokens an lah. Artinya review kebanyakan singkat padat sumpah serapah, hahaha. Kali bisa jadi EDA juga."
   ]
  },
  {
   "cell_type": "code",
   "execution_count": 18,
   "metadata": {},
   "outputs": [
    {
     "name": "stdout",
     "output_type": "stream",
     "text": [
      "Word Coverage with top 5000 words: 95.00%\n"
     ]
    }
   ],
   "source": [
    "top_n = 5000  # Adjust berdasarkan \"Cumulative Word Frequency Distribution\"\n",
    "word_coverage = sum([freq for _, freq in sorted_word_counts[:top_n]]) / sum(word_frequencies)\n",
    "print(f\"Word Coverage with top {top_n} words: {word_coverage:.2%}\")"
   ]
  },
  {
   "cell_type": "markdown",
   "metadata": {},
   "source": [
    "Nge limit pake 6000 kata udah bisa cover 95% vocabs. Artinya pakai 6000 kata pun udah nge-cover semua."
   ]
  },
  {
   "cell_type": "code",
   "execution_count": 19,
   "metadata": {},
   "outputs": [
    {
     "name": "stdout",
     "output_type": "stream",
     "text": [
      "Filtered dictionary size: 2039\n"
     ]
    }
   ],
   "source": [
    "dictionary.filter_extremes(no_below=5, no_above=0.5, keep_n=5000)\n",
    "print(f\"Filtered dictionary size: {len(dictionary)}\")"
   ]
  },
  {
   "cell_type": "markdown",
   "metadata": {},
   "source": [
    "param no_below=5:\n",
    "- nge remove kata-kata yang hanya muncul di bawah 5 review.\n",
    "\n",
    "param no_above=0.5:\n",
    "- remove kata-kata yang muncul di lebih dari 50% dari review review an. Kemungkinan akan ng-remove kata \"kirim\"\n",
    "\n",
    "keep_n=6000:\n",
    "- Lihat di atas"
   ]
  },
  {
   "cell_type": "code",
   "execution_count": 20,
   "metadata": {},
   "outputs": [],
   "source": [
    "# bikin bag of words\n",
    "corpus = [dictionary.doc2bow(review) for review in tokenized_reviews]"
   ]
  },
  {
   "cell_type": "markdown",
   "metadata": {},
   "source": [
    "---\n",
    "Coba modeling"
   ]
  },
  {
   "cell_type": "code",
   "execution_count": 21,
   "metadata": {},
   "outputs": [],
   "source": [
    "lda_model = LdaModel(corpus=corpus, \n",
    "                     id2word=dictionary,\n",
    "                     alpha='auto',\n",
    "                     eta='auto',\n",
    "                     iterations=200, \n",
    "                     num_topics=3, \n",
    "                     chunksize=500, \n",
    "                     passes=100, \n",
    "                     random_state=37)"
   ]
  },
  {
   "cell_type": "markdown",
   "metadata": {},
   "source": [
    "corpus: corpusnya.\n",
    "\n",
    "id2word: dictionary di atas.\n",
    "\n",
    "num_topics: jumlah cluster.\n",
    "\n",
    "chunksize: Di proses berapa banyak dalam sekali proses. 500 review-an sekali proses.\n",
    "\n",
    "passes: Berapa kali algorithm nya passes through iterasi nya. More passes katanya improve accuracy cuman lebih lama aja.\n",
    "\n",
    "random_state: seed."
   ]
  },
  {
   "cell_type": "code",
   "execution_count": 22,
   "metadata": {},
   "outputs": [
    {
     "name": "stdout",
     "output_type": "stream",
     "text": [
      "Topic 1:\n",
      "layan buruk kerja tutup ganti customer baik alas bayar service niat lebih suruh ambil malas beli kembali pusat cod pagi rugi langgan cabang jual mahal ongkir ramah nan profesional pindah\n",
      "\n",
      "Topic 2:\n",
      "lambat kirim pakai antar ekspedisi cepat paket jasa kecewa sortir estimasi pesan tuju hari tahan minggu nama kota sesuai waktu barang jalan gerak salah respon butuh bagus stuck hilang tunggu\n",
      "\n",
      "Topic 3:\n",
      "kantor rumah orang nomor kurir terima telepon bilang langsung cek konfirmasi resi pas telpon whatsapp mana bawa hubung masuk terang cari tulis angkat di informasi handphone aplikasi jemput sopan tu\n",
      "\n"
     ]
    }
   ],
   "source": [
    "for i, topic in lda_model.show_topics(num_topics=4, num_words=30, formatted=False):\n",
    "    print(f\"Topic {i + 1}:\")\n",
    "    print(\" \".join([word for word, _ in topic]))\n",
    "    print()"
   ]
  },
  {
   "cell_type": "code",
   "execution_count": 23,
   "metadata": {},
   "outputs": [],
   "source": [
    "coherence_model = CoherenceModel(model=lda_model, texts=jelek_modeling['tokenized_reviews'], dictionary=dictionary, coherence='c_v')\n",
    "coherence_score = coherence_model.get_coherence()"
   ]
  },
  {
   "cell_type": "code",
   "execution_count": 24,
   "metadata": {},
   "outputs": [
    {
     "name": "stdout",
     "output_type": "stream",
     "text": [
      "Coherence Score: 0.45900820455701735\n"
     ]
    }
   ],
   "source": [
    "print(f\"Coherence Score: {coherence_score}\")"
   ]
  },
  {
   "cell_type": "code",
   "execution_count": 25,
   "metadata": {},
   "outputs": [
    {
     "data": {
      "text/html": [
       "\n",
       "<link rel=\"stylesheet\" type=\"text/css\" href=\"https://cdn.jsdelivr.net/gh/bmabey/pyLDAvis@3.4.0/pyLDAvis/js/ldavis.v1.0.0.css\">\n",
       "\n",
       "\n",
       "<div id=\"ldavis_el2667219963442752323320552257\" style=\"background-color:white;\"></div>\n",
       "<script type=\"text/javascript\">\n",
       "\n",
       "var ldavis_el2667219963442752323320552257_data = {\"mdsDat\": {\"x\": [-0.37286039396240056, 0.2347932880080246, 0.13806710595437577], \"y\": [-0.05446292864964736, -0.28768434132628035, 0.34214726997592765], \"topics\": [1, 2, 3], \"cluster\": [1, 1, 1], \"Freq\": [45.030184795460485, 31.031413217559432, 23.938401986980086]}, \"tinfo\": {\"Term\": [\"lambat\", \"kirim\", \"layan\", \"buruk\", \"kantor\", \"rumah\", \"kerja\", \"orang\", \"pakai\", \"antar\", \"ekspedisi\", \"cepat\", \"nomor\", \"kurir\", \"terima\", \"tutup\", \"paket\", \"jasa\", \"customer\", \"ganti\", \"baik\", \"kecewa\", \"telepon\", \"alas\", \"bayar\", \"bilang\", \"langsung\", \"cek\", \"konfirmasi\", \"service\", \"lambat\", \"kirim\", \"pakai\", \"antar\", \"ekspedisi\", \"cepat\", \"jasa\", \"paket\", \"kecewa\", \"sortir\", \"estimasi\", \"tuju\", \"pesan\", \"hari\", \"tahan\", \"minggu\", \"nama\", \"kota\", \"waktu\", \"sesuai\", \"barang\", \"jalan\", \"gerak\", \"salah\", \"stuck\", \"butuh\", \"bagus\", \"respon\", \"hilang\", \"tunggu\", \"layan\", \"buruk\", \"kerja\", \"tutup\", \"baik\", \"customer\", \"ganti\", \"bayar\", \"alas\", \"service\", \"niat\", \"lebih\", \"suruh\", \"ambil\", \"malas\", \"beli\", \"cod\", \"pagi\", \"rugi\", \"pusat\", \"langgan\", \"kembali\", \"mahal\", \"cabang\", \"ramah\", \"ongkir\", \"jual\", \"nan\", \"profesional\", \"karyawan\", \"pindah\", \"kantor\", \"rumah\", \"orang\", \"nomor\", \"terima\", \"kurir\", \"telepon\", \"bilang\", \"cek\", \"konfirmasi\", \"resi\", \"langsung\", \"telpon\", \"pas\", \"whatsapp\", \"mana\", \"bawa\", \"hubung\", \"terang\", \"masuk\", \"angkat\", \"tulis\", \"cari\", \"handphone\", \"di\", \"informasi\", \"aplikasi\", \"jemput\", \"lengkap\", \"tera\", \"tu\", \"sopan\"], \"Freq\": [4422.0, 3829.0, 2020.0, 1516.0, 1049.0, 920.0, 1118.0, 905.0, 1630.0, 1627.0, 1530.0, 1515.0, 805.0, 786.0, 776.0, 904.0, 1013.0, 999.0, 629.0, 629.0, 626.0, 845.0, 466.0, 538.0, 525.0, 418.0, 397.0, 394.0, 387.0, 473.0, 4421.222355747975, 3829.0275393832694, 1629.9460237094272, 1626.212657239565, 1529.3772815263, 1514.89179878681, 998.2735613202739, 1013.0877386659425, 844.7016418419137, 590.9817457400792, 543.0021871306948, 532.5376569368638, 542.3184051131924, 504.8249076702571, 490.3241882949023, 467.88470413254555, 463.5694370821465, 394.03160145586594, 380.8167065561609, 387.0274371536801, 377.0403215502815, 362.2284665978287, 325.7443420194167, 322.9119772988739, 290.1088025583958, 293.94863013782646, 293.71673808999145, 296.79898797963983, 277.3767484014966, 257.56217630213797, 2019.9433676337803, 1516.1782711575265, 1117.5004265823682, 903.8842151869487, 625.8402978114142, 628.3435917551659, 628.8517769983061, 524.3605389178089, 537.6210985669813, 473.00920983774836, 451.26661130342563, 394.7609173697024, 367.4542767445611, 355.2446985026905, 348.0615413727289, 303.8565448385526, 262.5448358327065, 261.9425699096937, 254.95753562322858, 266.5149507802335, 252.78090655203926, 274.22804089714043, 238.43361782864997, 245.4942008454866, 223.78480725700126, 227.46313748227794, 244.39393552082703, 220.94514122904366, 214.84095039542072, 197.67536945830878, 208.95185880778314, 1048.667186228024, 919.9340904985448, 905.0234143620078, 804.7260545060485, 776.1154896763792, 785.6002836210447, 465.33057424163036, 417.51042401154893, 393.84717710598176, 387.14418508158536, 372.45790661790926, 396.898237772337, 356.1791985148417, 357.18238811116123, 348.4984243229431, 341.46195114156257, 336.18179820762157, 296.3621496229032, 239.98798041084382, 255.3261521139943, 212.4412737790934, 217.16756322616317, 221.89214499863488, 197.3755454043876, 203.03715592084524, 198.65244754675857, 190.11387840455652, 179.30088284952646, 142.7641694495618, 141.1303287011669, 146.76970483282386, 148.0185111127197], \"Total\": [4422.0, 3829.0, 2020.0, 1516.0, 1049.0, 920.0, 1118.0, 905.0, 1630.0, 1627.0, 1530.0, 1515.0, 805.0, 786.0, 776.0, 904.0, 1013.0, 999.0, 629.0, 629.0, 626.0, 845.0, 466.0, 538.0, 525.0, 418.0, 397.0, 394.0, 387.0, 473.0, 4422.0524872786455, 3829.8514673739473, 1630.770984055456, 1627.082192170721, 1530.233970459953, 1515.7414934804067, 999.1091286542771, 1013.9494254010557, 845.5414327880097, 591.8143289692282, 543.8371885508465, 533.3628461542768, 543.1884545214749, 505.65354579043594, 491.15187011620617, 468.7150732786093, 464.44559846676407, 394.8669416382596, 381.63747907348426, 387.8758480910538, 377.89159965922073, 363.07194258439444, 326.55381927284895, 323.78195180418237, 290.9172730905613, 294.770452598109, 294.57314423681305, 297.66728858650265, 278.2039052702678, 258.4135521369796, 2020.7227853447487, 1516.9580660757133, 1118.2979976464396, 904.712417893606, 626.621695222763, 629.1300460956629, 629.7942294102505, 525.1466751737502, 538.4510152243047, 473.7984812970573, 452.1065926844438, 395.55090308036824, 368.26230789313274, 356.0259286686112, 348.8904146846999, 304.68195590216993, 263.3391453284671, 262.75376484467535, 255.74857965170065, 267.3483047149548, 253.57256401694065, 275.1012088810638, 239.20429795022085, 246.29089275685064, 224.54202105749903, 228.2384235563118, 245.22959941293013, 221.71075202690153, 215.67189115390082, 198.44387042589503, 209.83486107254149, 1049.4628717506023, 920.7012011495012, 905.8398916097746, 805.4791878087229, 776.8906927141704, 786.4063357668823, 466.0835305366156, 418.2889887862278, 394.6248277310463, 387.9396494035338, 373.2374668420672, 397.7349742990318, 356.936952964742, 357.9803148275116, 349.28329007451777, 342.2635588942669, 336.9901468624471, 297.1422675523046, 240.76881402614703, 256.17378273750376, 213.185115539627, 217.93947992235854, 222.71603649932914, 198.12565784453426, 203.82520342488908, 199.45404538613403, 190.9333104003947, 180.12612445078938, 143.5081378683674, 141.8737809936573, 147.55754976833896, 148.82696093254268], \"Category\": [\"Default\", \"Default\", \"Default\", \"Default\", \"Default\", \"Default\", \"Default\", \"Default\", \"Default\", \"Default\", \"Default\", \"Default\", \"Default\", \"Default\", \"Default\", \"Default\", \"Default\", \"Default\", \"Default\", \"Default\", \"Default\", \"Default\", \"Default\", \"Default\", \"Default\", \"Default\", \"Default\", \"Default\", \"Default\", \"Default\", \"Topic1\", \"Topic1\", \"Topic1\", \"Topic1\", \"Topic1\", \"Topic1\", \"Topic1\", \"Topic1\", \"Topic1\", \"Topic1\", \"Topic1\", \"Topic1\", \"Topic1\", \"Topic1\", \"Topic1\", \"Topic1\", \"Topic1\", \"Topic1\", \"Topic1\", \"Topic1\", \"Topic1\", \"Topic1\", \"Topic1\", \"Topic1\", \"Topic1\", \"Topic1\", \"Topic1\", \"Topic1\", \"Topic1\", \"Topic1\", \"Topic2\", \"Topic2\", \"Topic2\", \"Topic2\", \"Topic2\", \"Topic2\", \"Topic2\", \"Topic2\", \"Topic2\", \"Topic2\", \"Topic2\", \"Topic2\", \"Topic2\", \"Topic2\", \"Topic2\", \"Topic2\", \"Topic2\", \"Topic2\", \"Topic2\", \"Topic2\", \"Topic2\", \"Topic2\", \"Topic2\", \"Topic2\", \"Topic2\", \"Topic2\", \"Topic2\", \"Topic2\", \"Topic2\", \"Topic2\", \"Topic2\", \"Topic3\", \"Topic3\", \"Topic3\", \"Topic3\", \"Topic3\", \"Topic3\", \"Topic3\", \"Topic3\", \"Topic3\", \"Topic3\", \"Topic3\", \"Topic3\", \"Topic3\", \"Topic3\", \"Topic3\", \"Topic3\", \"Topic3\", \"Topic3\", \"Topic3\", \"Topic3\", \"Topic3\", \"Topic3\", \"Topic3\", \"Topic3\", \"Topic3\", \"Topic3\", \"Topic3\", \"Topic3\", \"Topic3\", \"Topic3\", \"Topic3\", \"Topic3\"], \"logprob\": [30.0, 29.0, 28.0, 27.0, 26.0, 25.0, 24.0, 23.0, 22.0, 21.0, 20.0, 19.0, 18.0, 17.0, 16.0, 15.0, 14.0, 13.0, 12.0, 11.0, 10.0, 9.0, 8.0, 7.0, 6.0, 5.0, 4.0, 3.0, 2.0, 1.0, -2.3554, -2.4992, -3.3533, -3.3556, -3.417, -3.4265, -3.8435, -3.8288, -4.0106, -4.3678, -4.4525, -4.4719, -4.4537, -4.5254, -4.5545, -4.6014, -4.6106, -4.7731, -4.8073, -4.7911, -4.8172, -4.8573, -4.9635, -4.9722, -5.0793, -5.0662, -5.067, -5.0565, -5.1242, -5.1983, -2.7664, -3.0533, -3.3584, -3.5705, -3.9381, -3.9342, -3.9333, -4.1151, -4.0901, -4.2181, -4.2652, -4.399, -4.4706, -4.5044, -4.5249, -4.6607, -4.8068, -4.8091, -4.8361, -4.7918, -4.8447, -4.7633, -4.9032, -4.874, -4.9666, -4.9503, -4.8785, -4.9793, -5.0073, -5.0906, -5.0351, -3.1625, -3.2934, -3.3098, -3.4272, -3.4634, -3.4513, -3.975, -4.0834, -4.1418, -4.1589, -4.1976, -4.134, -4.2423, -4.2395, -4.2641, -4.2845, -4.3001, -4.4261, -4.6371, -4.5752, -4.7591, -4.7371, -4.7155, -4.8326, -4.8043, -4.8262, -4.8701, -4.9287, -5.1565, -5.168, -5.1289, -5.1204], \"loglift\": [30.0, 29.0, 28.0, 27.0, 26.0, 25.0, 24.0, 23.0, 22.0, 21.0, 20.0, 19.0, 18.0, 17.0, 16.0, 15.0, 14.0, 13.0, 12.0, 11.0, 10.0, 9.0, 8.0, 7.0, 6.0, 5.0, 4.0, 3.0, 2.0, 1.0, 0.7976, 0.7976, 0.7973, 0.7973, 0.7973, 0.7973, 0.797, 0.797, 0.7968, 0.7964, 0.7963, 0.7963, 0.7962, 0.7962, 0.7962, 0.7961, 0.7959, 0.7957, 0.7957, 0.7956, 0.7956, 0.7955, 0.7954, 0.7951, 0.7951, 0.795, 0.7949, 0.7949, 0.7949, 0.7945, 1.1698, 1.1697, 1.1695, 1.1693, 1.1689, 1.1689, 1.1687, 1.1687, 1.1686, 1.1685, 1.1683, 1.1682, 1.168, 1.168, 1.1678, 1.1675, 1.1671, 1.1671, 1.1671, 1.167, 1.167, 1.167, 1.1669, 1.1669, 1.1668, 1.1668, 1.1668, 1.1667, 1.1663, 1.1663, 1.166, 1.4289, 1.4289, 1.4288, 1.4288, 1.4287, 1.4287, 1.4281, 1.4278, 1.4277, 1.4276, 1.4276, 1.4276, 1.4276, 1.4275, 1.4274, 1.4273, 1.4273, 1.4271, 1.4264, 1.4264, 1.4262, 1.4261, 1.426, 1.4259, 1.4258, 1.4257, 1.4254, 1.4251, 1.4245, 1.4244, 1.4243, 1.4242]}, \"token.table\": {\"Topic\": [2, 2, 3, 1, 3, 1, 2, 1, 3, 2, 2, 3, 2, 1, 2, 3, 3, 1, 2, 2, 3, 1, 1, 1, 2, 1, 3, 1, 1, 3, 3, 1, 1, 3, 2, 3, 2, 1, 2, 2, 1, 3, 1, 3, 1, 2, 3, 2, 2, 3, 2, 2, 3, 3, 1, 1, 2, 2, 3, 2, 3, 2, 1, 1, 3, 1, 2, 2, 2, 2, 3, 1, 2, 3, 1, 2, 1, 3, 1, 1, 2, 1, 3, 3, 3, 3, 3, 3, 1, 3, 1, 2, 1, 3], \"Freq\": [0.9991623839280592, 0.997118387774599, 0.9944409086130279, 0.9993348878280837, 0.9951118513661261, 0.998054322846375, 0.9990078619564201, 0.997640594127986, 0.9970617928397436, 0.997816466850198, 0.9977617450296633, 0.9993091169168322, 0.9993684294265354, 0.9973862624584038, 0.9947586662973971, 0.9967849800553932, 0.9984166537755902, 0.99951080478855, 0.9987121347718961, 0.9982037956974462, 0.9959514161594193, 0.9991936066746825, 0.9984605897344436, 0.0015878202011098388, 0.9987389064980887, 0.99830404901072, 0.9943184650752426, 0.9987075225796859, 0.9956725795452144, 0.9961558227252085, 0.9977235589017259, 0.9970475752635574, 0.9988898823737392, 0.9937481336800924, 0.9949859257778272, 0.9995589441388906, 0.9977632444633215, 0.9993596614346568, 0.9959970772736956, 0.9997335257265355, 0.9997776761367377, 0.9975778464382836, 0.9978044714640766, 0.9994833004918684, 0.9997619912288076, 0.9977420111708047, 0.998152100402216, 0.9996423134583374, 0.9986072511121121, 0.9964591703584538, 0.9949654000344448, 0.9974478671605105, 0.9963082283771342, 0.9954180216064245, 0.9984743966657453, 0.9990405798478119, 0.9967942374449422, 0.9975523633091187, 0.9994050897701944, 0.994573991806396, 0.9990728034638859, 0.9971312881277993, 0.9995272272667381, 0.9990636363340507, 0.997261539847564, 0.9978120769843647, 0.9960213423628742, 0.9968846605354734, 0.9986971874935726, 0.9975861041289896, 0.996684505302918, 0.9977582737099823, 0.997072986083754, 0.9992384053060582, 0.99758494320074, 0.9983147238149194, 0.9977419370260759, 0.9944434736329965, 0.9986240127530428, 0.9968469624343146, 0.996572258778384, 0.997654757751541, 0.9976752438873604, 0.9973750183135717, 0.9938411383164845, 0.9968068371759162, 0.9988535160447621, 0.9962214758295032, 0.9993197011061175, 0.995689262346165, 0.9983996499658795, 0.9992125476786704, 0.9983296214118386, 0.9963259333870682], \"Term\": [\"alas\", \"ambil\", \"angkat\", \"antar\", \"aplikasi\", \"bagus\", \"baik\", \"barang\", \"bawa\", \"bayar\", \"beli\", \"bilang\", \"buruk\", \"butuh\", \"cabang\", \"cari\", \"cek\", \"cepat\", \"cod\", \"customer\", \"di\", \"ekspedisi\", \"estimasi\", \"ganti\", \"ganti\", \"gerak\", \"handphone\", \"hari\", \"hilang\", \"hubung\", \"informasi\", \"jalan\", \"jasa\", \"jemput\", \"jual\", \"kantor\", \"karyawan\", \"kecewa\", \"kembali\", \"kerja\", \"kirim\", \"konfirmasi\", \"kota\", \"kurir\", \"lambat\", \"langgan\", \"langsung\", \"layan\", \"lebih\", \"lengkap\", \"mahal\", \"malas\", \"mana\", \"masuk\", \"minggu\", \"nama\", \"nan\", \"niat\", \"nomor\", \"ongkir\", \"orang\", \"pagi\", \"pakai\", \"paket\", \"pas\", \"pesan\", \"pindah\", \"profesional\", \"pusat\", \"ramah\", \"resi\", \"respon\", \"rugi\", \"rumah\", \"salah\", \"service\", \"sesuai\", \"sopan\", \"sortir\", \"stuck\", \"suruh\", \"tahan\", \"telepon\", \"telpon\", \"tera\", \"terang\", \"terima\", \"tu\", \"tuju\", \"tulis\", \"tunggu\", \"tutup\", \"waktu\", \"whatsapp\"]}, \"R\": 30, \"lambda.step\": 0.01, \"plot.opts\": {\"xlab\": \"PC1\", \"ylab\": \"PC2\"}, \"topic.order\": [2, 1, 3]};\n",
       "\n",
       "function LDAvis_load_lib(url, callback){\n",
       "  var s = document.createElement('script');\n",
       "  s.src = url;\n",
       "  s.async = true;\n",
       "  s.onreadystatechange = s.onload = callback;\n",
       "  s.onerror = function(){console.warn(\"failed to load library \" + url);};\n",
       "  document.getElementsByTagName(\"head\")[0].appendChild(s);\n",
       "}\n",
       "\n",
       "if(typeof(LDAvis) !== \"undefined\"){\n",
       "   // already loaded: just create the visualization\n",
       "   !function(LDAvis){\n",
       "       new LDAvis(\"#\" + \"ldavis_el2667219963442752323320552257\", ldavis_el2667219963442752323320552257_data);\n",
       "   }(LDAvis);\n",
       "}else if(typeof define === \"function\" && define.amd){\n",
       "   // require.js is available: use it to load d3/LDAvis\n",
       "   require.config({paths: {d3: \"https://d3js.org/d3.v5\"}});\n",
       "   require([\"d3\"], function(d3){\n",
       "      window.d3 = d3;\n",
       "      LDAvis_load_lib(\"https://cdn.jsdelivr.net/gh/bmabey/pyLDAvis@3.4.0/pyLDAvis/js/ldavis.v3.0.0.js\", function(){\n",
       "        new LDAvis(\"#\" + \"ldavis_el2667219963442752323320552257\", ldavis_el2667219963442752323320552257_data);\n",
       "      });\n",
       "    });\n",
       "}else{\n",
       "    // require.js not available: dynamically load d3 & LDAvis\n",
       "    LDAvis_load_lib(\"https://d3js.org/d3.v5.js\", function(){\n",
       "         LDAvis_load_lib(\"https://cdn.jsdelivr.net/gh/bmabey/pyLDAvis@3.4.0/pyLDAvis/js/ldavis.v3.0.0.js\", function(){\n",
       "                 new LDAvis(\"#\" + \"ldavis_el2667219963442752323320552257\", ldavis_el2667219963442752323320552257_data);\n",
       "            })\n",
       "         });\n",
       "}\n",
       "</script>"
      ],
      "text/plain": [
       "<IPython.core.display.HTML object>"
      ]
     },
     "execution_count": 25,
     "metadata": {},
     "output_type": "execute_result"
    }
   ],
   "source": [
    "vis = gensimvis.prepare(lda_model, corpus, dictionary)\n",
    "pyLDAvis.display(vis)"
   ]
  },
  {
   "cell_type": "markdown",
   "metadata": {},
   "source": [
    "---"
   ]
  },
  {
   "cell_type": "code",
   "execution_count": 26,
   "metadata": {},
   "outputs": [
    {
     "name": "stdout",
     "output_type": "stream",
     "text": [
      "Document 0: [(0, 0.46129376), (1, 0.46409127), (2, 0.07461492)]\n",
      "Original Text: ['layan', 'buruk', 'langgan', 'alam', 'ambil', 'jasa', 'kirim', 'keluar', 'biaya', 'kali', 'isi', 'makan', 'tugas']\n",
      "\n",
      "Document 1: [(0, 0.2674497), (1, 0.5413335), (2, 0.1912168)]\n",
      "Original Text: ['lambat']\n",
      "\n",
      "Document 2: [(0, 0.2674497), (1, 0.5413335), (2, 0.1912168)]\n",
      "Original Text: ['lambat']\n",
      "\n",
      "Document 3: [(0, 0.39808303), (1, 0.41069824), (2, 0.19121875)]\n",
      "Original Text: ['buruk']\n",
      "\n",
      "Document 4: [(0, 0.1619753), (1, 0.56426865), (2, 0.27375606)]\n",
      "Original Text: ['kurir', 'lambat', 'kira', 'pakai', 'sayang', 'm']\n",
      "\n"
     ]
    }
   ],
   "source": [
    "# Get topic distributions for the first 5 documents\n",
    "for doc_id in range(5):\n",
    "    print(f\"Document {doc_id}: {lda_model.get_document_topics(corpus[doc_id])}\")\n",
    "    print(f\"Original Text: {tokenized_reviews[doc_id]}\")\n",
    "    print()"
   ]
  },
  {
   "cell_type": "code",
   "execution_count": 27,
   "metadata": {},
   "outputs": [],
   "source": [
    "# assign label per topic\n",
    "topic_labels = {\n",
    "    0: \"Kualitas Pelayan Buruk\",\n",
    "    1: \"Delay/ Lambat Pengiriman\",\n",
    "    2: \"Komunikasi Kurir\"\n",
    "}"
   ]
  },
  {
   "cell_type": "code",
   "execution_count": 28,
   "metadata": {},
   "outputs": [
    {
     "name": "stderr",
     "output_type": "stream",
     "text": [
      "C:\\Users\\Niko Amrullah Hakam\\AppData\\Local\\Temp\\ipykernel_26672\\3944936635.py:3: SettingWithCopyWarning: \n",
      "A value is trying to be set on a copy of a slice from a DataFrame.\n",
      "Try using .loc[row_indexer,col_indexer] = value instead\n",
      "\n",
      "See the caveats in the documentation: https://pandas.pydata.org/pandas-docs/stable/user_guide/indexing.html#returning-a-view-versus-a-copy\n",
      "  jelek_modeling['topic'] = [topic_labels[topic] for topic in doc_topics]\n"
     ]
    }
   ],
   "source": [
    "# Assign labels to documents\n",
    "doc_topics = [max(lda_model.get_document_topics(doc), key=lambda x: x[1])[0] for doc in corpus]\n",
    "jelek_modeling['topic'] = [topic_labels[topic] for topic in doc_topics]"
   ]
  },
  {
   "cell_type": "code",
   "execution_count": 29,
   "metadata": {},
   "outputs": [],
   "source": [
    "# Save labeled documents\n",
    "jelek_modeling.to_csv(\"labeled_documents.csv\", index=False)"
   ]
  },
  {
   "cell_type": "code",
   "execution_count": 30,
   "metadata": {},
   "outputs": [
    {
     "data": {
      "text/html": [
       "<div>\n",
       "<style scoped>\n",
       "    .dataframe tbody tr th:only-of-type {\n",
       "        vertical-align: middle;\n",
       "    }\n",
       "\n",
       "    .dataframe tbody tr th {\n",
       "        vertical-align: top;\n",
       "    }\n",
       "\n",
       "    .dataframe thead th {\n",
       "        text-align: right;\n",
       "    }\n",
       "</style>\n",
       "<table border=\"1\" class=\"dataframe\">\n",
       "  <thead>\n",
       "    <tr style=\"text-align: right;\">\n",
       "      <th></th>\n",
       "      <th>rating</th>\n",
       "      <th>reviews</th>\n",
       "      <th>company</th>\n",
       "      <th>province</th>\n",
       "      <th>parsed_date</th>\n",
       "      <th>processed_reviews</th>\n",
       "      <th>tokenized_reviews</th>\n",
       "      <th>topic</th>\n",
       "    </tr>\n",
       "  </thead>\n",
       "  <tbody>\n",
       "    <tr>\n",
       "      <th>1</th>\n",
       "      <td>1</td>\n",
       "      <td>Bad service given to customers, my own experie...</td>\n",
       "      <td>JNE</td>\n",
       "      <td>Aceh</td>\n",
       "      <td>2021-01-21</td>\n",
       "      <td>layan buruk langgan alam ambil jasa kirim kelu...</td>\n",
       "      <td>[layan, buruk, langgan, alam, ambil, jasa, kir...</td>\n",
       "      <td>Delay/ Lambat Pengiriman</td>\n",
       "    </tr>\n",
       "    <tr>\n",
       "      <th>7</th>\n",
       "      <td>1</td>\n",
       "      <td>Too slow</td>\n",
       "      <td>JNE</td>\n",
       "      <td>Aceh</td>\n",
       "      <td>2016-01-23</td>\n",
       "      <td>lambat</td>\n",
       "      <td>[lambat]</td>\n",
       "      <td>Delay/ Lambat Pengiriman</td>\n",
       "    </tr>\n",
       "    <tr>\n",
       "      <th>18</th>\n",
       "      <td>2</td>\n",
       "      <td>Slow service</td>\n",
       "      <td>JNE</td>\n",
       "      <td>Aceh</td>\n",
       "      <td>2022-01-21</td>\n",
       "      <td>lambat</td>\n",
       "      <td>[lambat]</td>\n",
       "      <td>Delay/ Lambat Pengiriman</td>\n",
       "    </tr>\n",
       "    <tr>\n",
       "      <th>20</th>\n",
       "      <td>1</td>\n",
       "      <td>Bad service</td>\n",
       "      <td>JNE</td>\n",
       "      <td>Aceh</td>\n",
       "      <td>2019-01-22</td>\n",
       "      <td>buruk</td>\n",
       "      <td>[buruk]</td>\n",
       "      <td>Delay/ Lambat Pengiriman</td>\n",
       "    </tr>\n",
       "    <tr>\n",
       "      <th>24</th>\n",
       "      <td>1</td>\n",
       "      <td>The courier was too slow for many reasons even...</td>\n",
       "      <td>JNE</td>\n",
       "      <td>Aceh</td>\n",
       "      <td>2025-01-06</td>\n",
       "      <td>kurir lambat kira pakai sayang m</td>\n",
       "      <td>[kurir, lambat, kira, pakai, sayang, m]</td>\n",
       "      <td>Delay/ Lambat Pengiriman</td>\n",
       "    </tr>\n",
       "    <tr>\n",
       "      <th>...</th>\n",
       "      <td>...</td>\n",
       "      <td>...</td>\n",
       "      <td>...</td>\n",
       "      <td>...</td>\n",
       "      <td>...</td>\n",
       "      <td>...</td>\n",
       "      <td>...</td>\n",
       "      <td>...</td>\n",
       "    </tr>\n",
       "    <tr>\n",
       "      <th>17658</th>\n",
       "      <td>1</td>\n",
       "      <td>Lambat</td>\n",
       "      <td>Sicepat</td>\n",
       "      <td>Sumatera Utara</td>\n",
       "      <td>2021-01-21</td>\n",
       "      <td>lambat</td>\n",
       "      <td>[lambat]</td>\n",
       "      <td>Delay/ Lambat Pengiriman</td>\n",
       "    </tr>\n",
       "    <tr>\n",
       "      <th>17659</th>\n",
       "      <td>1</td>\n",
       "      <td>Kargo Silambat</td>\n",
       "      <td>Sicepat</td>\n",
       "      <td>Sumatera Utara</td>\n",
       "      <td>2021-01-21</td>\n",
       "      <td>kargo lambat</td>\n",
       "      <td>[kargo, lambat]</td>\n",
       "      <td>Delay/ Lambat Pengiriman</td>\n",
       "    </tr>\n",
       "    <tr>\n",
       "      <th>17660</th>\n",
       "      <td>1</td>\n",
       "      <td>SILELET CEMBRETTTTTT</td>\n",
       "      <td>Sicepat</td>\n",
       "      <td>Sumatera Utara</td>\n",
       "      <td>2021-01-21</td>\n",
       "      <td>lambat cembret</td>\n",
       "      <td>[lambat, cembret]</td>\n",
       "      <td>Delay/ Lambat Pengiriman</td>\n",
       "    </tr>\n",
       "    <tr>\n",
       "      <th>17661</th>\n",
       "      <td>1</td>\n",
       "      <td>Lambat sekali....</td>\n",
       "      <td>Sicepat</td>\n",
       "      <td>Sumatera Utara</td>\n",
       "      <td>2021-01-21</td>\n",
       "      <td>lambat</td>\n",
       "      <td>[lambat]</td>\n",
       "      <td>Delay/ Lambat Pengiriman</td>\n",
       "    </tr>\n",
       "    <tr>\n",
       "      <th>17662</th>\n",
       "      <td>1</td>\n",
       "      <td>KERAS!!!!!</td>\n",
       "      <td>Sicepat</td>\n",
       "      <td>Sumatera Utara</td>\n",
       "      <td>2021-01-21</td>\n",
       "      <td>keras</td>\n",
       "      <td>[keras]</td>\n",
       "      <td>Delay/ Lambat Pengiriman</td>\n",
       "    </tr>\n",
       "  </tbody>\n",
       "</table>\n",
       "<p>13927 rows × 8 columns</p>\n",
       "</div>"
      ],
      "text/plain": [
       "       rating                                            reviews  company  \\\n",
       "1           1  Bad service given to customers, my own experie...      JNE   \n",
       "7           1                                           Too slow      JNE   \n",
       "18          2                                       Slow service      JNE   \n",
       "20          1                                        Bad service      JNE   \n",
       "24          1  The courier was too slow for many reasons even...      JNE   \n",
       "...       ...                                                ...      ...   \n",
       "17658       1                                             Lambat  Sicepat   \n",
       "17659       1                                     Kargo Silambat  Sicepat   \n",
       "17660       1                               SILELET CEMBRETTTTTT  Sicepat   \n",
       "17661       1                                  Lambat sekali....  Sicepat   \n",
       "17662       1                                         KERAS!!!!!  Sicepat   \n",
       "\n",
       "             province parsed_date  \\\n",
       "1                Aceh  2021-01-21   \n",
       "7                Aceh  2016-01-23   \n",
       "18               Aceh  2022-01-21   \n",
       "20               Aceh  2019-01-22   \n",
       "24               Aceh  2025-01-06   \n",
       "...               ...         ...   \n",
       "17658  Sumatera Utara  2021-01-21   \n",
       "17659  Sumatera Utara  2021-01-21   \n",
       "17660  Sumatera Utara  2021-01-21   \n",
       "17661  Sumatera Utara  2021-01-21   \n",
       "17662  Sumatera Utara  2021-01-21   \n",
       "\n",
       "                                       processed_reviews  \\\n",
       "1      layan buruk langgan alam ambil jasa kirim kelu...   \n",
       "7                                                 lambat   \n",
       "18                                                lambat   \n",
       "20                                                 buruk   \n",
       "24                      kurir lambat kira pakai sayang m   \n",
       "...                                                  ...   \n",
       "17658                                             lambat   \n",
       "17659                                       kargo lambat   \n",
       "17660                                     lambat cembret   \n",
       "17661                                             lambat   \n",
       "17662                                              keras   \n",
       "\n",
       "                                       tokenized_reviews  \\\n",
       "1      [layan, buruk, langgan, alam, ambil, jasa, kir...   \n",
       "7                                               [lambat]   \n",
       "18                                              [lambat]   \n",
       "20                                               [buruk]   \n",
       "24               [kurir, lambat, kira, pakai, sayang, m]   \n",
       "...                                                  ...   \n",
       "17658                                           [lambat]   \n",
       "17659                                    [kargo, lambat]   \n",
       "17660                                  [lambat, cembret]   \n",
       "17661                                           [lambat]   \n",
       "17662                                            [keras]   \n",
       "\n",
       "                          topic  \n",
       "1      Delay/ Lambat Pengiriman  \n",
       "7      Delay/ Lambat Pengiriman  \n",
       "18     Delay/ Lambat Pengiriman  \n",
       "20     Delay/ Lambat Pengiriman  \n",
       "24     Delay/ Lambat Pengiriman  \n",
       "...                         ...  \n",
       "17658  Delay/ Lambat Pengiriman  \n",
       "17659  Delay/ Lambat Pengiriman  \n",
       "17660  Delay/ Lambat Pengiriman  \n",
       "17661  Delay/ Lambat Pengiriman  \n",
       "17662  Delay/ Lambat Pengiriman  \n",
       "\n",
       "[13927 rows x 8 columns]"
      ]
     },
     "execution_count": 30,
     "metadata": {},
     "output_type": "execute_result"
    }
   ],
   "source": [
    "jelek_modeling"
   ]
  },
  {
   "cell_type": "code",
   "execution_count": 31,
   "metadata": {},
   "outputs": [
    {
     "data": {
      "text/plain": [
       "topic\n",
       "Delay/ Lambat Pengiriman    10113\n",
       "Kualitas Pelayan Buruk       2232\n",
       "Komunikasi Kurir             1582\n",
       "Name: count, dtype: int64"
      ]
     },
     "execution_count": 31,
     "metadata": {},
     "output_type": "execute_result"
    }
   ],
   "source": [
    "jelek_modeling['topic'].value_counts()"
   ]
  },
  {
   "cell_type": "code",
   "execution_count": 60,
   "metadata": {},
   "outputs": [
    {
     "data": {
      "text/plain": [
       "array(['JNE', 'JNT', 'Sicepat'], dtype=object)"
      ]
     },
     "execution_count": 60,
     "metadata": {},
     "output_type": "execute_result"
    }
   ],
   "source": [
    "jelek_modeling['company'].unique()"
   ]
  },
  {
   "cell_type": "markdown",
   "metadata": {},
   "source": [
    "# 2. Bagus Modeling"
   ]
  },
  {
   "cell_type": "code",
   "execution_count": 32,
   "metadata": {},
   "outputs": [
    {
     "data": {
      "text/html": [
       "<div>\n",
       "<style scoped>\n",
       "    .dataframe tbody tr th:only-of-type {\n",
       "        vertical-align: middle;\n",
       "    }\n",
       "\n",
       "    .dataframe tbody tr th {\n",
       "        vertical-align: top;\n",
       "    }\n",
       "\n",
       "    .dataframe thead th {\n",
       "        text-align: right;\n",
       "    }\n",
       "</style>\n",
       "<table border=\"1\" class=\"dataframe\">\n",
       "  <thead>\n",
       "    <tr style=\"text-align: right;\">\n",
       "      <th></th>\n",
       "      <th>rating</th>\n",
       "      <th>reviews</th>\n",
       "      <th>company</th>\n",
       "      <th>province</th>\n",
       "      <th>parsed_date</th>\n",
       "      <th>processed_reviews</th>\n",
       "    </tr>\n",
       "  </thead>\n",
       "  <tbody>\n",
       "    <tr>\n",
       "      <th>0</th>\n",
       "      <td>5</td>\n",
       "      <td>Located at the Padang Old City area, just arou...</td>\n",
       "      <td>JNE</td>\n",
       "      <td>Aceh</td>\n",
       "      <td>2024-04-25</td>\n",
       "      <td>letak kawasan kota tua jembatan siti nurbaya s...</td>\n",
       "    </tr>\n",
       "    <tr>\n",
       "      <th>2</th>\n",
       "      <td>5</td>\n",
       "      <td>Nice Place, they're working on rebuild their o...</td>\n",
       "      <td>JNE</td>\n",
       "      <td>Aceh</td>\n",
       "      <td>2022-01-21</td>\n",
       "      <td>bagus upaya bangun kantor orang orang hebat layan</td>\n",
       "    </tr>\n",
       "    <tr>\n",
       "      <th>3</th>\n",
       "      <td>5</td>\n",
       "      <td>Good delivery service for customers in this co...</td>\n",
       "      <td>JNE</td>\n",
       "      <td>Aceh</td>\n",
       "      <td>2023-01-21</td>\n",
       "      <td>kirim langgan negara</td>\n",
       "    </tr>\n",
       "    <tr>\n",
       "      <th>4</th>\n",
       "      <td>5</td>\n",
       "      <td>Good service</td>\n",
       "      <td>JNE</td>\n",
       "      <td>Aceh</td>\n",
       "      <td>2022-01-21</td>\n",
       "      <td>layan bagus</td>\n",
       "    </tr>\n",
       "    <tr>\n",
       "      <th>5</th>\n",
       "      <td>5</td>\n",
       "      <td>Very nice building and nice staff</td>\n",
       "      <td>JNE</td>\n",
       "      <td>Aceh</td>\n",
       "      <td>2023-01-21</td>\n",
       "      <td>bangun bagus staf</td>\n",
       "    </tr>\n",
       "    <tr>\n",
       "      <th>...</th>\n",
       "      <td>...</td>\n",
       "      <td>...</td>\n",
       "      <td>...</td>\n",
       "      <td>...</td>\n",
       "      <td>...</td>\n",
       "      <td>...</td>\n",
       "    </tr>\n",
       "    <tr>\n",
       "      <th>17647</th>\n",
       "      <td>5</td>\n",
       "      <td>Komplek pergudangan 👍👍 …</td>\n",
       "      <td>Sicepat</td>\n",
       "      <td>Sumatera Utara</td>\n",
       "      <td>2021-01-21</td>\n",
       "      <td>komplek gudang</td>\n",
       "    </tr>\n",
       "    <tr>\n",
       "      <th>17650</th>\n",
       "      <td>5</td>\n",
       "      <td>Semangat</td>\n",
       "      <td>Sicepat</td>\n",
       "      <td>Sumatera Utara</td>\n",
       "      <td>2021-01-21</td>\n",
       "      <td>semangat</td>\n",
       "    </tr>\n",
       "    <tr>\n",
       "      <th>17655</th>\n",
       "      <td>5</td>\n",
       "      <td>Kerja bagus</td>\n",
       "      <td>Sicepat</td>\n",
       "      <td>Sumatera Utara</td>\n",
       "      <td>2021-01-21</td>\n",
       "      <td>kerja bagus</td>\n",
       "    </tr>\n",
       "    <tr>\n",
       "      <th>17656</th>\n",
       "      <td>5</td>\n",
       "      <td>Bagus</td>\n",
       "      <td>Sicepat</td>\n",
       "      <td>Sumatera Utara</td>\n",
       "      <td>2021-01-21</td>\n",
       "      <td>bagus</td>\n",
       "    </tr>\n",
       "    <tr>\n",
       "      <th>17663</th>\n",
       "      <td>5</td>\n",
       "      <td>Sicepat adalah yang terbaik</td>\n",
       "      <td>Sicepat</td>\n",
       "      <td>Sumatera Utara</td>\n",
       "      <td>2021-01-21</td>\n",
       "      <td>baik</td>\n",
       "    </tr>\n",
       "  </tbody>\n",
       "</table>\n",
       "<p>3737 rows × 6 columns</p>\n",
       "</div>"
      ],
      "text/plain": [
       "       rating                                            reviews  company  \\\n",
       "0           5  Located at the Padang Old City area, just arou...      JNE   \n",
       "2           5  Nice Place, they're working on rebuild their o...      JNE   \n",
       "3           5  Good delivery service for customers in this co...      JNE   \n",
       "4           5                                       Good service      JNE   \n",
       "5           5                  Very nice building and nice staff      JNE   \n",
       "...       ...                                                ...      ...   \n",
       "17647       5                           Komplek pergudangan 👍👍 …  Sicepat   \n",
       "17650       5                                           Semangat  Sicepat   \n",
       "17655       5                                        Kerja bagus  Sicepat   \n",
       "17656       5                                              Bagus  Sicepat   \n",
       "17663       5                        Sicepat adalah yang terbaik  Sicepat   \n",
       "\n",
       "             province parsed_date  \\\n",
       "0                Aceh  2024-04-25   \n",
       "2                Aceh  2022-01-21   \n",
       "3                Aceh  2023-01-21   \n",
       "4                Aceh  2022-01-21   \n",
       "5                Aceh  2023-01-21   \n",
       "...               ...         ...   \n",
       "17647  Sumatera Utara  2021-01-21   \n",
       "17650  Sumatera Utara  2021-01-21   \n",
       "17655  Sumatera Utara  2021-01-21   \n",
       "17656  Sumatera Utara  2021-01-21   \n",
       "17663  Sumatera Utara  2021-01-21   \n",
       "\n",
       "                                       processed_reviews  \n",
       "0      letak kawasan kota tua jembatan siti nurbaya s...  \n",
       "2      bagus upaya bangun kantor orang orang hebat layan  \n",
       "3                                   kirim langgan negara  \n",
       "4                                            layan bagus  \n",
       "5                                      bangun bagus staf  \n",
       "...                                                  ...  \n",
       "17647                                     komplek gudang  \n",
       "17650                                           semangat  \n",
       "17655                                        kerja bagus  \n",
       "17656                                              bagus  \n",
       "17663                                               baik  \n",
       "\n",
       "[3737 rows x 6 columns]"
      ]
     },
     "execution_count": 32,
     "metadata": {},
     "output_type": "execute_result"
    }
   ],
   "source": [
    "bagus_modeling"
   ]
  },
  {
   "cell_type": "code",
   "execution_count": 33,
   "metadata": {},
   "outputs": [
    {
     "name": "stderr",
     "output_type": "stream",
     "text": [
      "C:\\Users\\Niko Amrullah Hakam\\AppData\\Local\\Temp\\ipykernel_26672\\1594058256.py:2: SettingWithCopyWarning: \n",
      "A value is trying to be set on a copy of a slice from a DataFrame.\n",
      "Try using .loc[row_indexer,col_indexer] = value instead\n",
      "\n",
      "See the caveats in the documentation: https://pandas.pydata.org/pandas-docs/stable/user_guide/indexing.html#returning-a-view-versus-a-copy\n",
      "  bagus_modeling['processed_reviews'] = bagus_modeling['processed_reviews'].astype(str)\n",
      "C:\\Users\\Niko Amrullah Hakam\\AppData\\Local\\Temp\\ipykernel_26672\\1594058256.py:5: SettingWithCopyWarning: \n",
      "A value is trying to be set on a copy of a slice from a DataFrame.\n",
      "Try using .loc[row_indexer,col_indexer] = value instead\n",
      "\n",
      "See the caveats in the documentation: https://pandas.pydata.org/pandas-docs/stable/user_guide/indexing.html#returning-a-view-versus-a-copy\n",
      "  bagus_modeling['tokenized_reviews'] = bagus_modeling['processed_reviews'].apply(word_tokenize)\n"
     ]
    }
   ],
   "source": [
    "# Ensure the 'processed_reviews' column is treated as string\n",
    "bagus_modeling['processed_reviews'] = bagus_modeling['processed_reviews'].astype(str)\n",
    "\n",
    "# Tokenize the processed_reviews column\n",
    "bagus_modeling['tokenized_reviews'] = bagus_modeling['processed_reviews'].apply(word_tokenize)"
   ]
  },
  {
   "cell_type": "code",
   "execution_count": 34,
   "metadata": {},
   "outputs": [],
   "source": [
    "tokenized_reviews2 = bagus_modeling['tokenized_reviews'].tolist()  # Convert the column to a list of lists\n",
    "dictionary2 = Dictionary(tokenized_reviews2)"
   ]
  },
  {
   "cell_type": "code",
   "execution_count": 35,
   "metadata": {},
   "outputs": [
    {
     "name": "stdout",
     "output_type": "stream",
     "text": [
      "Dictionary created with 2922 unique tokens.\n"
     ]
    }
   ],
   "source": [
    "# Print dictionary information\n",
    "print(f\"Dictionary created with {len(dictionary2)} unique tokens.\")"
   ]
  },
  {
   "cell_type": "code",
   "execution_count": 36,
   "metadata": {},
   "outputs": [],
   "source": [
    "# Word counts\n",
    "word_counts2 = dictionary2.cfs  # cfs = term frequency across the corpus\n",
    "sorted_word_counts2 = sorted(word_counts2.items(), key=lambda x: x[1], reverse=True)"
   ]
  },
  {
   "cell_type": "code",
   "execution_count": 37,
   "metadata": {},
   "outputs": [],
   "source": [
    "# Cumulative frequency\n",
    "word_frequencies2 = [count for _, count in sorted_word_counts2]\n",
    "cumulative_frequencies2 = [sum(word_frequencies2[:i]) for i in range(1, len(word_frequencies2) + 1)]"
   ]
  },
  {
   "cell_type": "code",
   "execution_count": 38,
   "metadata": {},
   "outputs": [
    {
     "data": {
      "image/png": "[encoded data removed]",
      "text/plain": [
       "<Figure size 1000x600 with 1 Axes>"
      ]
     },
     "metadata": {},
     "output_type": "display_data"
    }
   ],
   "source": [
    "# Plot\n",
    "import matplotlib.pyplot as plt\n",
    "plt.figure(figsize=(10, 6))\n",
    "plt.plot(range(1, len(cumulative_frequencies2) + 1), cumulative_frequencies2)\n",
    "plt.xlabel('Vocabulary Size')\n",
    "plt.ylabel('Cumulative Word Count')\n",
    "plt.title('Cumulative Word Frequency Distribution')\n",
    "plt.show()"
   ]
  },
  {
   "cell_type": "code",
   "execution_count": 39,
   "metadata": {},
   "outputs": [
    {
     "data": {
      "image/png": "[encoded data removed]",
      "text/plain": [
       "<Figure size 640x480 with 1 Axes>"
      ]
     },
     "metadata": {},
     "output_type": "display_data"
    },
    {
     "name": "stdout",
     "output_type": "stream",
     "text": [
      "count    3737.000000\n",
      "mean        4.846936\n",
      "std         4.703649\n",
      "min         1.000000\n",
      "25%         1.000000\n",
      "50%         3.000000\n",
      "75%         7.000000\n",
      "90%        12.000000\n",
      "95%        15.000000\n",
      "max        29.000000\n",
      "Name: tokenized_reviews, dtype: float64\n"
     ]
    }
   ],
   "source": [
    "sequence_lengths2 = bagus_modeling['tokenized_reviews'].apply(len)\n",
    "\n",
    "# Plot sequence length distribution\n",
    "plt.hist(sequence_lengths2, bins=50, color='green')\n",
    "plt.xlabel('Sequence Length')\n",
    "plt.ylabel('Frequency')\n",
    "plt.title('Document Length Distribution')\n",
    "plt.show()\n",
    "\n",
    "# Print descriptive stats\n",
    "print(sequence_lengths2.describe(percentiles=[0.25, 0.5, 0.75, 0.90, 0.95]))"
   ]
  },
  {
   "cell_type": "code",
   "execution_count": 40,
   "metadata": {},
   "outputs": [
    {
     "name": "stdout",
     "output_type": "stream",
     "text": [
      "Word Coverage with top 1250 words: 90.77%\n"
     ]
    }
   ],
   "source": [
    "top_n2 = 1250  # Adjust berdasarkan \"Cumulative Word Frequency Distribution\"\n",
    "word_coverage2 = sum([freq for _, freq in sorted_word_counts2[:top_n2]]) / sum(word_frequencies2)\n",
    "print(f\"Word Coverage with top {top_n2} words: {word_coverage2:.2%}\")"
   ]
  },
  {
   "cell_type": "code",
   "execution_count": 41,
   "metadata": {},
   "outputs": [
    {
     "name": "stdout",
     "output_type": "stream",
     "text": [
      "Filtered dictionary size: 500\n"
     ]
    }
   ],
   "source": [
    "dictionary2.filter_extremes(no_below=5, no_above=0.5, keep_n=1250)\n",
    "print(f\"Filtered dictionary size: {len(dictionary2)}\")"
   ]
  },
  {
   "cell_type": "code",
   "execution_count": 42,
   "metadata": {},
   "outputs": [],
   "source": [
    "# bikin bag of words\n",
    "corpus2 = [dictionary2.doc2bow(review) for review in tokenized_reviews2]"
   ]
  },
  {
   "cell_type": "code",
   "execution_count": 43,
   "metadata": {},
   "outputs": [],
   "source": [
    "lda_model_bagus = LdaModel(corpus=corpus2, \n",
    "                     id2word=dictionary2,\n",
    "                     alpha='auto',\n",
    "                     eta='auto',\n",
    "                     iterations=100, \n",
    "                     num_topics=3, \n",
    "                     chunksize=500, \n",
    "                     passes=80, \n",
    "                     random_state=37)"
   ]
  },
  {
   "cell_type": "code",
   "execution_count": 44,
   "metadata": {},
   "outputs": [
    {
     "name": "stdout",
     "output_type": "stream",
     "text": [
      "Topic 1:\n",
      "layan cepat bagus kirim ramah lambat kantor pakai waktu jasa antar langsung ekspedisi rumah nyaman kota sesuai moga tepat mudah ambil aman tempat muas kurir customer langgan lokasi paket bantu\n",
      "\n",
      "Topic 2:\n",
      "baik kerja bintang pesan nama online percaya utama pagi hari ongkir telepon pilih jual reguler mohon profesional rating daerah besok belanja pindah komplain siang kemarin buruk wilayah beli indonesia senin\n",
      "\n",
      "Topic 3:\n",
      "nan parkir respon orang luas staf nomor masuk bayar proses antri ruang cari gudang beda gratis sedia sayang cek enak mobil handphone fast admin whatsapp via motor sehat semangat jaga\n",
      "\n"
     ]
    }
   ],
   "source": [
    "for i, topic in lda_model_bagus.show_topics(num_topics=3, num_words=30, formatted=False):\n",
    "    print(f\"Topic {i + 1}:\")\n",
    "    print(\" \".join([word for word, _ in topic]))\n",
    "    print()"
   ]
  },
  {
   "cell_type": "code",
   "execution_count": 45,
   "metadata": {},
   "outputs": [],
   "source": [
    "coherence_model2 = CoherenceModel(model=lda_model_bagus, texts=bagus_modeling['tokenized_reviews'], dictionary=dictionary2, coherence='c_v')\n",
    "coherence_score2 = coherence_model2.get_coherence()"
   ]
  },
  {
   "cell_type": "code",
   "execution_count": 46,
   "metadata": {},
   "outputs": [
    {
     "name": "stdout",
     "output_type": "stream",
     "text": [
      "Coherence Score: 0.44461283278991903\n"
     ]
    }
   ],
   "source": [
    "print(f\"Coherence Score: {coherence_score2}\")"
   ]
  },
  {
   "cell_type": "code",
   "execution_count": 47,
   "metadata": {},
   "outputs": [
    {
     "data": {
      "text/html": [
       "\n",
       "<link rel=\"stylesheet\" type=\"text/css\" href=\"https://cdn.jsdelivr.net/gh/bmabey/pyLDAvis@3.4.0/pyLDAvis/js/ldavis.v1.0.0.css\">\n",
       "\n",
       "\n",
       "<div id=\"ldavis_el2667219963442752327981330622\" style=\"background-color:white;\"></div>\n",
       "<script type=\"text/javascript\">\n",
       "\n",
       "var ldavis_el2667219963442752327981330622_data = {\"mdsDat\": {\"x\": [-0.37286039396240056, 0.2347932880080246, 0.13806710595437577], \"y\": [-0.05446292864964736, -0.28768434132628035, 0.34214726997592765], \"topics\": [1, 2, 3], \"cluster\": [1, 1, 1], \"Freq\": [45.030184795460485, 31.031413217559432, 23.938401986980086]}, \"tinfo\": {\"Term\": [\"lambat\", \"kirim\", \"layan\", \"buruk\", \"kantor\", \"rumah\", \"kerja\", \"orang\", \"pakai\", \"antar\", \"ekspedisi\", \"cepat\", \"nomor\", \"kurir\", \"terima\", \"tutup\", \"paket\", \"jasa\", \"customer\", \"ganti\", \"baik\", \"kecewa\", \"telepon\", \"alas\", \"bayar\", \"bilang\", \"langsung\", \"cek\", \"konfirmasi\", \"service\", \"lambat\", \"kirim\", \"pakai\", \"antar\", \"ekspedisi\", \"cepat\", \"jasa\", \"paket\", \"kecewa\", \"sortir\", \"estimasi\", \"tuju\", \"pesan\", \"hari\", \"tahan\", \"minggu\", \"nama\", \"kota\", \"waktu\", \"sesuai\", \"barang\", \"jalan\", \"gerak\", \"salah\", \"stuck\", \"butuh\", \"bagus\", \"respon\", \"hilang\", \"tunggu\", \"layan\", \"buruk\", \"kerja\", \"tutup\", \"baik\", \"customer\", \"ganti\", \"bayar\", \"alas\", \"service\", \"niat\", \"lebih\", \"suruh\", \"ambil\", \"malas\", \"beli\", \"cod\", \"pagi\", \"rugi\", \"pusat\", \"langgan\", \"kembali\", \"mahal\", \"cabang\", \"ramah\", \"ongkir\", \"jual\", \"nan\", \"profesional\", \"karyawan\", \"pindah\", \"kantor\", \"rumah\", \"orang\", \"nomor\", \"terima\", \"kurir\", \"telepon\", \"bilang\", \"cek\", \"konfirmasi\", \"resi\", \"langsung\", \"telpon\", \"pas\", \"whatsapp\", \"mana\", \"bawa\", \"hubung\", \"terang\", \"masuk\", \"angkat\", \"tulis\", \"cari\", \"handphone\", \"di\", \"informasi\", \"aplikasi\", \"jemput\", \"lengkap\", \"tera\", \"tu\", \"sopan\"], \"Freq\": [4422.0, 3829.0, 2020.0, 1516.0, 1049.0, 920.0, 1118.0, 905.0, 1630.0, 1627.0, 1530.0, 1515.0, 805.0, 786.0, 776.0, 904.0, 1013.0, 999.0, 629.0, 629.0, 626.0, 845.0, 466.0, 538.0, 525.0, 418.0, 397.0, 394.0, 387.0, 473.0, 4421.222355747975, 3829.0275393832694, 1629.9460237094272, 1626.212657239565, 1529.3772815263, 1514.89179878681, 998.2735613202739, 1013.0877386659425, 844.7016418419137, 590.9817457400792, 543.0021871306948, 532.5376569368638, 542.3184051131924, 504.8249076702571, 490.3241882949023, 467.88470413254555, 463.5694370821465, 394.03160145586594, 380.8167065561609, 387.0274371536801, 377.0403215502815, 362.2284665978287, 325.7443420194167, 322.9119772988739, 290.1088025583958, 293.94863013782646, 293.71673808999145, 296.79898797963983, 277.3767484014966, 257.56217630213797, 2019.9433676337803, 1516.1782711575265, 1117.5004265823682, 903.8842151869487, 625.8402978114142, 628.3435917551659, 628.8517769983061, 524.3605389178089, 537.6210985669813, 473.00920983774836, 451.26661130342563, 394.7609173697024, 367.4542767445611, 355.2446985026905, 348.0615413727289, 303.8565448385526, 262.5448358327065, 261.9425699096937, 254.95753562322858, 266.5149507802335, 252.78090655203926, 274.22804089714043, 238.43361782864997, 245.4942008454866, 223.78480725700126, 227.46313748227794, 244.39393552082703, 220.94514122904366, 214.84095039542072, 197.67536945830878, 208.95185880778314, 1048.667186228024, 919.9340904985448, 905.0234143620078, 804.7260545060485, 776.1154896763792, 785.6002836210447, 465.33057424163036, 417.51042401154893, 393.84717710598176, 387.14418508158536, 372.45790661790926, 396.898237772337, 356.1791985148417, 357.18238811116123, 348.4984243229431, 341.46195114156257, 336.18179820762157, 296.3621496229032, 239.98798041084382, 255.3261521139943, 212.4412737790934, 217.16756322616317, 221.89214499863488, 197.3755454043876, 203.03715592084524, 198.65244754675857, 190.11387840455652, 179.30088284952646, 142.7641694495618, 141.1303287011669, 146.76970483282386, 148.0185111127197], \"Total\": [4422.0, 3829.0, 2020.0, 1516.0, 1049.0, 920.0, 1118.0, 905.0, 1630.0, 1627.0, 1530.0, 1515.0, 805.0, 786.0, 776.0, 904.0, 1013.0, 999.0, 629.0, 629.0, 626.0, 845.0, 466.0, 538.0, 525.0, 418.0, 397.0, 394.0, 387.0, 473.0, 4422.0524872786455, 3829.8514673739473, 1630.770984055456, 1627.082192170721, 1530.233970459953, 1515.7414934804067, 999.1091286542771, 1013.9494254010557, 845.5414327880097, 591.8143289692282, 543.8371885508465, 533.3628461542768, 543.1884545214749, 505.65354579043594, 491.15187011620617, 468.7150732786093, 464.44559846676407, 394.8669416382596, 381.63747907348426, 387.8758480910538, 377.89159965922073, 363.07194258439444, 326.55381927284895, 323.78195180418237, 290.9172730905613, 294.770452598109, 294.57314423681305, 297.66728858650265, 278.2039052702678, 258.4135521369796, 2020.7227853447487, 1516.9580660757133, 1118.2979976464396, 904.712417893606, 626.621695222763, 629.1300460956629, 629.7942294102505, 525.1466751737502, 538.4510152243047, 473.7984812970573, 452.1065926844438, 395.55090308036824, 368.26230789313274, 356.0259286686112, 348.8904146846999, 304.68195590216993, 263.3391453284671, 262.75376484467535, 255.74857965170065, 267.3483047149548, 253.57256401694065, 275.1012088810638, 239.20429795022085, 246.29089275685064, 224.54202105749903, 228.2384235563118, 245.22959941293013, 221.71075202690153, 215.67189115390082, 198.44387042589503, 209.83486107254149, 1049.4628717506023, 920.7012011495012, 905.8398916097746, 805.4791878087229, 776.8906927141704, 786.4063357668823, 466.0835305366156, 418.2889887862278, 394.6248277310463, 387.9396494035338, 373.2374668420672, 397.7349742990318, 356.936952964742, 357.9803148275116, 349.28329007451777, 342.2635588942669, 336.9901468624471, 297.1422675523046, 240.76881402614703, 256.17378273750376, 213.185115539627, 217.93947992235854, 222.71603649932914, 198.12565784453426, 203.82520342488908, 199.45404538613403, 190.9333104003947, 180.12612445078938, 143.5081378683674, 141.8737809936573, 147.55754976833896, 148.82696093254268], \"Category\": [\"Default\", \"Default\", \"Default\", \"Default\", \"Default\", \"Default\", \"Default\", \"Default\", \"Default\", \"Default\", \"Default\", \"Default\", \"Default\", \"Default\", \"Default\", \"Default\", \"Default\", \"Default\", \"Default\", \"Default\", \"Default\", \"Default\", \"Default\", \"Default\", \"Default\", \"Default\", \"Default\", \"Default\", \"Default\", \"Default\", \"Topic1\", \"Topic1\", \"Topic1\", \"Topic1\", \"Topic1\", \"Topic1\", \"Topic1\", \"Topic1\", \"Topic1\", \"Topic1\", \"Topic1\", \"Topic1\", \"Topic1\", \"Topic1\", \"Topic1\", \"Topic1\", \"Topic1\", \"Topic1\", \"Topic1\", \"Topic1\", \"Topic1\", \"Topic1\", \"Topic1\", \"Topic1\", \"Topic1\", \"Topic1\", \"Topic1\", \"Topic1\", \"Topic1\", \"Topic1\", \"Topic2\", \"Topic2\", \"Topic2\", \"Topic2\", \"Topic2\", \"Topic2\", \"Topic2\", \"Topic2\", \"Topic2\", \"Topic2\", \"Topic2\", \"Topic2\", \"Topic2\", \"Topic2\", \"Topic2\", \"Topic2\", \"Topic2\", \"Topic2\", \"Topic2\", \"Topic2\", \"Topic2\", \"Topic2\", \"Topic2\", \"Topic2\", \"Topic2\", \"Topic2\", \"Topic2\", \"Topic2\", \"Topic2\", \"Topic2\", \"Topic2\", \"Topic3\", \"Topic3\", \"Topic3\", \"Topic3\", \"Topic3\", \"Topic3\", \"Topic3\", \"Topic3\", \"Topic3\", \"Topic3\", \"Topic3\", \"Topic3\", \"Topic3\", \"Topic3\", \"Topic3\", \"Topic3\", \"Topic3\", \"Topic3\", \"Topic3\", \"Topic3\", \"Topic3\", \"Topic3\", \"Topic3\", \"Topic3\", \"Topic3\", \"Topic3\", \"Topic3\", \"Topic3\", \"Topic3\", \"Topic3\", \"Topic3\", \"Topic3\"], \"logprob\": [30.0, 29.0, 28.0, 27.0, 26.0, 25.0, 24.0, 23.0, 22.0, 21.0, 20.0, 19.0, 18.0, 17.0, 16.0, 15.0, 14.0, 13.0, 12.0, 11.0, 10.0, 9.0, 8.0, 7.0, 6.0, 5.0, 4.0, 3.0, 2.0, 1.0, -2.3554, -2.4992, -3.3533, -3.3556, -3.417, -3.4265, -3.8435, -3.8288, -4.0106, -4.3678, -4.4525, -4.4719, -4.4537, -4.5254, -4.5545, -4.6014, -4.6106, -4.7731, -4.8073, -4.7911, -4.8172, -4.8573, -4.9635, -4.9722, -5.0793, -5.0662, -5.067, -5.0565, -5.1242, -5.1983, -2.7664, -3.0533, -3.3584, -3.5705, -3.9381, -3.9342, -3.9333, -4.1151, -4.0901, -4.2181, -4.2652, -4.399, -4.4706, -4.5044, -4.5249, -4.6607, -4.8068, -4.8091, -4.8361, -4.7918, -4.8447, -4.7633, -4.9032, -4.874, -4.9666, -4.9503, -4.8785, -4.9793, -5.0073, -5.0906, -5.0351, -3.1625, -3.2934, -3.3098, -3.4272, -3.4634, -3.4513, -3.975, -4.0834, -4.1418, -4.1589, -4.1976, -4.134, -4.2423, -4.2395, -4.2641, -4.2845, -4.3001, -4.4261, -4.6371, -4.5752, -4.7591, -4.7371, -4.7155, -4.8326, -4.8043, -4.8262, -4.8701, -4.9287, -5.1565, -5.168, -5.1289, -5.1204], \"loglift\": [30.0, 29.0, 28.0, 27.0, 26.0, 25.0, 24.0, 23.0, 22.0, 21.0, 20.0, 19.0, 18.0, 17.0, 16.0, 15.0, 14.0, 13.0, 12.0, 11.0, 10.0, 9.0, 8.0, 7.0, 6.0, 5.0, 4.0, 3.0, 2.0, 1.0, 0.7976, 0.7976, 0.7973, 0.7973, 0.7973, 0.7973, 0.797, 0.797, 0.7968, 0.7964, 0.7963, 0.7963, 0.7962, 0.7962, 0.7962, 0.7961, 0.7959, 0.7957, 0.7957, 0.7956, 0.7956, 0.7955, 0.7954, 0.7951, 0.7951, 0.795, 0.7949, 0.7949, 0.7949, 0.7945, 1.1698, 1.1697, 1.1695, 1.1693, 1.1689, 1.1689, 1.1687, 1.1687, 1.1686, 1.1685, 1.1683, 1.1682, 1.168, 1.168, 1.1678, 1.1675, 1.1671, 1.1671, 1.1671, 1.167, 1.167, 1.167, 1.1669, 1.1669, 1.1668, 1.1668, 1.1668, 1.1667, 1.1663, 1.1663, 1.166, 1.4289, 1.4289, 1.4288, 1.4288, 1.4287, 1.4287, 1.4281, 1.4278, 1.4277, 1.4276, 1.4276, 1.4276, 1.4276, 1.4275, 1.4274, 1.4273, 1.4273, 1.4271, 1.4264, 1.4264, 1.4262, 1.4261, 1.426, 1.4259, 1.4258, 1.4257, 1.4254, 1.4251, 1.4245, 1.4244, 1.4243, 1.4242]}, \"token.table\": {\"Topic\": [2, 2, 3, 1, 3, 1, 2, 1, 3, 2, 2, 3, 2, 1, 2, 3, 3, 1, 2, 2, 3, 1, 1, 1, 2, 1, 3, 1, 1, 3, 3, 1, 1, 3, 2, 3, 2, 1, 2, 2, 1, 3, 1, 3, 1, 2, 3, 2, 2, 3, 2, 2, 3, 3, 1, 1, 2, 2, 3, 2, 3, 2, 1, 1, 3, 1, 2, 2, 2, 2, 3, 1, 2, 3, 1, 2, 1, 3, 1, 1, 2, 1, 3, 3, 3, 3, 3, 3, 1, 3, 1, 2, 1, 3], \"Freq\": [0.9991623839280592, 0.997118387774599, 0.9944409086130279, 0.9993348878280837, 0.9951118513661261, 0.998054322846375, 0.9990078619564201, 0.997640594127986, 0.9970617928397436, 0.997816466850198, 0.9977617450296633, 0.9993091169168322, 0.9993684294265354, 0.9973862624584038, 0.9947586662973971, 0.9967849800553932, 0.9984166537755902, 0.99951080478855, 0.9987121347718961, 0.9982037956974462, 0.9959514161594193, 0.9991936066746825, 0.9984605897344436, 0.0015878202011098388, 0.9987389064980887, 0.99830404901072, 0.9943184650752426, 0.9987075225796859, 0.9956725795452144, 0.9961558227252085, 0.9977235589017259, 0.9970475752635574, 0.9988898823737392, 0.9937481336800924, 0.9949859257778272, 0.9995589441388906, 0.9977632444633215, 0.9993596614346568, 0.9959970772736956, 0.9997335257265355, 0.9997776761367377, 0.9975778464382836, 0.9978044714640766, 0.9994833004918684, 0.9997619912288076, 0.9977420111708047, 0.998152100402216, 0.9996423134583374, 0.9986072511121121, 0.9964591703584538, 0.9949654000344448, 0.9974478671605105, 0.9963082283771342, 0.9954180216064245, 0.9984743966657453, 0.9990405798478119, 0.9967942374449422, 0.9975523633091187, 0.9994050897701944, 0.994573991806396, 0.9990728034638859, 0.9971312881277993, 0.9995272272667381, 0.9990636363340507, 0.997261539847564, 0.9978120769843647, 0.9960213423628742, 0.9968846605354734, 0.9986971874935726, 0.9975861041289896, 0.996684505302918, 0.9977582737099823, 0.997072986083754, 0.9992384053060582, 0.99758494320074, 0.9983147238149194, 0.9977419370260759, 0.9944434736329965, 0.9986240127530428, 0.9968469624343146, 0.996572258778384, 0.997654757751541, 0.9976752438873604, 0.9973750183135717, 0.9938411383164845, 0.9968068371759162, 0.9988535160447621, 0.9962214758295032, 0.9993197011061175, 0.995689262346165, 0.9983996499658795, 0.9992125476786704, 0.9983296214118386, 0.9963259333870682], \"Term\": [\"alas\", \"ambil\", \"angkat\", \"antar\", \"aplikasi\", \"bagus\", \"baik\", \"barang\", \"bawa\", \"bayar\", \"beli\", \"bilang\", \"buruk\", \"butuh\", \"cabang\", \"cari\", \"cek\", \"cepat\", \"cod\", \"customer\", \"di\", \"ekspedisi\", \"estimasi\", \"ganti\", \"ganti\", \"gerak\", \"handphone\", \"hari\", \"hilang\", \"hubung\", \"informasi\", \"jalan\", \"jasa\", \"jemput\", \"jual\", \"kantor\", \"karyawan\", \"kecewa\", \"kembali\", \"kerja\", \"kirim\", \"konfirmasi\", \"kota\", \"kurir\", \"lambat\", \"langgan\", \"langsung\", \"layan\", \"lebih\", \"lengkap\", \"mahal\", \"malas\", \"mana\", \"masuk\", \"minggu\", \"nama\", \"nan\", \"niat\", \"nomor\", \"ongkir\", \"orang\", \"pagi\", \"pakai\", \"paket\", \"pas\", \"pesan\", \"pindah\", \"profesional\", \"pusat\", \"ramah\", \"resi\", \"respon\", \"rugi\", \"rumah\", \"salah\", \"service\", \"sesuai\", \"sopan\", \"sortir\", \"stuck\", \"suruh\", \"tahan\", \"telepon\", \"telpon\", \"tera\", \"terang\", \"terima\", \"tu\", \"tuju\", \"tulis\", \"tunggu\", \"tutup\", \"waktu\", \"whatsapp\"]}, \"R\": 30, \"lambda.step\": 0.01, \"plot.opts\": {\"xlab\": \"PC1\", \"ylab\": \"PC2\"}, \"topic.order\": [2, 1, 3]};\n",
       "\n",
       "function LDAvis_load_lib(url, callback){\n",
       "  var s = document.createElement('script');\n",
       "  s.src = url;\n",
       "  s.async = true;\n",
       "  s.onreadystatechange = s.onload = callback;\n",
       "  s.onerror = function(){console.warn(\"failed to load library \" + url);};\n",
       "  document.getElementsByTagName(\"head\")[0].appendChild(s);\n",
       "}\n",
       "\n",
       "if(typeof(LDAvis) !== \"undefined\"){\n",
       "   // already loaded: just create the visualization\n",
       "   !function(LDAvis){\n",
       "       new LDAvis(\"#\" + \"ldavis_el2667219963442752327981330622\", ldavis_el2667219963442752327981330622_data);\n",
       "   }(LDAvis);\n",
       "}else if(typeof define === \"function\" && define.amd){\n",
       "   // require.js is available: use it to load d3/LDAvis\n",
       "   require.config({paths: {d3: \"https://d3js.org/d3.v5\"}});\n",
       "   require([\"d3\"], function(d3){\n",
       "      window.d3 = d3;\n",
       "      LDAvis_load_lib(\"https://cdn.jsdelivr.net/gh/bmabey/pyLDAvis@3.4.0/pyLDAvis/js/ldavis.v3.0.0.js\", function(){\n",
       "        new LDAvis(\"#\" + \"ldavis_el2667219963442752327981330622\", ldavis_el2667219963442752327981330622_data);\n",
       "      });\n",
       "    });\n",
       "}else{\n",
       "    // require.js not available: dynamically load d3 & LDAvis\n",
       "    LDAvis_load_lib(\"https://d3js.org/d3.v5.js\", function(){\n",
       "         LDAvis_load_lib(\"https://cdn.jsdelivr.net/gh/bmabey/pyLDAvis@3.4.0/pyLDAvis/js/ldavis.v3.0.0.js\", function(){\n",
       "                 new LDAvis(\"#\" + \"ldavis_el2667219963442752327981330622\", ldavis_el2667219963442752327981330622_data);\n",
       "            })\n",
       "         });\n",
       "}\n",
       "</script>"
      ],
      "text/plain": [
       "<IPython.core.display.HTML object>"
      ]
     },
     "execution_count": 47,
     "metadata": {},
     "output_type": "execute_result"
    }
   ],
   "source": [
    "vis2 = gensimvis.prepare(lda_model_bagus, corpus2, dictionary2)\n",
    "pyLDAvis.display(vis)"
   ]
  },
  {
   "cell_type": "code",
   "execution_count": 48,
   "metadata": {},
   "outputs": [],
   "source": [
    "# assign label per topic\n",
    "topic_labels_bagus = {\n",
    "    0: \"Pelayanan Bagus\",\n",
    "    1: \"Kantor Cabang\",\n",
    "    2: \"Respon Staff\"\n",
    "}"
   ]
  },
  {
   "cell_type": "code",
   "execution_count": 49,
   "metadata": {},
   "outputs": [
    {
     "name": "stderr",
     "output_type": "stream",
     "text": [
      "C:\\Users\\Niko Amrullah Hakam\\AppData\\Local\\Temp\\ipykernel_26672\\2970947602.py:3: SettingWithCopyWarning: \n",
      "A value is trying to be set on a copy of a slice from a DataFrame.\n",
      "Try using .loc[row_indexer,col_indexer] = value instead\n",
      "\n",
      "See the caveats in the documentation: https://pandas.pydata.org/pandas-docs/stable/user_guide/indexing.html#returning-a-view-versus-a-copy\n",
      "  bagus_modeling['topic'] = [topic_labels_bagus[topic] for topic in doc_topics]\n"
     ]
    }
   ],
   "source": [
    "# Assign labels to documents\n",
    "doc_topics = [max(lda_model_bagus.get_document_topics(doc), key=lambda x: x[1])[0] for doc in corpus2]\n",
    "bagus_modeling['topic'] = [topic_labels_bagus[topic] for topic in doc_topics]"
   ]
  },
  {
   "cell_type": "code",
   "execution_count": 50,
   "metadata": {},
   "outputs": [
    {
     "data": {
      "text/html": [
       "<div>\n",
       "<style scoped>\n",
       "    .dataframe tbody tr th:only-of-type {\n",
       "        vertical-align: middle;\n",
       "    }\n",
       "\n",
       "    .dataframe tbody tr th {\n",
       "        vertical-align: top;\n",
       "    }\n",
       "\n",
       "    .dataframe thead th {\n",
       "        text-align: right;\n",
       "    }\n",
       "</style>\n",
       "<table border=\"1\" class=\"dataframe\">\n",
       "  <thead>\n",
       "    <tr style=\"text-align: right;\">\n",
       "      <th></th>\n",
       "      <th>rating</th>\n",
       "      <th>reviews</th>\n",
       "      <th>company</th>\n",
       "      <th>province</th>\n",
       "      <th>parsed_date</th>\n",
       "      <th>processed_reviews</th>\n",
       "      <th>tokenized_reviews</th>\n",
       "      <th>topic</th>\n",
       "    </tr>\n",
       "  </thead>\n",
       "  <tbody>\n",
       "    <tr>\n",
       "      <th>0</th>\n",
       "      <td>5</td>\n",
       "      <td>Located at the Padang Old City area, just arou...</td>\n",
       "      <td>JNE</td>\n",
       "      <td>Aceh</td>\n",
       "      <td>2024-04-25</td>\n",
       "      <td>letak kawasan kota tua jembatan siti nurbaya s...</td>\n",
       "      <td>[letak, kawasan, kota, tua, jembatan, siti, nu...</td>\n",
       "      <td>Pelayanan Bagus</td>\n",
       "    </tr>\n",
       "    <tr>\n",
       "      <th>2</th>\n",
       "      <td>5</td>\n",
       "      <td>Nice Place, they're working on rebuild their o...</td>\n",
       "      <td>JNE</td>\n",
       "      <td>Aceh</td>\n",
       "      <td>2022-01-21</td>\n",
       "      <td>bagus upaya bangun kantor orang orang hebat layan</td>\n",
       "      <td>[bagus, upaya, bangun, kantor, orang, orang, h...</td>\n",
       "      <td>Pelayanan Bagus</td>\n",
       "    </tr>\n",
       "    <tr>\n",
       "      <th>3</th>\n",
       "      <td>5</td>\n",
       "      <td>Good delivery service for customers in this co...</td>\n",
       "      <td>JNE</td>\n",
       "      <td>Aceh</td>\n",
       "      <td>2023-01-21</td>\n",
       "      <td>kirim langgan negara</td>\n",
       "      <td>[kirim, langgan, negara]</td>\n",
       "      <td>Pelayanan Bagus</td>\n",
       "    </tr>\n",
       "    <tr>\n",
       "      <th>4</th>\n",
       "      <td>5</td>\n",
       "      <td>Good service</td>\n",
       "      <td>JNE</td>\n",
       "      <td>Aceh</td>\n",
       "      <td>2022-01-21</td>\n",
       "      <td>layan bagus</td>\n",
       "      <td>[layan, bagus]</td>\n",
       "      <td>Pelayanan Bagus</td>\n",
       "    </tr>\n",
       "    <tr>\n",
       "      <th>5</th>\n",
       "      <td>5</td>\n",
       "      <td>Very nice building and nice staff</td>\n",
       "      <td>JNE</td>\n",
       "      <td>Aceh</td>\n",
       "      <td>2023-01-21</td>\n",
       "      <td>bangun bagus staf</td>\n",
       "      <td>[bangun, bagus, staf]</td>\n",
       "      <td>Pelayanan Bagus</td>\n",
       "    </tr>\n",
       "  </tbody>\n",
       "</table>\n",
       "</div>"
      ],
      "text/plain": [
       "   rating                                            reviews company province  \\\n",
       "0       5  Located at the Padang Old City area, just arou...     JNE     Aceh   \n",
       "2       5  Nice Place, they're working on rebuild their o...     JNE     Aceh   \n",
       "3       5  Good delivery service for customers in this co...     JNE     Aceh   \n",
       "4       5                                       Good service     JNE     Aceh   \n",
       "5       5                  Very nice building and nice staff     JNE     Aceh   \n",
       "\n",
       "  parsed_date                                  processed_reviews  \\\n",
       "0  2024-04-25  letak kawasan kota tua jembatan siti nurbaya s...   \n",
       "2  2022-01-21  bagus upaya bangun kantor orang orang hebat layan   \n",
       "3  2023-01-21                               kirim langgan negara   \n",
       "4  2022-01-21                                        layan bagus   \n",
       "5  2023-01-21                                  bangun bagus staf   \n",
       "\n",
       "                                   tokenized_reviews            topic  \n",
       "0  [letak, kawasan, kota, tua, jembatan, siti, nu...  Pelayanan Bagus  \n",
       "2  [bagus, upaya, bangun, kantor, orang, orang, h...  Pelayanan Bagus  \n",
       "3                           [kirim, langgan, negara]  Pelayanan Bagus  \n",
       "4                                     [layan, bagus]  Pelayanan Bagus  \n",
       "5                              [bangun, bagus, staf]  Pelayanan Bagus  "
      ]
     },
     "execution_count": 50,
     "metadata": {},
     "output_type": "execute_result"
    }
   ],
   "source": [
    "bagus_modeling.head()"
   ]
  },
  {
   "cell_type": "code",
   "execution_count": 51,
   "metadata": {},
   "outputs": [
    {
     "data": {
      "text/plain": [
       "topic\n",
       "Pelayanan Bagus    3711\n",
       "Respon Staff         14\n",
       "Kantor Cabang        12\n",
       "Name: count, dtype: int64"
      ]
     },
     "execution_count": 51,
     "metadata": {},
     "output_type": "execute_result"
    }
   ],
   "source": [
    "bagus_modeling['topic'].value_counts()"
   ]
  },
  {
   "cell_type": "code",
   "execution_count": 52,
   "metadata": {},
   "outputs": [],
   "source": [
    "bagus_modeling.to_csv(\"bagus_labeled_documents.csv\", index=False)"
   ]
  },
  {
   "cell_type": "markdown",
   "metadata": {},
   "source": [
    "# 3. Saving the models"
   ]
  },
  {
   "cell_type": "markdown",
   "metadata": {},
   "source": [
    "## a. buruk_modeling"
   ]
  },
  {
   "cell_type": "code",
   "execution_count": 53,
   "metadata": {},
   "outputs": [],
   "source": [
    "# # buruk_modeling\n",
    "# lda_model.save('jelek_lda_model.model')\n",
    "\n",
    "# print(\"LDA model saved as 'jelek_lda_model.model'\")\n"
   ]
  },
  {
   "cell_type": "code",
   "execution_count": 54,
   "metadata": {},
   "outputs": [],
   "source": [
    "# # Save the dictionary\n",
    "# dictionary.save('jelek_lda_dictionary.dict')\n",
    "\n",
    "# # Save the corpus\n",
    "# with open('jelek_lda_corpus.pkl', 'wb') as f:\n",
    "#     pickle.dump(corpus, f)\n",
    "\n",
    "# print(\"Dictionary and corpus saved.\")"
   ]
  },
  {
   "cell_type": "markdown",
   "metadata": {},
   "source": [
    "## b. bagus_modeling"
   ]
  },
  {
   "cell_type": "code",
   "execution_count": 55,
   "metadata": {},
   "outputs": [],
   "source": [
    "# # buruk_modeling\n",
    "# lda_model_bagus.save('bagus_lda_model.model')\n",
    "\n",
    "# print(\"LDA model saved as 'bagus_lda_model.model'\")"
   ]
  },
  {
   "cell_type": "code",
   "execution_count": 56,
   "metadata": {},
   "outputs": [],
   "source": [
    "# # Save the dictionary\n",
    "# dictionary2.save('bagus_lda_dictionary.dict')\n",
    "\n",
    "# # Save the corpus\n",
    "# with open('bagus_lda_corpus.pkl', 'wb') as f:\n",
    "#     pickle.dump(corpus2, f)\n",
    "\n",
    "# print(\"Dictionary and corpus saved.\")"
   ]
  }
 ],
 "metadata": {
  "kernelspec": {
   "display_name": "secondphase",
   "language": "python",
   "name": "python3"
  },
  "language_info": {
   "codemirror_mode": {
    "name": "ipython",
    "version": 3
   },
   "file_extension": ".py",
   "mimetype": "text/x-python",
   "name": "python",
   "nbconvert_exporter": "python",
   "pygments_lexer": "ipython3",
   "version": "3.9.21"
  }
 },
 "nbformat": 4,
 "nbformat_minor": 2
}
