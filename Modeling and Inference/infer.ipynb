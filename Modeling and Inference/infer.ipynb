{
 "cells": [
  {
   "cell_type": "markdown",
   "metadata": {},
   "source": [
    "# 1. IMports"
   ]
  },
  {
   "cell_type": "code",
   "execution_count": 2,
   "metadata": {},
   "outputs": [],
   "source": [
    "from gensim.models import LdaModel\n",
    "from gensim.corpora import Dictionary\n",
    "import pickle\n",
    "import pandas as pd\n",
    "\n",
    "from nltk.tokenize import word_tokenize\n",
    "\n",
    "# from custom script in this dir\n",
    "from prepro_script import text_preprocessing_id"
   ]
  },
  {
   "cell_type": "markdown",
   "metadata": {},
   "source": [
    "# 2. Infer\n"
   ]
  },
  {
   "cell_type": "markdown",
   "metadata": {},
   "source": [
    "## a. Jelek"
   ]
  },
  {
   "cell_type": "code",
   "execution_count": 2,
   "metadata": {},
   "outputs": [
    {
     "name": "stdout",
     "output_type": "stream",
     "text": [
      "Model, dictionary, and corpus loaded successfully.\n"
     ]
    }
   ],
   "source": [
    "# Load the saved LDA model\n",
    "jelek_lda_model = LdaModel.load('jelek_lda_model.model')\n",
    "\n",
    "# Load the dictionary\n",
    "jelek_dictionary = Dictionary.load('jelek_lda_dictionary.dict')\n",
    "\n",
    "# Load the corpus (optional, for validation purposes)\n",
    "with open('jelek_lda_corpus.pkl', 'rb') as f_jelek:\n",
    "    jelek_corpus = pickle.load(f_jelek)\n",
    "\n",
    "print(\"Model, dictionary, and corpus loaded successfully.\")"
   ]
  },
  {
   "cell_type": "code",
   "execution_count": 3,
   "metadata": {},
   "outputs": [],
   "source": [
    "jelek_topic_labels = {\n",
    "    0: \"Pelayan Buruk\",\n",
    "    1: \"Delay / Lambat\",\n",
    "    2: \"Miskomunikasi Kurir\"\n",
    "}"
   ]
  },
  {
   "cell_type": "markdown",
   "metadata": {},
   "source": [
    "### - Single infer"
   ]
  },
  {
   "cell_type": "code",
   "execution_count": 4,
   "metadata": {},
   "outputs": [],
   "source": [
    "# Single review\n",
    "jelek_new_review = \"Paket saya terlambat dan layanan buruk sekali.\""
   ]
  },
  {
   "cell_type": "code",
   "execution_count": 5,
   "metadata": {},
   "outputs": [],
   "source": [
    "# Preprocess the review\n",
    "jelek_processed_review = await text_preprocessing_id(jelek_new_review)"
   ]
  },
  {
   "cell_type": "code",
   "execution_count": 6,
   "metadata": {},
   "outputs": [
    {
     "name": "stdout",
     "output_type": "stream",
     "text": [
      "Review : Paket saya terlambat dan layanan buruk sekali.\n",
      "Processed Review: lambat buruk\n",
      "\n",
      "Inferred Topics with Labels:\n",
      "  Pelayan Buruk: 35.21%\n",
      "  Delay / Lambat: 47.88%\n",
      "  Miskomunikasi Kurir: 16.91%\n"
     ]
    }
   ],
   "source": [
    "\n",
    "# Convert to Bag of Words\n",
    "bow_vector = jelek_dictionary.doc2bow(jelek_processed_review.split())\n",
    "\n",
    "# Get topic distribution with labels\n",
    "topics = jelek_lda_model.get_document_topics(bow_vector, minimum_probability=0.0)\n",
    "\n",
    "# Display topics with labels\n",
    "print(f\"Review : {jelek_new_review}\")\n",
    "print(f\"Processed Review: {jelek_processed_review}\")\n",
    "print()\n",
    "print(\"Inferred Topics with Labels:\")\n",
    "for topic_id, prob in topics:\n",
    "    print(f\"  {jelek_topic_labels[topic_id]}: {prob:.2%}\")"
   ]
  },
  {
   "cell_type": "markdown",
   "metadata": {},
   "source": [
    "### - Batch Infer"
   ]
  },
  {
   "cell_type": "code",
   "execution_count": 29,
   "metadata": {},
   "outputs": [],
   "source": [
    "# batch reviews\n",
    "jelek_new_reviews = [\n",
    "    \"Paket saya terlambat dan layanan buruk sekali.\",\n",
    "    \"Opo toh iki cok. Bangsat. Barangku katut ndi cok. Kntl. Bubar ae. Gak guna!\",\n",
    "    \"Kurir sangat tidak sopan dang ngawur. Masak iya kirim tv di taruh di luar pagar rumah. Mengecewakan!\",\n",
    "    \"JNE pungo, hana utak, hanjeut meupike gob rugo, lage bui…😂😂😂\",\n",
    "    \"\"\"Dima kendala sanak.....lamo bana paket ko..\n",
    "    Jauh bana simpang haru ko....dari pagi tadi lai....baru jam 12 ba anta paket....sampai kini nda juo tibo2 ala jam 2 lewat lo\n",
    "    Deh mande mak oi.......\"\"\",\n",
    "    \"\"\"Ndk sasuai jo namo, paket berhari2 di padang ndk dikirim ka ulak karang, sicepat a namoe tu\n",
    "    Ancak tutuik se lai\"\"\",\n",
    "    \"Iko cocok namonyo diganti jadi SI PANTEK, alamat alah jaleh bakecekan bad adress, sudah tu barang di return baliak, eee kapunduang\"\n",
    "]"
   ]
  },
  {
   "cell_type": "code",
   "execution_count": 30,
   "metadata": {},
   "outputs": [
    {
     "name": "stdout",
     "output_type": "stream",
     "text": [
      "Review: Paket saya terlambat dan layanan buruk sekali.\n",
      "Processed Review : lambat buruk\n",
      "Inferred Topics with Labels:\n",
      "  Pelayan Buruk: 35.21%\n",
      "  Delay / Lambat: 47.88%\n",
      "  Miskomunikasi Kurir: 16.91%\n",
      "\n",
      "Review: Opo toh iki cok. Bangsat. Barangku katut ndi cok. Kntl. Bubar ae. Gak guna!\n",
      "Processed Review : barang bagus bubar guna\n",
      "Inferred Topics with Labels:\n",
      "  Pelayan Buruk: 19.24%\n",
      "  Delay / Lambat: 57.63%\n",
      "  Miskomunikasi Kurir: 23.13%\n",
      "\n",
      "Review: Kurir sangat tidak sopan dang ngawur. Masak iya kirim tv di taruh di luar pagar rumah. Mengecewakan!\n",
      "Processed Review : sopan dang sembarang masak tv taruh pagar rumah kecewa\n",
      "Inferred Topics with Labels:\n",
      "  Pelayan Buruk: 20.61%\n",
      "  Delay / Lambat: 35.18%\n",
      "  Miskomunikasi Kurir: 44.20%\n",
      "\n",
      "Review: JNE pungo, hana utak, hanjeut meupike gob rugo, lage bui…😂😂😂\n",
      "Processed Review : otak mikir orang kalah kaya narapidana\n",
      "Inferred Topics with Labels:\n",
      "  Pelayan Buruk: 26.10%\n",
      "  Delay / Lambat: 44.19%\n",
      "  Miskomunikasi Kurir: 29.71%\n",
      "\n",
      "Review: Dima kendala sanak.....lamo bana paket ko..\n",
      "    Jauh bana simpang haru ko....dari pagi tadi lai....baru jam 12 ba anta paket....sampai kini nda juo tibo2 ala jam 2 lewat lo\n",
      "    Deh mande mak oi.......\n",
      "Processed Review : di mana kendala lambat tiga pagi antar mande oi\n",
      "Inferred Topics with Labels:\n",
      "  Pelayan Buruk: 27.52%\n",
      "  Delay / Lambat: 41.98%\n",
      "  Miskomunikasi Kurir: 30.50%\n",
      "\n",
      "Review: Ndk sasuai jo namo, paket berhari2 di padang ndk dikirim ka ulak karang, sicepat a namoe tu\n",
      "    Ancak tutuik se lai\n",
      "Processed Review : sesuai nama hari lapang kirim terumbu karang a namoe tu tutup\n",
      "Inferred Topics with Labels:\n",
      "  Pelayan Buruk: 20.82%\n",
      "  Delay / Lambat: 55.58%\n",
      "  Miskomunikasi Kurir: 23.60%\n",
      "\n",
      "Review: Iko cocok namonyo diganti jadi SI PANTEK, alamat alah jaleh bakecekan bad adress, sudah tu barang di return baliak, eee kapunduang\n",
      "Processed Review : cocok nama ganti tulis kembali e kapunduang\n",
      "Inferred Topics with Labels:\n",
      "  Pelayan Buruk: 32.00%\n",
      "  Delay / Lambat: 40.63%\n",
      "  Miskomunikasi Kurir: 27.37%\n",
      "\n"
     ]
    }
   ],
   "source": [
    "for review in jelek_new_reviews:\n",
    "    processed_review = await text_preprocessing_id(review)\n",
    "    bow_vector = jelek_dictionary.doc2bow(processed_review.split())\n",
    "    topics = jelek_lda_model.get_document_topics(bow_vector, minimum_probability=0.0)\n",
    "    print(f\"Review: {review}\")\n",
    "    print(f\"Processed Review : {processed_review}\")\n",
    "    print(\"Inferred Topics with Labels:\")\n",
    "    for topic_id, prob in topics:\n",
    "        print(f\"  {jelek_topic_labels[topic_id]}: {prob:.2%}\")\n",
    "    print()"
   ]
  },
  {
   "cell_type": "markdown",
   "metadata": {},
   "source": [
    "## b. Bagus"
   ]
  }
 ],
 "metadata": {
  "kernelspec": {
   "display_name": "secondphase",
   "language": "python",
   "name": "python3"
  },
  "language_info": {
   "codemirror_mode": {
    "name": "ipython",
    "version": 3
   },
   "file_extension": ".py",
   "mimetype": "text/x-python",
   "name": "python",
   "nbconvert_exporter": "python",
   "pygments_lexer": "ipython3",
   "version": "3.9.21"
  }
 },
 "nbformat": 4,
 "nbformat_minor": 2
}
